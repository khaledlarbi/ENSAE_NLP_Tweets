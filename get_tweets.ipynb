{
 "cells": [
  {
   "cell_type": "code",
   "execution_count": 1,
   "metadata": {
    "colab": {
     "base_uri": "https://localhost:8080/"
    },
    "id": "k7dO2HnL1KGa",
    "outputId": "8be24de5-b9dd-4925-dc1c-4c99b8472d17"
   },
   "outputs": [
    {
     "name": "stdout",
     "output_type": "stream",
     "text": [
      "Collecting git+https://github.com/tweepy/tweepy.git\n",
      "  Cloning https://github.com/tweepy/tweepy.git to c:\\users\\pierr\\appdata\\local\\temp\\pip-req-build-bp18sp6p\n",
      "Collecting oauthlib<4,>=3.2.0\n",
      "  Downloading oauthlib-3.2.0-py3-none-any.whl (151 kB)\n",
      "Collecting requests<3,>=2.27.0\n",
      "  Downloading requests-2.27.1-py2.py3-none-any.whl (63 kB)\n",
      "Collecting requests-oauthlib<2,>=1.2.0\n",
      "  Downloading requests_oauthlib-1.3.1-py2.py3-none-any.whl (23 kB)\n",
      "Requirement already satisfied: idna<4,>=2.5; python_version >= \"3\" in c:\\users\\pierr\\anaconda3\\lib\\site-packages (from requests<3,>=2.27.0->tweepy==4.6.0) (2.8)\n",
      "Collecting charset-normalizer~=2.0.0; python_version >= \"3\"\n",
      "  Downloading charset_normalizer-2.0.12-py3-none-any.whl (39 kB)\n",
      "Requirement already satisfied: urllib3<1.27,>=1.21.1 in c:\\users\\pierr\\anaconda3\\lib\\site-packages (from requests<3,>=2.27.0->tweepy==4.6.0) (1.25.8)\n",
      "Requirement already satisfied: certifi>=2017.4.17 in c:\\users\\pierr\\anaconda3\\lib\\site-packages (from requests<3,>=2.27.0->tweepy==4.6.0) (2019.11.28)\n",
      "Building wheels for collected packages: tweepy\n",
      "  Building wheel for tweepy (setup.py): started\n",
      "  Building wheel for tweepy (setup.py): finished with status 'done'\n",
      "  Created wheel for tweepy: filename=tweepy-4.6.0-py2.py3-none-any.whl size=76640 sha256=bca0aa118ac0a4c7da1c44b104e89f1035f9ca770ae3315918a492e2b0d672e8\n",
      "  Stored in directory: C:\\Users\\pierr\\AppData\\Local\\Temp\\pip-ephem-wheel-cache-s9r7tyw4\\wheels\\b4\\a5\\5a\\5074abdb9f4bd5bd0e22631a63fc41ae2fa71ad83780ea18d1\n",
      "Successfully built tweepy\n",
      "Installing collected packages: oauthlib, charset-normalizer, requests, requests-oauthlib, tweepy\n",
      "  Attempting uninstall: requests\n",
      "    Found existing installation: requests 2.22.0\n",
      "    Uninstalling requests-2.22.0:\n",
      "      Successfully uninstalled requests-2.22.0\n",
      "Successfully installed charset-normalizer-2.0.12 oauthlib-3.2.0 requests-2.27.1 requests-oauthlib-1.3.1 tweepy-4.6.0\n"
     ]
    },
    {
     "name": "stderr",
     "output_type": "stream",
     "text": [
      "  Running command git clone -q https://github.com/tweepy/tweepy.git 'C:\\Users\\pierr\\AppData\\Local\\Temp\\pip-req-build-bp18sp6p'\n"
     ]
    }
   ],
   "source": [
    "!pip install git+https://github.com/tweepy/tweepy.git"
   ]
  },
  {
   "cell_type": "code",
   "execution_count": 2,
   "metadata": {
    "id": "65p2fll61NPh"
   },
   "outputs": [],
   "source": [
    "import tweepy\n",
    "\n",
    "client = tweepy.Client(\"AAAAAAAAAAAAAAAAAAAAAK8BaQEAAAAAlP80BTcIHtkgCSz78AT7vuDVhE8%3DXvIywcedAsAlXCikgVGBwia5ftNEZjRTh6w6RGXEXX8z6n99bH\")"
   ]
  },
  {
   "cell_type": "code",
   "execution_count": 17,
   "metadata": {
    "id": "uEDmBqzE3RkM"
   },
   "outputs": [],
   "source": [
    "idEZ  = client.get_user(username = \"ZemmourEric\").data.id"
   ]
  },
  {
   "cell_type": "code",
   "execution_count": 18,
   "metadata": {},
   "outputs": [],
   "source": [
    "tweets = client.get_users_tweets(idEZ, exclude = \"retweets\", max_results = 5)"
   ]
  },
  {
   "cell_type": "code",
   "execution_count": 23,
   "metadata": {},
   "outputs": [],
   "source": [
    "tweets2 = client.get_users_tweets(idEZ, exclude = \"retweets\", max_results = 5, until_id = \"1503495619419201538\")"
   ]
  },
  {
   "cell_type": "code",
   "execution_count": 28,
   "metadata": {},
   "outputs": [],
   "source": [
    "def get_tweets(username):\n",
    "    idu  = client.get_user(username = username).data.id\n",
    "    \n",
    "    all_tweets = {\"id_tweet\" : [], \"text_tweet\" : []}\n",
    "    tweets = client.get_users_tweets(idu, exclude = \"retweets\", max_results = 100)\n",
    "    all_tweets[\"id_tweet\"] = all_tweets[\"id_tweet\"] + [tweets.data[j].id for j in range(len(tweets.data))]\n",
    "    all_tweets[\"text_tweet\"] = all_tweets[\"text_tweet\"] + [tweets.data[j].text for j in range(len(tweets.data))]\n",
    "    next_id = tweets.data[len(tweets.data) - 1].id\n",
    "    for i in range(50):\n",
    "        try:\n",
    "            tweets = client.get_users_tweets(idu, exclude = \"retweets\", max_results = 100, until_id = next_id)\n",
    "            all_tweets[\"id_tweet\"] = all_tweets[\"id_tweet\"] + [tweets.data[j].id for j in range(len(tweets.data))]\n",
    "            all_tweets[\"text_tweet\"] = all_tweets[\"text_tweet\"] + [tweets.data[j].text for j in range(len(tweets.data))]\n",
    "            next_id = tweets.data[len(tweets.data) - 1].id\n",
    "        except:\n",
    "            break\n",
    "    \n",
    "    return all_tweets"
   ]
  },
  {
   "cell_type": "code",
   "execution_count": 38,
   "metadata": {},
   "outputs": [],
   "source": [
    "all_tweets_jlmelenchon = get_tweets(\"JLMelenchon\")\n",
    "all_tweets_AQuatennens = get_tweets(\"AQuatennens\")\n",
    "all_tweets_Francois_Ruffin = get_tweets(\"Francois_Ruffin\")\n",
    "all_tweets_melenchon_2022 = get_tweets(\"melenchon_2022\")\n",
    "\n",
    "all_tweets_EmmanuelMacron = get_tweets(\"EmmanuelMacron\")\n",
    "all_tweets_CCastaner = get_tweets(\"CCastaner\")\n",
    "all_tweets_StanGuerini = get_tweets(\"StanGuerini\")\n",
    "all_tweets_avecvous = get_tweets(\"avecvous\")\n",
    "\n",
    "all_tweets_vpecresse = get_tweets(\"vpecresse\")\n",
    "all_tweets_othmannasrou = get_tweets(\"othmannasrou\")\n",
    "all_tweets_avecValerie = get_tweets(\"avecValerie\")\n",
    "all_tweets_BrunoRetailleau = get_tweets(\"BrunoRetailleau\")\n",
    "\n",
    "all_tweets_ZemmourEric = get_tweets(\"ZemmourEric\")\n",
    "all_tweets_G_Peltier = get_tweets(\"G_Peltier\")\n",
    "all_tweets_DamienRieu = get_tweets(\"DamienRieu\")\n",
    "all_tweets_reconquete_off = get_tweets(\"reconquete_off\")\n",
    "\n",
    "all_tweets_MLP_officiel = get_tweets(\"MLP_officiel\")\n",
    "all_tweets_J_Bardella = get_tweets(\"J_Bardella\")\n",
    "all_tweets_RNational_off = get_tweets(\"RNational_off\")\n",
    "all_tweets_JulienOdoul = get_tweets(\"JulienOdoul\")"
   ]
  },
  {
   "cell_type": "code",
   "execution_count": 40,
   "metadata": {},
   "outputs": [],
   "source": [
    "import pandas as pd"
   ]
  },
  {
   "cell_type": "code",
   "execution_count": 42,
   "metadata": {},
   "outputs": [],
   "source": [
    "dataframe_all_tweets_jlmelenchon = pd.DataFrame(data=all_tweets_jlmelenchon)\n",
    "dataframe_all_tweets_AQuatennens = pd.DataFrame(data=all_tweets_AQuatennens)\n",
    "dataframe_all_tweets_Francois_Ruffin = pd.DataFrame(data=all_tweets_Francois_Ruffin)\n",
    "dataframe_all_tweets_melenchon_2022 = pd.DataFrame(data=all_tweets_melenchon_2022)\n",
    "\n",
    "dataframe_all_tweets_EmmanuelMacron = pd.DataFrame(data=all_tweets_EmmanuelMacron)\n",
    "dataframe_all_tweets_CCastaner = pd.DataFrame(data=all_tweets_CCastaner)\n",
    "dataframe_all_tweets_StanGuerini = pd.DataFrame(data=all_tweets_StanGuerini)\n",
    "dataframe_all_tweets_avecvous = pd.DataFrame(data=all_tweets_avecvous)\n",
    "\n",
    "dataframe_all_tweets_vpecresse = pd.DataFrame(data=all_tweets_vpecresse)\n",
    "dataframe_all_tweets_othmannasrou = pd.DataFrame(data=all_tweets_othmannasrou)\n",
    "dataframe_all_tweets_avecValerie = pd.DataFrame(data=all_tweets_avecValerie)\n",
    "dataframe_all_tweets_BrunoRetailleau = pd.DataFrame(data=all_tweets_BrunoRetailleau)\n",
    "\n",
    "dataframe_all_tweets_ZemmourEric = pd.DataFrame(data=all_tweets_ZemmourEric)\n",
    "dataframe_all_tweets_G_Peltier = pd.DataFrame(data=all_tweets_G_Peltier)\n",
    "dataframe_all_tweets_DamienRieu = pd.DataFrame(data=all_tweets_DamienRieu)\n",
    "dataframe_all_tweets_reconquete_off = pd.DataFrame(data=all_tweets_reconquete_off)\n",
    "\n",
    "dataframe_all_tweets_MLP_officiel = pd.DataFrame(data=all_tweets_MLP_officiel)\n",
    "dataframe_all_tweets_J_Bardella = pd.DataFrame(data=all_tweets_J_Bardella)\n",
    "dataframe_all_tweets_RNational_off = pd.DataFrame(data=all_tweets_RNational_off)\n",
    "dataframe_all_tweets_JulienOdoul = pd.DataFrame(data=all_tweets_JulienOdoul)"
   ]
  },
  {
   "cell_type": "code",
   "execution_count": 43,
   "metadata": {},
   "outputs": [],
   "source": [
    "dataframe_all_tweets_jlmelenchon.to_csv(\"C:/Users/pierr/OneDrive/Documents/tweets/Melenchon/tweets_jlmelenchon.csv\")\n",
    "dataframe_all_tweets_AQuatennens.to_csv(\"C:/Users/pierr/OneDrive/Documents/tweets/Melenchon/tweets_AQuatennens.csv\")\n",
    "dataframe_all_tweets_Francois_Ruffin.to_csv(\"C:/Users/pierr/OneDrive/Documents/tweets/Melenchon/tweets_Francois_Ruffin.csv\")\n",
    "dataframe_all_tweets_melenchon_2022.to_csv(\"C:/Users/pierr/OneDrive/Documents/tweets/Melenchon/tweets_melenchon_2022.csv\")\n",
    "\n",
    "dataframe_all_tweets_EmmanuelMacron.to_csv(\"C:/Users/pierr/OneDrive/Documents/tweets/Macron/tweets_EmmanuelMacron.csv\")\n",
    "dataframe_all_tweets_CCastaner.to_csv(\"C:/Users/pierr/OneDrive/Documents/tweets/Macron/tweets_CCastaner.csv\")\n",
    "dataframe_all_tweets_StanGuerini.to_csv(\"C:/Users/pierr/OneDrive/Documents/tweets/Macron/tweets_StanGuerini.csv\")\n",
    "dataframe_all_tweets_avecvous.to_csv(\"C:/Users/pierr/OneDrive/Documents/tweets/Macron/tweets_avecvous.csv\")\n",
    "\n",
    "dataframe_all_tweets_vpecresse.to_csv(\"C:/Users/pierr/OneDrive/Documents/tweets/Pecresse/tweets_vpecresse.csv\")\n",
    "dataframe_all_tweets_othmannasrou.to_csv(\"C:/Users/pierr/OneDrive/Documents/tweets/Pecresse/tweets_othmannasrou.csv\")\n",
    "dataframe_all_tweets_avecValerie.to_csv(\"C:/Users/pierr/OneDrive/Documents/tweets/Pecresse/tweets_avecValerie.csv\")\n",
    "dataframe_all_tweets_BrunoRetailleau.to_csv(\"C:/Users/pierr/OneDrive/Documents/tweets/Pecresse/tweets_BrunoRetailleau.csv\")\n",
    "\n",
    "dataframe_all_tweets_ZemmourEric.to_csv(\"C:/Users/pierr/OneDrive/Documents/tweets/Zemmour/tweets_ZemmourEric.csv\")\n",
    "dataframe_all_tweets_G_Peltier.to_csv(\"C:/Users/pierr/OneDrive/Documents/tweets/Zemmour/tweets_G_Peltier.csv\")\n",
    "dataframe_all_tweets_DamienRieu.to_csv(\"C:/Users/pierr/OneDrive/Documents/tweets/Zemmour/tweets_DamienRieu.csv\")\n",
    "dataframe_all_tweets_reconquete_off.to_csv(\"C:/Users/pierr/OneDrive/Documents/tweets/Zemmour/tweets_reconquete_off.csv\")\n",
    "\n",
    "dataframe_all_tweets_MLP_officiel.to_csv(\"C:/Users/pierr/OneDrive/Documents/tweets/LePen/tweets_MLP_officiel.csv\")\n",
    "dataframe_all_tweets_J_Bardella.to_csv(\"C:/Users/pierr/OneDrive/Documents/tweets/LePen/tweets_J_Bardella.csv\")\n",
    "dataframe_all_tweets_RNational_off.to_csv(\"C:/Users/pierr/OneDrive/Documents/tweets/LePen/tweets_RNational_off.csv\")\n",
    "dataframe_all_tweets_JulienOdoul.to_csv(\"C:/Users/pierr/OneDrive/Documents/tweets/LePen/tweets_JulienOdoul.csv\")"
   ]
  },
  {
   "cell_type": "code",
   "execution_count": 191,
   "metadata": {},
   "outputs": [],
   "source": [
    "import re\n",
    "\n",
    "def remove_hashtag_url(dataframe):\n",
    "    for i in range(len(dataframe[\"text_tweet\"])):\n",
    "        dataframe[\"text_tweet\"][i] = re.sub(r'http\\S+', '', dataframe[\"text_tweet\"][i], flags=re.MULTILINE)\n",
    "        dataframe[\"text_tweet\"][i] = re.sub(r'#\\S+ ', '', dataframe[\"text_tweet\"][i], flags=re.MULTILINE)\n",
    "        dataframe[\"text_tweet\"][i] = re.sub(r'\\n', '', dataframe[\"text_tweet\"][i], flags=re.MULTILINE)\n",
    "        if len(re.sub(r' ', '', dataframe[\"text_tweet\"][i], flags=re.MULTILINE)) == 0:\n",
    "            dataframe.drop(i, inplace = True)\n",
    "    return dataframe"
   ]
  }
 ],
 "metadata": {
  "colab": {
   "collapsed_sections": [],
   "name": "Untitled0.ipynb",
   "provenance": []
  },
  "kernelspec": {
   "display_name": "Python 3",
   "language": "python",
   "name": "python3"
  },
  "language_info": {
   "codemirror_mode": {
    "name": "ipython",
    "version": 3
   },
   "file_extension": ".py",
   "mimetype": "text/x-python",
   "name": "python",
   "nbconvert_exporter": "python",
   "pygments_lexer": "ipython3",
   "version": "3.7.6"
  }
 },
 "nbformat": 4,
 "nbformat_minor": 1
}
