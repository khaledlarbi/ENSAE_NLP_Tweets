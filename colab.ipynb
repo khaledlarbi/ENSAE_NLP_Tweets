{
  "cells": [
    {
      "cell_type": "markdown",
      "metadata": {
        "id": "E16T8_vSkE0g"
      },
      "source": [
        "# Tweet like a futur president"
      ]
    },
    {
      "cell_type": "markdown",
      "metadata": {
        "id": "CA4yZsly3ulB"
      },
      "source": [
        "This notebook is split into 5 parts :\n",
        "- `Installation` provides code to install all packages and functions we used\n",
        "- `Download data` downloads models we trained and tweets we gathered\n",
        "- `Descriptive statistics` contains statistics and simple analysis on the tweets we studied\n",
        "- `Our results` contains functions that let people sample new tweets\n",
        "- `Training` contains functions that describes how we learnt each model.\n",
        "\n",
        "👉 Play with our results in this [cell](#scrollTo=DwAyJ7QaZcmB)\n"
      ]
    },
    {
      "cell_type": "markdown",
      "metadata": {
        "id": "Cvko025QDHx7"
      },
      "source": [
        "# 💽 Installation"
      ]
    },
    {
      "cell_type": "markdown",
      "metadata": {
        "id": "xqCEQQiMBSZP"
      },
      "source": [
        "Installation of `transformers` that is usefull for training models such as GPT2"
      ]
    },
    {
      "cell_type": "code",
      "execution_count": null,
      "metadata": {
        "id": "433uE8KMvXnY",
        "colab": {
          "base_uri": "https://localhost:8080/"
        },
        "outputId": "8278f1a2-061b-4eaa-e871-c5d2e7006bbb"
      },
      "outputs": [
        {
          "output_type": "stream",
          "name": "stdout",
          "text": [
            "Requirement already satisfied: transformers in /usr/local/lib/python3.7/dist-packages (4.18.0)\n",
            "Requirement already satisfied: huggingface-hub<1.0,>=0.1.0 in /usr/local/lib/python3.7/dist-packages (from transformers) (0.5.1)\n",
            "Requirement already satisfied: regex!=2019.12.17 in /usr/local/lib/python3.7/dist-packages (from transformers) (2019.12.20)\n",
            "Requirement already satisfied: tokenizers!=0.11.3,<0.13,>=0.11.1 in /usr/local/lib/python3.7/dist-packages (from transformers) (0.12.1)\n",
            "Requirement already satisfied: importlib-metadata in /usr/local/lib/python3.7/dist-packages (from transformers) (4.11.3)\n",
            "Requirement already satisfied: filelock in /usr/local/lib/python3.7/dist-packages (from transformers) (3.6.0)\n",
            "Requirement already satisfied: sacremoses in /usr/local/lib/python3.7/dist-packages (from transformers) (0.0.49)\n",
            "Requirement already satisfied: requests in /usr/local/lib/python3.7/dist-packages (from transformers) (2.23.0)\n",
            "Requirement already satisfied: pyyaml>=5.1 in /usr/local/lib/python3.7/dist-packages (from transformers) (6.0)\n",
            "Requirement already satisfied: tqdm>=4.27 in /usr/local/lib/python3.7/dist-packages (from transformers) (4.64.0)\n",
            "Requirement already satisfied: numpy>=1.17 in /usr/local/lib/python3.7/dist-packages (from transformers) (1.21.6)\n",
            "Requirement already satisfied: packaging>=20.0 in /usr/local/lib/python3.7/dist-packages (from transformers) (21.3)\n",
            "Requirement already satisfied: typing-extensions>=3.7.4.3 in /usr/local/lib/python3.7/dist-packages (from huggingface-hub<1.0,>=0.1.0->transformers) (4.1.1)\n",
            "Requirement already satisfied: pyparsing!=3.0.5,>=2.0.2 in /usr/local/lib/python3.7/dist-packages (from packaging>=20.0->transformers) (3.0.8)\n",
            "Requirement already satisfied: zipp>=0.5 in /usr/local/lib/python3.7/dist-packages (from importlib-metadata->transformers) (3.8.0)\n",
            "Requirement already satisfied: idna<3,>=2.5 in /usr/local/lib/python3.7/dist-packages (from requests->transformers) (2.10)\n",
            "Requirement already satisfied: certifi>=2017.4.17 in /usr/local/lib/python3.7/dist-packages (from requests->transformers) (2021.10.8)\n",
            "Requirement already satisfied: urllib3!=1.25.0,!=1.25.1,<1.26,>=1.21.1 in /usr/local/lib/python3.7/dist-packages (from requests->transformers) (1.24.3)\n",
            "Requirement already satisfied: chardet<4,>=3.0.2 in /usr/local/lib/python3.7/dist-packages (from requests->transformers) (3.0.4)\n",
            "Requirement already satisfied: joblib in /usr/local/lib/python3.7/dist-packages (from sacremoses->transformers) (1.1.0)\n",
            "Requirement already satisfied: six in /usr/local/lib/python3.7/dist-packages (from sacremoses->transformers) (1.15.0)\n",
            "Requirement already satisfied: click in /usr/local/lib/python3.7/dist-packages (from sacremoses->transformers) (7.1.2)\n"
          ]
        }
      ],
      "source": [
        "!pip install transformers"
      ]
    },
    {
      "cell_type": "code",
      "execution_count": null,
      "metadata": {
        "colab": {
          "base_uri": "https://localhost:8080/"
        },
        "id": "D5LpUMw3wz3o",
        "outputId": "44895272-6369-4450-dd62-fd454f6396d6"
      },
      "outputs": [
        {
          "output_type": "stream",
          "name": "stdout",
          "text": [
            "Requirement already satisfied: langdetect in /usr/local/lib/python3.7/dist-packages (1.0.9)\n",
            "Requirement already satisfied: six in /usr/local/lib/python3.7/dist-packages (from langdetect) (1.15.0)\n"
          ]
        }
      ],
      "source": [
        "!pip install langdetect"
      ]
    },
    {
      "cell_type": "code",
      "execution_count": null,
      "metadata": {
        "id": "r5tTJrh6DutG"
      },
      "outputs": [],
      "source": [
        "import torch\n",
        "from torch import nn\n",
        "from transformers import GPT2Tokenizer, GPT2LMHeadModel, AdamW, get_linear_schedule_with_warmup\n",
        "from transformers import AutoModel, AutoTokenizer \n",
        "from torch.utils.data import Dataset, DataLoader\n",
        "import pandas as pd\n",
        "import os\n",
        "import re\n",
        "import matplotlib.pyplot as plt\n",
        "from tqdm import tqdm\n",
        "import string\n",
        "import numpy as np\n",
        "import random\n",
        "from langdetect import detect, DetectorFactory\n",
        "import nltk\n",
        "from collections import Counter\n",
        "from nltk import TweetTokenizer"
      ]
    },
    {
      "cell_type": "code",
      "execution_count": null,
      "metadata": {
        "id": "bbiWmwg9qavf"
      },
      "outputs": [],
      "source": [
        "device = torch.device(\"cuda\" if torch.cuda.is_available() else \"cpu\")"
      ]
    },
    {
      "cell_type": "code",
      "execution_count": null,
      "metadata": {
        "colab": {
          "base_uri": "https://localhost:8080/"
        },
        "id": "INxGu0qMyhTm",
        "outputId": "0bf9899d-3b93-440d-de76-3da15e5a7153"
      },
      "outputs": [
        {
          "output_type": "stream",
          "name": "stdout",
          "text": [
            "[nltk_data] Downloading package stopwords to /root/nltk_data...\n",
            "[nltk_data]   Package stopwords is already up-to-date!\n"
          ]
        },
        {
          "output_type": "execute_result",
          "data": {
            "text/plain": [
              "True"
            ]
          },
          "metadata": {},
          "execution_count": 5
        }
      ],
      "source": [
        "nltk.download('stopwords')"
      ]
    },
    {
      "cell_type": "markdown",
      "metadata": {
        "id": "iopo9in3DOtB"
      },
      "source": [
        "# 🔽 Download data with used for our project and all models we learnt"
      ]
    },
    {
      "cell_type": "code",
      "execution_count": null,
      "metadata": {
        "colab": {
          "base_uri": "https://localhost:8080/"
        },
        "id": "XooPNTXdAH0H",
        "outputId": "d6cf5040-b6b9-42dc-bff0-40a86033f213"
      },
      "outputs": [
        {
          "output_type": "stream",
          "name": "stdout",
          "text": [
            "--2022-04-24 15:31:03--  https://docs.google.com/uc?export=download&confirm=t&id=1r6khuV7A8iSpHv0fI4qhro-JZHS4yIg7\n",
            "Resolving docs.google.com (docs.google.com)... 172.217.204.138, 172.217.204.100, 172.217.204.139, ...\n",
            "Connecting to docs.google.com (docs.google.com)|172.217.204.138|:443... connected.\n",
            "HTTP request sent, awaiting response... 303 See Other\n",
            "Location: https://doc-0o-bc-docs.googleusercontent.com/docs/securesc/ha0ro937gcuc7l7deffksulhg5h7mbp1/52s6keldem17klbna0ohq26ctk12nh72/1650814200000/05161437614602880006/*/1r6khuV7A8iSpHv0fI4qhro-JZHS4yIg7?e=download [following]\n",
            "Warning: wildcards not supported in HTTP.\n",
            "--2022-04-24 15:31:04--  https://doc-0o-bc-docs.googleusercontent.com/docs/securesc/ha0ro937gcuc7l7deffksulhg5h7mbp1/52s6keldem17klbna0ohq26ctk12nh72/1650814200000/05161437614602880006/*/1r6khuV7A8iSpHv0fI4qhro-JZHS4yIg7?e=download\n",
            "Resolving doc-0o-bc-docs.googleusercontent.com (doc-0o-bc-docs.googleusercontent.com)... 173.194.211.132, 2607:f8b0:400c:c10::84\n",
            "Connecting to doc-0o-bc-docs.googleusercontent.com (doc-0o-bc-docs.googleusercontent.com)|173.194.211.132|:443... connected.\n",
            "HTTP request sent, awaiting response... 200 OK\n",
            "Length: 2592261079 (2.4G) [application/x-zip-compressed]\n",
            "Saving to: ‘download.zip’\n",
            "\n",
            "download.zip        100%[===================>]   2.41G   137MB/s    in 16s     \n",
            "\n",
            "2022-04-24 15:31:20 (151 MB/s) - ‘download.zip’ saved [2592261079/2592261079]\n",
            "\n"
          ]
        }
      ],
      "source": [
        "!wget --load-cookies /tmp/cookies.txt \"https://docs.google.com/uc?export=download&confirm=$(wget --quiet --save-cookies /tmp/cookies.txt --keep-session-cookies --no-check-certificate 'https://docs.google.com/uc?export=download&id=1r6khuV7A8iSpHv0fI4qhro-JZHS4yIg7' -O- | sed -rn 's/.*confirm=([0-9A-Za-z_]+).*/\\1\\n/p')&id=1r6khuV7A8iSpHv0fI4qhro-JZHS4yIg7\" -O \"download.zip\" && rm -rf /tmp/cookies.txt"
      ]
    },
    {
      "cell_type": "code",
      "execution_count": null,
      "metadata": {
        "colab": {
          "base_uri": "https://localhost:8080/"
        },
        "id": "IRiPGl8AAM7b",
        "outputId": "016954cc-259d-4c60-cbd7-b9eba1ea2f6d"
      },
      "outputs": [
        {
          "output_type": "stream",
          "name": "stdout",
          "text": [
            "Archive:  /content/download.zip\n",
            "replace /content/data/data/LePen/tweets_JulienOdoul.csv? [y]es, [n]o, [A]ll, [N]one, [r]ename: A\n",
            "  inflating: /content/data/data/LePen/tweets_JulienOdoul.csv  \n",
            "  inflating: /content/data/data/LePen/tweets_J_Bardella.csv  \n",
            "  inflating: /content/data/data/LePen/tweets_MLP_officiel.csv  \n",
            "  inflating: /content/data/data/LePen/tweets_RNational_off.csv  \n",
            "  inflating: /content/data/data/Macron/tweets_avecvous.csv  \n",
            "  inflating: /content/data/data/Macron/tweets_CCastaner.csv  \n",
            "  inflating: /content/data/data/Macron/tweets_EmmanuelMacron.csv  \n",
            "  inflating: /content/data/data/Macron/tweets_StanGuerini.csv  \n",
            "  inflating: /content/data/data/Melenchon/tweets_AQuatennens.csv  \n",
            "  inflating: /content/data/data/Melenchon/tweets_Francois_Ruffin.csv  \n",
            "  inflating: /content/data/data/Melenchon/tweets_jlmelenchon.csv  \n",
            "  inflating: /content/data/data/Melenchon/tweets_melenchon_2022.csv  \n",
            "  inflating: /content/data/data/Pecresse/tweets_avecValerie.csv  \n",
            "  inflating: /content/data/data/Pecresse/tweets_BrunoRetailleau.csv  \n",
            "  inflating: /content/data/data/Pecresse/tweets_othmannasrou.csv  \n",
            "  inflating: /content/data/data/Pecresse/tweets_vpecresse.csv  \n",
            "  inflating: /content/data/data/Zemmour/tweets_DamienRieu.csv  \n",
            "  inflating: /content/data/data/Zemmour/tweets_G_Peltier.csv  \n",
            "  inflating: /content/data/data/Zemmour/tweets_reconquete_off.csv  \n",
            "  inflating: /content/data/data/Zemmour/tweets_ZemmourEric.csv  \n",
            "  inflating: /content/data/models/gpt2/model_macron.pt  \n",
            "  inflating: /content/data/models/gpt2/model_mel.pt  \n",
            "  inflating: /content/data/models/gpt2/model_MLP.pt  \n",
            "  inflating: /content/data/models/gpt2/model_pecresse.pt  \n",
            "  inflating: /content/data/models/gpt2/model_zemmour.pt  \n",
            "  inflating: /content/data/models/lstm/modele_lepen.pt  \n",
            "  inflating: /content/data/models/lstm/modele_macron.pt  \n",
            "  inflating: /content/data/models/lstm/modele_melenchon.pt  \n",
            "  inflating: /content/data/models/lstm/modele_zemmour.pt  \n",
            "  inflating: /content/data/models/lstm/modele_pecresse.pt  \n"
          ]
        }
      ],
      "source": [
        "!unzip /content/download.zip -d  /content/data"
      ]
    },
    {
      "cell_type": "markdown",
      "metadata": {
        "id": "EQI1uB4iHw6M"
      },
      "source": [
        "# ℹ Descriptive Statistics"
      ]
    },
    {
      "cell_type": "markdown",
      "metadata": {
        "id": "QGHV2heJOmEW"
      },
      "source": [
        "## Import and clean data"
      ]
    },
    {
      "cell_type": "code",
      "execution_count": null,
      "metadata": {
        "id": "l18KhRk0IwOz"
      },
      "outputs": [],
      "source": [
        "mypath = r\"/content/data/data\""
      ]
    },
    {
      "cell_type": "code",
      "execution_count": null,
      "metadata": {
        "id": "MXclDvjdIz_c"
      },
      "outputs": [],
      "source": [
        "file_names = []\n",
        "\n",
        "for path, currentDirectory, files in os.walk(mypath):\n",
        "    for file in files:\n",
        "        file_names.append(os.path.join(path, file))"
      ]
    },
    {
      "cell_type": "code",
      "execution_count": null,
      "metadata": {
        "id": "T9c3t2kbI37q"
      },
      "outputs": [],
      "source": [
        "candidat_names = [path.split(\"/\")[-2] for path in file_names]\n",
        "\n",
        "names = [re.findall(r'[^/]+(?=\\.)',path)[0] for path in file_names]\n",
        "\n",
        "dataframes = [pd.read_csv(path) for path in file_names]"
      ]
    },
    {
      "cell_type": "markdown",
      "metadata": {
        "id": "1jvVmcZWI8eu"
      },
      "source": [
        "`data` contains a dictionnary with the name of csv files and the dataframe as values. "
      ]
    },
    {
      "cell_type": "code",
      "execution_count": null,
      "metadata": {
        "id": "PMcB5kDrI-xR"
      },
      "outputs": [],
      "source": [
        "dataframes_by_account = dict(zip(names,dataframes))"
      ]
    },
    {
      "cell_type": "code",
      "execution_count": null,
      "metadata": {
        "id": "F02pYVYNJBkv"
      },
      "outputs": [],
      "source": [
        "a = list(zip(names,candidat_names))\n",
        "\n",
        "dataframe_by_candidat = {}\n",
        "\n",
        "for candidat in set(candidat_names):\n",
        "    list_accounts = [elem for elem in a if elem[1] == candidat]\n",
        "    data_list_accounts = [dataframes_by_account[elem[0]] for elem in list_accounts]\n",
        "    data_list_accounts = pd.concat(data_list_accounts, axis = 0, ignore_index = True)\n",
        "    dataframe_by_candidat[candidat] = data_list_accounts"
      ]
    },
    {
      "cell_type": "code",
      "execution_count": null,
      "metadata": {
        "id": "20PBsR0TJD2R"
      },
      "outputs": [],
      "source": [
        "def remove_emot_url(dataframe):\n",
        "    res = dataframe.copy()\n",
        "    emoji_pattern = re.compile(\"[\"\n",
        "                        u\"\\U0001F600-\\U0001F64F\"  # emoticons\n",
        "                        u\"\\U0001F300-\\U0001F5FF\"  # symbols & pictographs\n",
        "                        u\"\\U0001F680-\\U0001F6FF\"  # transport & map symbols\n",
        "                        u\"\\U0001F1E0-\\U0001F1FF\"  # flags (iOS)\n",
        "                        u\"\\U00002500-\\U00002BEF\"  # chinese char\n",
        "                        u\"\\U00002702-\\U000027B0\"\n",
        "                        u\"\\U00002702-\\U000027B0\"\n",
        "                        u\"\\U000024C2-\\U0001F251\"\n",
        "                        u\"\\U0001f926-\\U0001f937\"\n",
        "                        u\"\\U00010000-\\U0010ffff\"\n",
        "                        u\"\\u1000-\\u1090\" #myanmar alphabet\n",
        "                        u\"\\u0400-\\u04F0\" #cyrillic alphabet\n",
        "                        u\"\\u2640-\\u2642\"\n",
        "                        u\"\\u2600-\\u2B55\"\n",
        "                        u\"\\u23F0-\\u23FB\"\n",
        "                        u\"\\u274C-\\u274E\"\n",
        "                        u\"\\u2196-\\u2199\"\n",
        "                        u\"\\u200d\"\n",
        "                        u\"\\u23cf\"\n",
        "                        u\"\\u23e9\"\n",
        "                        u\"\\u231a\"\n",
        "                        u\"\\ufe0f\"  # dingbats\n",
        "                        u\"\\u3030\"\n",
        "                        u\"\\u2028\"\n",
        "                        u\"\\u21AA\"  \n",
        "                        u\"\\u2139\"\n",
        "                        u\"\\u2066\"\n",
        "                        u\"\\u2069\"\n",
        "                        u\"\\u203C\"\n",
        "                        u\"\\u2009\"\n",
        "                        u\"\\u27A1\"\n",
        "                        u\"\\u2192\"\n",
        "                        u\"\\u2022\"\n",
        "                        u\"\\u21B4\"\n",
        "                        u\"\\u2193\"\n",
        "                        u\"\\u21A9\"\n",
        "                        u\"\\u00AD\"\n",
        "                        u\"\\u1D49\"\n",
        "                        u\"\\u200b\"\n",
        "                        \"]+\", flags=re.UNICODE)\n",
        "    \n",
        "    for i in range(len(res[\"text_tweet\"])):\n",
        "        res[\"text_tweet\"][i] = re.sub(r'http\\S+', '', res[\"text_tweet\"][i], flags=re.MULTILINE)\n",
        "        res[\"text_tweet\"][i] = re.sub(r'\\n', '', res[\"text_tweet\"][i], flags=re.MULTILINE)\n",
        "        res[\"text_tweet\"][i] = re.sub(r'\\r', '', res[\"text_tweet\"][i], flags=re.MULTILINE)\n",
        "        res[\"text_tweet\"][i] = re.sub(r'İ', 'i', res[\"text_tweet\"][i], flags=re.MULTILINE)\n",
        "        res[\"text_tweet\"][i] = re.sub(r'\\xa0', '', res[\"text_tweet\"][i], flags=re.MULTILINE)\n",
        "        res[\"text_tweet\"][i] = re.sub(r'⃣', '', res[\"text_tweet\"][i], flags=re.MULTILINE)\n",
        "        res[\"text_tweet\"][i] = emoji_pattern.sub(r'', res[\"text_tweet\"][i])\n",
        "        res[\"text_tweet\"][i] = res[\"text_tweet\"][i].lower()\n",
        "        if len(re.sub(r' |[^\\w\\s]|\\d+', '', res[\"text_tweet\"][i], flags=re.MULTILINE)) == 0:\n",
        "            res.drop(i, inplace = True)\n",
        "    return res"
      ]
    },
    {
      "cell_type": "code",
      "execution_count": null,
      "metadata": {
        "colab": {
          "base_uri": "https://localhost:8080/"
        },
        "id": "lgoQS9dgJNLD",
        "outputId": "db969251-dcb3-4770-fe2b-aaaea0bf907b"
      },
      "outputs": [
        {
          "name": "stderr",
          "output_type": "stream",
          "text": [
            "/usr/local/lib/python3.7/dist-packages/ipykernel_launcher.py:46: SettingWithCopyWarning: \n",
            "A value is trying to be set on a copy of a slice from a DataFrame\n",
            "\n",
            "See the caveats in the documentation: https://pandas.pydata.org/pandas-docs/stable/user_guide/indexing.html#returning-a-view-versus-a-copy\n",
            "/usr/local/lib/python3.7/dist-packages/ipykernel_launcher.py:47: SettingWithCopyWarning: \n",
            "A value is trying to be set on a copy of a slice from a DataFrame\n",
            "\n",
            "See the caveats in the documentation: https://pandas.pydata.org/pandas-docs/stable/user_guide/indexing.html#returning-a-view-versus-a-copy\n",
            "/usr/local/lib/python3.7/dist-packages/ipykernel_launcher.py:48: SettingWithCopyWarning: \n",
            "A value is trying to be set on a copy of a slice from a DataFrame\n",
            "\n",
            "See the caveats in the documentation: https://pandas.pydata.org/pandas-docs/stable/user_guide/indexing.html#returning-a-view-versus-a-copy\n",
            "/usr/local/lib/python3.7/dist-packages/ipykernel_launcher.py:49: SettingWithCopyWarning: \n",
            "A value is trying to be set on a copy of a slice from a DataFrame\n",
            "\n",
            "See the caveats in the documentation: https://pandas.pydata.org/pandas-docs/stable/user_guide/indexing.html#returning-a-view-versus-a-copy\n",
            "/usr/local/lib/python3.7/dist-packages/ipykernel_launcher.py:50: SettingWithCopyWarning: \n",
            "A value is trying to be set on a copy of a slice from a DataFrame\n",
            "\n",
            "See the caveats in the documentation: https://pandas.pydata.org/pandas-docs/stable/user_guide/indexing.html#returning-a-view-versus-a-copy\n",
            "/usr/local/lib/python3.7/dist-packages/ipykernel_launcher.py:51: SettingWithCopyWarning: \n",
            "A value is trying to be set on a copy of a slice from a DataFrame\n",
            "\n",
            "See the caveats in the documentation: https://pandas.pydata.org/pandas-docs/stable/user_guide/indexing.html#returning-a-view-versus-a-copy\n",
            "/usr/local/lib/python3.7/dist-packages/ipykernel_launcher.py:52: SettingWithCopyWarning: \n",
            "A value is trying to be set on a copy of a slice from a DataFrame\n",
            "\n",
            "See the caveats in the documentation: https://pandas.pydata.org/pandas-docs/stable/user_guide/indexing.html#returning-a-view-versus-a-copy\n",
            "/usr/local/lib/python3.7/dist-packages/ipykernel_launcher.py:53: SettingWithCopyWarning: \n",
            "A value is trying to be set on a copy of a slice from a DataFrame\n",
            "\n",
            "See the caveats in the documentation: https://pandas.pydata.org/pandas-docs/stable/user_guide/indexing.html#returning-a-view-versus-a-copy\n"
          ]
        }
      ],
      "source": [
        "res = [remove_emot_url(dataframe_by_candidat[\"LePen\"]), remove_emot_url(dataframe_by_candidat[\"Zemmour\"]), remove_emot_url(dataframe_by_candidat[\"Pecresse\"]), remove_emot_url(dataframe_by_candidat[\"Melenchon\"]), remove_emot_url(dataframe_by_candidat[\"Macron\"])]"
      ]
    },
    {
      "cell_type": "code",
      "execution_count": null,
      "metadata": {
        "id": "SH1pvmr-JQj7"
      },
      "outputs": [],
      "source": [
        "def remove_not_french_tweets(res):\n",
        "    DetectorFactory.seed = 0\n",
        "    for i in res[\"text_tweet\"].index:\n",
        "        if detect(res[\"text_tweet\"][i]) != 'fr':\n",
        "            res.drop(i, inplace = True)\n",
        "    return res"
      ]
    },
    {
      "cell_type": "code",
      "execution_count": null,
      "metadata": {
        "id": "cZlKVDZXJTIY"
      },
      "outputs": [],
      "source": [
        "for r in range(len(res)):\n",
        "    res[r] = remove_not_french_tweets(res[r])"
      ]
    },
    {
      "cell_type": "code",
      "execution_count": null,
      "metadata": {
        "id": "OPQ9w-K9emXC"
      },
      "outputs": [],
      "source": [
        "candidates = [\"Le Pen\" , \"Zemmour\", \"Pécresse\", \"Mélenchon\", \"Macron\"]"
      ]
    },
    {
      "cell_type": "markdown",
      "metadata": {
        "id": "WoQALuOPOt52"
      },
      "source": [
        "## Number of tweets per candidate"
      ]
    },
    {
      "cell_type": "code",
      "execution_count": null,
      "metadata": {
        "colab": {
          "base_uri": "https://localhost:8080/"
        },
        "id": "QrofkB9CJYbm",
        "outputId": "bb71c149-2f6c-4cae-d366-c1d6f19f68ee"
      },
      "outputs": [
        {
          "name": "stdout",
          "output_type": "stream",
          "text": [
            "Number of tweets by candidat after removing empty and not french sentence:\n",
            "Le Pen : 8481\n",
            "Zemmour : 5605\n",
            "Pécresse : 6858\n",
            "Mélenchon : 8141\n",
            "Macron : 7129\n"
          ]
        }
      ],
      "source": [
        "print(\"Number of tweets by candidat after removing empty and not french sentence:\")\n",
        "\n",
        "for i in range (len(candidates)):\n",
        "    print(f\"{candidates[i]} : {len(res[i])}\")"
      ]
    },
    {
      "cell_type": "markdown",
      "metadata": {
        "id": "nb6CfuKWOD2c"
      },
      "source": [
        "We can see that the candidate for whom we have the most tweets is Marine Le Pen with 8481 tweets. Conversely, the candidate for whom we have the fewest tweets is Zemmour with 5605 tweets. This is significantly smaller than for the other 4 candidates."
      ]
    },
    {
      "cell_type": "markdown",
      "metadata": {
        "id": "kw6SfFk1Jciz"
      },
      "source": [
        "## Tweets' length per candidate"
      ]
    },
    {
      "cell_type": "code",
      "execution_count": null,
      "metadata": {
        "colab": {
          "base_uri": "https://localhost:8080/",
          "height": 1000
        },
        "id": "49z_GuPCJdIB",
        "outputId": "cae8365d-4b4d-4b1c-db32-790c6eb5f14c"
      },
      "outputs": [
        {
          "data": {
            "image/png": "[encoded data removed]",
            "text/plain": [
              "<Figure size 360x1800 with 5 Axes>"
            ]
          },
          "metadata": {},
          "output_type": "display_data"
        }
      ],
      "source": [
        "fig, axs = plt.subplots(len(set(candidat_names)), figsize=(5, 25))\n",
        "mean_len_tweets = []\n",
        "for r in range(len(candidates)):\n",
        "    len_tweets = res[r].text_tweet.apply(len)\n",
        "    mean_len_tweets.append(np.mean(len_tweets))\n",
        "    len_tweets.hist(bins = 40,ax=axs[r])\n",
        "    axs[r].title.set_text(candidates[r])"
      ]
    },
    {
      "cell_type": "markdown",
      "metadata": {
        "id": "e0rJab-0Tg3z"
      },
      "source": [
        "For Macron, Le Pen, Mélenchon and Pécresse, we see that the distribution of the number of characters is spread out to the right. This can be explained by the fact that the maximum number of characters on twitter is 280. The candidates therefore often use these 280 characters. For Zemmour, the distribution is more uniform with a mass around 280 all the same."
      ]
    },
    {
      "cell_type": "code",
      "execution_count": null,
      "metadata": {
        "colab": {
          "base_uri": "https://localhost:8080/"
        },
        "id": "_UXiHo_vJyLh",
        "outputId": "d2da9d35-13a8-4478-a9e7-995a73fd6bba"
      },
      "outputs": [
        {
          "name": "stdout",
          "output_type": "stream",
          "text": [
            "Average number of characters per candidate :\n",
            "Le Pen : 205.86652517391818\n",
            "Zemmour : 162.57163247100803\n",
            "Pécresse : 203.20355788859726\n",
            "Mélenchon : 204.6033656798919\n",
            "Macron : 205.03071959601627\n"
          ]
        }
      ],
      "source": [
        "print(\"Average number of characters per candidate :\")\n",
        "for r in range(len(candidates)):\n",
        "    print(f\"{candidates[r]} : {mean_len_tweets[r]}\")"
      ]
    },
    {
      "cell_type": "markdown",
      "metadata": {
        "id": "9toFg9KXkqFF"
      },
      "source": [
        "We see that the average number of characters is almost identical for Le Pen, Macron, Mélenchon and Pécresse (205 characters). As for Zemmour, it is much lower: about 163 characters. Coupled with the fact that we have fewer tweets for Zemmour, this means that we will have less data to train the model associated with Zemmour."
      ]
    },
    {
      "cell_type": "markdown",
      "metadata": {
        "id": "L357PPFFOZQS"
      },
      "source": [
        "## Most frequent words per candidate"
      ]
    },
    {
      "cell_type": "markdown",
      "metadata": {
        "id": "6IaC9oPEKOok"
      },
      "source": [
        "Tokenize and remove stopwords and punctuation"
      ]
    },
    {
      "cell_type": "code",
      "execution_count": null,
      "metadata": {
        "id": "EO3Au7WSKPXu"
      },
      "outputs": [],
      "source": [
        "from tqdm import tqdm\n",
        "from nltk.corpus import stopwords\n",
        "stop_words = set(stopwords.words('french') + [\"a\", \"cette\", \"cet\", \"comme\", \"plus\", \"tous\", \"tout\", \"être\", \"c'est\", \"ceux\", \"ça\", \"si\", \"fait\", \"faire\", \"quand\", \"leurs\", \"depuis\", \"aussi\", \"pen\", \"faut\", \"doit\"])\n",
        "\n",
        "s =  set(\"!\\\"$%&'()*+,-./:;<=>?[\\]^_`{|}~’«»\").union(set(['...']))\n",
        "\n",
        "def tokenize(corpus, tweets=False):\n",
        "    if tweets:\n",
        "        tokenizer = TweetTokenizer()\n",
        "    else:\n",
        "        tokenizer = TreebankWordTokenizer()  \n",
        "    tokenized_sentences = []\n",
        "    for sample in tqdm(corpus):\n",
        "        tokens = tokenizer.tokenize(sample)\n",
        "        filtered_tweets = []\n",
        "        for w in tokens:\n",
        "            if w not in stop_words and w not in s:\n",
        "                filtered_tweets.append(w)\n",
        "        tokenized_sentences.append(filtered_tweets)\n",
        "    return tokenized_sentences"
      ]
    },
    {
      "cell_type": "code",
      "execution_count": null,
      "metadata": {
        "colab": {
          "base_uri": "https://localhost:8080/"
        },
        "id": "boGyX1ulKT_J",
        "outputId": "bb8dee34-a3e5-4e50-beee-0b73d7ada740"
      },
      "outputs": [
        {
          "name": "stderr",
          "output_type": "stream",
          "text": [
            "100%|██████████| 8481/8481 [00:01<00:00, 8216.60it/s]\n",
            "100%|██████████| 5605/5605 [00:00<00:00, 9932.57it/s]\n",
            "100%|██████████| 6858/6858 [00:00<00:00, 8319.16it/s]\n",
            "100%|██████████| 8141/8141 [00:01<00:00, 4081.07it/s]\n",
            "100%|██████████| 7129/7129 [00:03<00:00, 2299.55it/s]\n"
          ]
        }
      ],
      "source": [
        "res_tokens = []\n",
        "for r in range(len(res)):\n",
        "    res_tokens.append(tokenize(res[r].text_tweet, True))"
      ]
    },
    {
      "cell_type": "code",
      "execution_count": null,
      "metadata": {
        "id": "59su6jSYKWE8"
      },
      "outputs": [],
      "source": [
        "def list_tot(tokens):\n",
        "    tot = []\n",
        "    for t in tokens:\n",
        "        tot = tot + t\n",
        "    return tot"
      ]
    },
    {
      "cell_type": "code",
      "execution_count": null,
      "metadata": {
        "colab": {
          "base_uri": "https://localhost:8080/",
          "height": 1000
        },
        "id": "z8VIi2A1KY8e",
        "outputId": "d22421d2-728d-46ce-c4a3-e8336be6eb31"
      },
      "outputs": [
        {
          "data": {
            "image/png": "[encoded data removed]",
            "text/plain": [
              "<Figure size 2160x720 with 1 Axes>"
            ]
          },
          "metadata": {},
          "output_type": "display_data"
        },
        {
          "data": {
            "image/png": "[encoded data removed]",
            "text/plain": [
              "<Figure size 2160x720 with 1 Axes>"
            ]
          },
          "metadata": {},
          "output_type": "display_data"
        },
        {
          "data": {
            "image/png": "[encoded data removed]",
            "text/plain": [
              "<Figure size 2160x720 with 1 Axes>"
            ]
          },
          "metadata": {},
          "output_type": "display_data"
        },
        {
          "data": {
            "image/png": "[encoded data removed]",
            "text/plain": [
              "<Figure size 2160x720 with 1 Axes>"
            ]
          },
          "metadata": {},
          "output_type": "display_data"
        },
        {
          "data": {
            "image/png": "[encoded data removed]",
            "text/plain": [
              "<Figure size 2160x720 with 1 Axes>"
            ]
          },
          "metadata": {},
          "output_type": "display_data"
        }
      ],
      "source": [
        "\n",
        "for r in range (len(res_tokens)):\n",
        "    word_counts = Counter(list_tot(res_tokens[r]))\n",
        "    df = pd.DataFrame.from_dict(word_counts, orient='index')\n",
        "    df = df.sort_values(by = 0, ascending = False)\n",
        "    df[:10].plot(kind = \"bar\", rot = 45,figsize=(30,10))\n",
        "    plt.title(f'the 10 most frequent words for {candidates[r]}')"
      ]
    },
    {
      "cell_type": "markdown",
      "metadata": {
        "id": "x2gx5XZEf2Mr"
      },
      "source": [
        "For all candidates except Macron, and to a lesser extent for Zemmour, their # and @ are often used. In addition, for all the candidates, the words \"France\" and \"français\" are very present. For the far-right candidates, Le Pen and Zemmour, these words are used to a very large extent. For example, for Zemmour, the word \"France\" is used almost 4 times more than the 3rd most used word and the word \"français\" 2 times more. For Macron these words are also widely used but to a slightly lesser extent.\n",
        "We also notice that all the candidates often write Macron, except himself. The words \"sécurité\" and \"protéger\" are frequent in Macron's tweets, as are the words \"ensemble\" and \"europe\"."
      ]
    },
    {
      "cell_type": "markdown",
      "metadata": {
        "id": "QV7m_PebCfqJ"
      },
      "source": [
        "# ⭐ Our results :\n"
      ]
    },
    {
      "cell_type": "markdown",
      "metadata": {
        "id": "5tUra5e6ZaDl"
      },
      "source": [
        "## With GPT-2"
      ]
    },
    {
      "cell_type": "code",
      "execution_count": null,
      "metadata": {
        "id": "qJ9ECRu4RC1u"
      },
      "outputs": [],
      "source": [
        "def print_res_GPT2(start_str, list_model_tok, length):\n",
        "  for model,tokenizer,name in list_model_tok:\n",
        "      #encode text :\n",
        "      encode_start_str = tokenizer_MLP.encode(start_str)\n",
        "      model.eval()\n",
        "      output = model.generate(\n",
        "                  bos_token_id= torch.Tensor(encode_start_str).long(),\n",
        "                  do_sample=True,   \n",
        "                  top_k=50, \n",
        "                  max_length= length,\n",
        "                  top_p=0.95, \n",
        "                  num_return_sequences=1,\n",
        "                  pad_token_id = 50256\n",
        "      )\n",
        "\n",
        "      # Decode it\n",
        "      decoded_output = []\n",
        "      for sample in output:\n",
        "          decoded_output.append(tokenizer.decode(sample, skip_special_tokens=True))\n",
        "      print(name + \"  :  \" + \" \".join(decoded_output))"
      ]
    },
    {
      "cell_type": "markdown",
      "metadata": {
        "id": "3E75SqiNY7PD"
      },
      "source": [
        "### Le Pen"
      ]
    },
    {
      "cell_type": "code",
      "execution_count": null,
      "metadata": {
        "colab": {
          "base_uri": "https://localhost:8080/",
          "referenced_widgets": [
            "1985719d41d54eb785e9237d94875ab5",
            "a61f5a31fbec4c37948fe8c4652622ab",
            "818f4649957148c2abd086618da98f72",
            "52880a5885344572844e710889fc1e8a",
            "5cab1fab665f42bb9fdc18f5c2e0f774",
            "f66f2e36981a42728d20f53fad2e790d",
            "2cc7fda1551b4c5caa7a2609945b002d",
            "0d126062ddcb4fe1a58ed66bc2d325bb",
            "a81e032b270c4193b45c72c83a72408c",
            "8947a1533cae47c4a3cfe3a13d277106",
            "1440c3d5e74e42daa2e12ad40145fc27",
            "072464ec103c4c879531dc2cb22ac59c",
            "026394f942b543978e09a050590abef4",
            "231ff5d9ac0447df973290a3b528d074",
            "f20b3052ff744e499c669bd06a9dcb1e",
            "8be268135e644752b86b5ce3f65776e9",
            "d274c5001b22429e89a66134c9350267",
            "c07081ad1c374df38880b4fabeac13af",
            "63f2c0ed12f9466eb36f3e050e633fea",
            "0dc842150e6745128a47aefc2fc8a3a2",
            "5162c8dda9d84a0684e5a38362bb9d17",
            "d210c90a70c64870a10744d02ed9d9d7",
            "899bc9d38c7e4e179bc6797ee381061b",
            "7c91090e06614abdaec7638ad9262136",
            "6febadcf69734e74aeb6cf0dba0c2eae",
            "137a4c22b90f4c98aa083cd885aae68e",
            "d10344ffc521409eab7e85d023519989",
            "4bb6f79affb64621bfabea06d6126f17",
            "e1202025e7444d289f68ce5376657e21",
            "af290fe98afe4ad4a56e6bf9bec27b06",
            "afb1df3e969c4ba3a56d18912d29aa88",
            "25624a5008cc4dd1b9164e43ddc01cde",
            "373ad223ea77443a95ba5e0f16bd44c7",
            "52c5a08149bd4ae7a636f0221451fbeb",
            "f5cba4dfbddc41b191cb370ea5d69c18",
            "db72d1507c524b048c4c4c26e5e80ae2",
            "6f10697c81c64f7a884a88d43425c2ee",
            "ce02f4d44d8246ebaa62e415a376f0fd",
            "7034064814034eb8a8fc59d3c91f951d",
            "983a4c7bc584422094bb33ea9daa73c5",
            "cfe012b0aece44b78b8b0f730bc4095d",
            "8ab0945338d84c6cba45a2ec683a4b01",
            "1d36368230c94df494320e7f3ebe575f",
            "062232ee58c743b59845dc5c444e197d",
            "b91db0b9a2d0488480ad4a9d552af21d",
            "c1fbd6fc971043e0bc17688da149a7a7",
            "75c284d61edc492eb4d76c55c450bd53",
            "77b8729876e147cb982aa6b6bef3e460",
            "6f221a582fb146e78004eea62bbeb49f",
            "fcfbbe094daf45a7ac25fab9fe9977e7",
            "4712b6b49d9949c090878216e339bc53",
            "2bb7c9ec947648a78c656c9695b8a801",
            "857df3f412bb47719b2242e55ee816fe",
            "e152ba3ab2b44b509b864863e5626e39",
            "97b5c4f6e4aa45ef85cb08c9d1737fa0",
            "a2eee1c1962b4db9a716c8aa5558eceb",
            "06226d192abb4b3e864fb1ab6168466a",
            "ae84b43fc0d44671b9131f9a162d49f6",
            "ec119a47af1141ffbdf74fe5484eeea8",
            "eedd7ddd48d14135a03b4c475f7dc233",
            "804548dd92bf4f1d98d9a4bd054dc785",
            "7e25b56b7754425eaaa74d68a82cf859",
            "93102c4d21da405485a8e891928b7c18",
            "d748fe37d1934809aae6e5afc6d9ccc5",
            "43f1456435ba439b963337bde9b6654a",
            "65a60645ab04443aa738b0581847eee4"
          ]
        },
        "id": "7e80c52a-6896-451c-8a42-5a380970e9e0",
        "outputId": "ae8d9ea5-deaf-49f8-b0bd-bee87c770287"
      },
      "outputs": [
        {
          "data": {
            "application/vnd.jupyter.widget-view+json": {
              "model_id": "1985719d41d54eb785e9237d94875ab5",
              "version_major": 2,
              "version_minor": 0
            },
            "text/plain": [
              "Downloading:   0%|          | 0.00/1.28k [00:00<?, ?B/s]"
            ]
          },
          "metadata": {},
          "output_type": "display_data"
        },
        {
          "data": {
            "application/vnd.jupyter.widget-view+json": {
              "model_id": "072464ec103c4c879531dc2cb22ac59c",
              "version_major": 2,
              "version_minor": 0
            },
            "text/plain": [
              "Downloading:   0%|          | 0.00/523M [00:00<?, ?B/s]"
            ]
          },
          "metadata": {},
          "output_type": "display_data"
        },
        {
          "data": {
            "application/vnd.jupyter.widget-view+json": {
              "model_id": "899bc9d38c7e4e179bc6797ee381061b",
              "version_major": 2,
              "version_minor": 0
            },
            "text/plain": [
              "Downloading:   0%|          | 0.00/951k [00:00<?, ?B/s]"
            ]
          },
          "metadata": {},
          "output_type": "display_data"
        },
        {
          "data": {
            "application/vnd.jupyter.widget-view+json": {
              "model_id": "52c5a08149bd4ae7a636f0221451fbeb",
              "version_major": 2,
              "version_minor": 0
            },
            "text/plain": [
              "Downloading:   0%|          | 0.00/519k [00:00<?, ?B/s]"
            ]
          },
          "metadata": {},
          "output_type": "display_data"
        },
        {
          "data": {
            "application/vnd.jupyter.widget-view+json": {
              "model_id": "b91db0b9a2d0488480ad4a9d552af21d",
              "version_major": 2,
              "version_minor": 0
            },
            "text/plain": [
              "Downloading:   0%|          | 0.00/90.0 [00:00<?, ?B/s]"
            ]
          },
          "metadata": {},
          "output_type": "display_data"
        },
        {
          "data": {
            "application/vnd.jupyter.widget-view+json": {
              "model_id": "a2eee1c1962b4db9a716c8aa5558eceb",
              "version_major": 2,
              "version_minor": 0
            },
            "text/plain": [
              "Downloading:   0%|          | 0.00/2.00 [00:00<?, ?B/s]"
            ]
          },
          "metadata": {},
          "output_type": "display_data"
        },
        {
          "data": {
            "text/plain": [
              "<All keys matched successfully>"
            ]
          },
          "execution_count": 6,
          "metadata": {},
          "output_type": "execute_result"
        }
      ],
      "source": [
        "model_MLP = GPT2LMHeadModel.from_pretrained(\"antoiloui/belgpt2\")\n",
        "tokenizer_MLP = GPT2Tokenizer.from_pretrained(\"antoiloui/belgpt2\")\n",
        "model_MLP.load_state_dict(torch.load('data/models/gpt2/model_MLP.pt',torch.device('cpu')))"
      ]
    },
    {
      "cell_type": "markdown",
      "metadata": {
        "id": "55c7848f-bb47-44e4-9ee2-29684a8ce93f"
      },
      "source": [
        "### Macron"
      ]
    },
    {
      "cell_type": "code",
      "execution_count": null,
      "metadata": {
        "colab": {
          "base_uri": "https://localhost:8080/"
        },
        "collapsed": true,
        "id": "2452668c-d34b-4bed-80ac-4d5d3ffd4d6a",
        "outputId": "06e4b82c-e4d8-4b5b-a30b-a47e3d542607"
      },
      "outputs": [
        {
          "data": {
            "text/plain": [
              "<All keys matched successfully>"
            ]
          },
          "execution_count": 7,
          "metadata": {},
          "output_type": "execute_result"
        }
      ],
      "source": [
        "model_macron = GPT2LMHeadModel.from_pretrained(\"antoiloui/belgpt2\")\n",
        "tokenizer_macron = GPT2Tokenizer.from_pretrained(\"antoiloui/belgpt2\")\n",
        "model_macron.load_state_dict(torch.load('data/models/gpt2/model_macron.pt',torch.device('cpu')))"
      ]
    },
    {
      "cell_type": "markdown",
      "metadata": {
        "id": "d8cb7ff7-d12d-474c-8832-eb383382deee"
      },
      "source": [
        "### Mélenchon"
      ]
    },
    {
      "cell_type": "code",
      "execution_count": null,
      "metadata": {
        "colab": {
          "base_uri": "https://localhost:8080/"
        },
        "id": "2b89b9b2-727d-4e99-8c0d-2764a2d30894",
        "outputId": "803f6245-f326-4d59-92ed-f5c4bb075b2a"
      },
      "outputs": [
        {
          "data": {
            "text/plain": [
              "<All keys matched successfully>"
            ]
          },
          "execution_count": 8,
          "metadata": {},
          "output_type": "execute_result"
        }
      ],
      "source": [
        "model_mel = GPT2LMHeadModel.from_pretrained(\"antoiloui/belgpt2\")\n",
        "tokenizer_mel = GPT2Tokenizer.from_pretrained(\"antoiloui/belgpt2\")\n",
        "model_mel.load_state_dict(torch.load('data/models/gpt2/model_mel.pt',torch.device('cpu')))"
      ]
    },
    {
      "cell_type": "markdown",
      "metadata": {
        "id": "391a447e-8c1d-41a9-8b29-c4039fcebb2f"
      },
      "source": [
        "### Zemmour"
      ]
    },
    {
      "cell_type": "code",
      "execution_count": null,
      "metadata": {
        "colab": {
          "base_uri": "https://localhost:8080/"
        },
        "id": "33647df5-57fb-4d43-bf6d-b01bdc60ada7",
        "outputId": "f03d8cf8-f090-4eb1-81a6-89c975be06b1"
      },
      "outputs": [
        {
          "data": {
            "text/plain": [
              "<All keys matched successfully>"
            ]
          },
          "execution_count": 9,
          "metadata": {},
          "output_type": "execute_result"
        }
      ],
      "source": [
        "model_zemmour = GPT2LMHeadModel.from_pretrained(\"antoiloui/belgpt2\")\n",
        "tokenizer_zemmour = GPT2Tokenizer.from_pretrained(\"antoiloui/belgpt2\")\n",
        "model_zemmour.load_state_dict(torch.load('data/models/gpt2/model_zemmour.pt',torch.device('cpu')))"
      ]
    },
    {
      "cell_type": "markdown",
      "metadata": {
        "id": "ace47440-5e05-44dd-ba6d-226cd839f291"
      },
      "source": [
        "### Pécresse"
      ]
    },
    {
      "cell_type": "code",
      "execution_count": null,
      "metadata": {
        "colab": {
          "base_uri": "https://localhost:8080/"
        },
        "id": "071dbd63-4f0f-4f72-bf0b-040d5c1d3a18",
        "outputId": "c5bd5b32-5617-43f4-bf4e-8ac5750287f0"
      },
      "outputs": [
        {
          "data": {
            "text/plain": [
              "<All keys matched successfully>"
            ]
          },
          "execution_count": 10,
          "metadata": {},
          "output_type": "execute_result"
        }
      ],
      "source": [
        "model_pecresse = GPT2LMHeadModel.from_pretrained(\"antoiloui/belgpt2\")\n",
        "tokenizer_pecresse = GPT2Tokenizer.from_pretrained(\"antoiloui/belgpt2\")\n",
        "model_pecresse.load_state_dict(torch.load('data/models/gpt2/model_pecresse.pt',torch.device('cpu')))"
      ]
    },
    {
      "cell_type": "markdown",
      "metadata": {
        "id": "HCG98398mZp1"
      },
      "source": [
        "## With LSTM"
      ]
    },
    {
      "cell_type": "code",
      "execution_count": null,
      "metadata": {
        "id": "bCw4V4jbmg5r"
      },
      "outputs": [],
      "source": [
        "from torch import nn\n",
        "\n",
        "class Model(nn.Module):\n",
        "    def __init__(self, n_letters):\n",
        "        super(Model, self).__init__()\n",
        "        self.lstm_size = n_letters*7\n",
        "        self.fc_size = n_letters*4\n",
        "        self.num_layers = 3\n",
        "        self.linear_dim = self.lstm_size*seq_length\n",
        "        \n",
        "        self.lstm = nn.LSTM(\n",
        "            input_size= n_letters,\n",
        "            hidden_size=self.lstm_size,\n",
        "            num_layers=self.num_layers,\n",
        "            dropout=0.2,\n",
        "            batch_first = True)\n",
        "        \n",
        "        self.bn1 = nn.BatchNorm1d(self.lstm_size)\n",
        "        self.selu1 = nn.SELU()\n",
        "            \n",
        "        self.fc1 = nn.Linear(self.lstm_size, self.fc_size)\n",
        "        self.selu2 = nn.SELU()\n",
        "            \n",
        "        self.fc2 = nn.Linear(self.fc_size, self.fc_size)\n",
        "        self.bn2 = nn.BatchNorm1d(self.fc_size)\n",
        "        self.selu3 = nn.SELU()\n",
        "        \n",
        "        self.fc3 = nn.Linear(self.fc_size, n_letters)\n",
        "            \n",
        "    def forward(self, x):\n",
        "            \n",
        "        output, _ = self.lstm(x)\n",
        "        output = output[:, -1, :]\n",
        "        #output = output.reshape(output.size(0), -1)\n",
        "        output = self.bn1(output)\n",
        "        output = self.selu1(output)\n",
        "        \n",
        "        output = self.fc1(output)\n",
        "        output = self.selu2(output)\n",
        "        \n",
        "        output = self.fc2(output)\n",
        "        output = self.bn2(output)\n",
        "        output = self.selu3(output)\n",
        "        \n",
        "        output = self.fc3(output)\n",
        "        return output\n",
        "    \n",
        "    def init_state(self, sequence_length):\n",
        "        \n",
        "        return (torch.zeros(self.num_layers, seq_length, self.lstm_size),\n",
        "                torch.zeros(self.num_layers, seq_length, self.lstm_size))"
      ]
    },
    {
      "cell_type": "code",
      "execution_count": null,
      "metadata": {
        "id": "xpwPcWpHtkcn"
      },
      "outputs": [],
      "source": [
        "seq_length = 40"
      ]
    },
    {
      "cell_type": "code",
      "execution_count": null,
      "metadata": {
        "id": "MRdFQ6wuryrW"
      },
      "outputs": [],
      "source": [
        "all_letters_lepen =list(string.ascii_lowercase + string.digits + string.punctuation + \" éàèùô‘’â«»îê…çœïû€äëüáñ“”–‑öóÿşã°íøłńšðệủč—´²×·º\") \n",
        "all_letters_melenchon =list(string.ascii_lowercase + string.digits + string.punctuation + \" éàèùô‘’â«»îê…çœïû€äëüáñ“”–‑öóÿşã°íøłńšðệủč—´²×·º\") \n",
        "all_letters_zemmour =list(string.ascii_lowercase + string.digits + string.punctuation + \" éàèùô‘’â«»îê…çœïû€äëüáñ“”–‑öóÿşã°íøłńšðệủčđåć—´²×·º¡\") \n",
        "all_letters_macron =list(string.ascii_lowercase + string.digits + string.punctuation + \" éàèùô‘’â«»îê…çœïû€äëüáñ“”–‑öóÿşã°íøłńšðệủčđåć—´²×·º¡\") \n",
        "all_letters_pecresse =list(string.ascii_lowercase + string.digits + string.punctuation + \" éàèùô‘’ˋâ«»îê…çœïû€äëüáñ“”–‑öóÿşã°íøłńšðệủčđåć—´²×·º¡\") "
      ]
    },
    {
      "cell_type": "code",
      "execution_count": null,
      "metadata": {
        "id": "0csKMSBMr4nY"
      },
      "outputs": [],
      "source": [
        "n_letters_lepen = len(all_letters_lepen)\n",
        "n_letters_melenchon = len(all_letters_melenchon)\n",
        "n_letters_macron = len(all_letters_macron)\n",
        "n_letters_zemmour = len(all_letters_zemmour)\n",
        "n_letters_pecresse = len(all_letters_pecresse)"
      ]
    },
    {
      "cell_type": "markdown",
      "metadata": {
        "id": "B89N38g8mdgz"
      },
      "source": [
        "### Le Pen"
      ]
    },
    {
      "cell_type": "code",
      "execution_count": null,
      "metadata": {
        "id": "nvgLwZIXmcra",
        "colab": {
          "base_uri": "https://localhost:8080/"
        },
        "outputId": "4d3b569c-1a74-4c6b-e79c-17c466c3f1fe"
      },
      "outputs": [
        {
          "output_type": "execute_result",
          "data": {
            "text/plain": [
              "Model(\n",
              "  (lstm): LSTM(117, 819, num_layers=3, batch_first=True, dropout=0.2)\n",
              "  (bn1): BatchNorm1d(819, eps=1e-05, momentum=0.1, affine=True, track_running_stats=True)\n",
              "  (selu1): SELU()\n",
              "  (fc1): Linear(in_features=819, out_features=468, bias=True)\n",
              "  (selu2): SELU()\n",
              "  (fc2): Linear(in_features=468, out_features=468, bias=True)\n",
              "  (bn2): BatchNorm1d(468, eps=1e-05, momentum=0.1, affine=True, track_running_stats=True)\n",
              "  (selu3): SELU()\n",
              "  (fc3): Linear(in_features=468, out_features=117, bias=True)\n",
              ")"
            ]
          },
          "metadata": {},
          "execution_count": 12
        }
      ],
      "source": [
        "model_lepen_lstm = Model(n_letters_lepen)\n",
        "model_lepen_lstm.load_state_dict(torch.load(\"/content/data/models/lstm/modele_lepen.pt\",map_location=torch.device('cpu')))\n",
        "model_lepen_lstm.eval()"
      ]
    },
    {
      "cell_type": "markdown",
      "metadata": {
        "id": "hSRlHQOyplyu"
      },
      "source": [
        "### Macron"
      ]
    },
    {
      "cell_type": "code",
      "execution_count": null,
      "metadata": {
        "id": "Iku4HvfapkS_",
        "colab": {
          "base_uri": "https://localhost:8080/"
        },
        "outputId": "c58ad3f5-6dab-45c1-cd72-c19110f9edf4"
      },
      "outputs": [
        {
          "output_type": "execute_result",
          "data": {
            "text/plain": [
              "Model(\n",
              "  (lstm): LSTM(121, 847, num_layers=3, batch_first=True, dropout=0.2)\n",
              "  (bn1): BatchNorm1d(847, eps=1e-05, momentum=0.1, affine=True, track_running_stats=True)\n",
              "  (selu1): SELU()\n",
              "  (fc1): Linear(in_features=847, out_features=484, bias=True)\n",
              "  (selu2): SELU()\n",
              "  (fc2): Linear(in_features=484, out_features=484, bias=True)\n",
              "  (bn2): BatchNorm1d(484, eps=1e-05, momentum=0.1, affine=True, track_running_stats=True)\n",
              "  (selu3): SELU()\n",
              "  (fc3): Linear(in_features=484, out_features=121, bias=True)\n",
              ")"
            ]
          },
          "metadata": {},
          "execution_count": 13
        }
      ],
      "source": [
        "model_macron_lstm = Model(n_letters_macron)\n",
        "model_macron_lstm.load_state_dict(torch.load(\"/content/data/models/lstm/modele_macron.pt\",map_location=torch.device('cpu')))\n",
        "model_macron_lstm.eval()"
      ]
    },
    {
      "cell_type": "markdown",
      "source": [
        "### Pécresse"
      ],
      "metadata": {
        "id": "OsypQxYFI9SQ"
      }
    },
    {
      "cell_type": "code",
      "source": [
        "model_pecresse_lstm = Model(n_letters_pecresse)\n",
        "model_pecresse_lstm.load_state_dict(torch.load(\"/content/data/models/lstm/modele_pecresse.pt\",map_location=torch.device('cpu')))\n",
        "model_pecresse_lstm.eval()"
      ],
      "metadata": {
        "id": "99hFzwk7JBfX",
        "colab": {
          "base_uri": "https://localhost:8080/"
        },
        "outputId": "97ac3e8a-5fcc-4bea-e6b2-a604c0b22cde"
      },
      "execution_count": null,
      "outputs": [
        {
          "output_type": "execute_result",
          "data": {
            "text/plain": [
              "Model(\n",
              "  (lstm): LSTM(122, 854, num_layers=3, batch_first=True, dropout=0.2)\n",
              "  (bn1): BatchNorm1d(854, eps=1e-05, momentum=0.1, affine=True, track_running_stats=True)\n",
              "  (selu1): SELU()\n",
              "  (fc1): Linear(in_features=854, out_features=488, bias=True)\n",
              "  (selu2): SELU()\n",
              "  (fc2): Linear(in_features=488, out_features=488, bias=True)\n",
              "  (bn2): BatchNorm1d(488, eps=1e-05, momentum=0.1, affine=True, track_running_stats=True)\n",
              "  (selu3): SELU()\n",
              "  (fc3): Linear(in_features=488, out_features=122, bias=True)\n",
              ")"
            ]
          },
          "metadata": {},
          "execution_count": 14
        }
      ]
    },
    {
      "cell_type": "markdown",
      "metadata": {
        "id": "Nm13Hq4gqTxc"
      },
      "source": [
        "### Mélenchon"
      ]
    },
    {
      "cell_type": "code",
      "execution_count": null,
      "metadata": {
        "id": "m6U2SmwDqZ8u",
        "colab": {
          "base_uri": "https://localhost:8080/"
        },
        "outputId": "d0eee344-0a87-493f-cfb9-5eeaa84876f5"
      },
      "outputs": [
        {
          "output_type": "execute_result",
          "data": {
            "text/plain": [
              "Model(\n",
              "  (lstm): LSTM(117, 819, num_layers=3, batch_first=True, dropout=0.2)\n",
              "  (bn1): BatchNorm1d(819, eps=1e-05, momentum=0.1, affine=True, track_running_stats=True)\n",
              "  (selu1): SELU()\n",
              "  (fc1): Linear(in_features=819, out_features=468, bias=True)\n",
              "  (selu2): SELU()\n",
              "  (fc2): Linear(in_features=468, out_features=468, bias=True)\n",
              "  (bn2): BatchNorm1d(468, eps=1e-05, momentum=0.1, affine=True, track_running_stats=True)\n",
              "  (selu3): SELU()\n",
              "  (fc3): Linear(in_features=468, out_features=117, bias=True)\n",
              ")"
            ]
          },
          "metadata": {},
          "execution_count": 15
        }
      ],
      "source": [
        "model_melenchon_lstm = Model(n_letters_melenchon)\n",
        "model_melenchon_lstm.load_state_dict(torch.load(\"/content/data/models/lstm/modele_melenchon.pt\",map_location=torch.device('cpu')))\n",
        "model_melenchon_lstm.eval()"
      ]
    },
    {
      "cell_type": "markdown",
      "metadata": {
        "id": "NhNCHgR_qy28"
      },
      "source": [
        "### Zemmour"
      ]
    },
    {
      "cell_type": "code",
      "execution_count": null,
      "metadata": {
        "id": "WjdUWxRyq06k",
        "colab": {
          "base_uri": "https://localhost:8080/"
        },
        "outputId": "5b61a185-4c3d-46ae-9ccd-9bdca9b6edee"
      },
      "outputs": [
        {
          "output_type": "execute_result",
          "data": {
            "text/plain": [
              "Model(\n",
              "  (lstm): LSTM(121, 847, num_layers=3, batch_first=True, dropout=0.2)\n",
              "  (bn1): BatchNorm1d(847, eps=1e-05, momentum=0.1, affine=True, track_running_stats=True)\n",
              "  (selu1): SELU()\n",
              "  (fc1): Linear(in_features=847, out_features=484, bias=True)\n",
              "  (selu2): SELU()\n",
              "  (fc2): Linear(in_features=484, out_features=484, bias=True)\n",
              "  (bn2): BatchNorm1d(484, eps=1e-05, momentum=0.1, affine=True, track_running_stats=True)\n",
              "  (selu3): SELU()\n",
              "  (fc3): Linear(in_features=484, out_features=121, bias=True)\n",
              ")"
            ]
          },
          "metadata": {},
          "execution_count": 16
        }
      ],
      "source": [
        "model_zemmour_lstm = Model(n_letters_zemmour)\n",
        "model_zemmour_lstm.load_state_dict(torch.load(\"/content/data/models/lstm/modele_zemmour.pt\",map_location=torch.device('cpu')))\n",
        "model_zemmour_lstm.eval()"
      ]
    },
    {
      "cell_type": "markdown",
      "metadata": {
        "id": "DwAyJ7QaZcmB"
      },
      "source": [
        "## Sample like each candidat"
      ]
    },
    {
      "cell_type": "markdown",
      "source": [
        "### GPT-2"
      ],
      "metadata": {
        "id": "ftmbM1VIK8A4"
      }
    },
    {
      "cell_type": "code",
      "execution_count": null,
      "metadata": {
        "id": "WpchrFDfa28C"
      },
      "outputs": [],
      "source": [
        "model_pretrained = GPT2LMHeadModel.from_pretrained(\"antoiloui/belgpt2\")\n",
        "tokenizer_pretrained = GPT2Tokenizer.from_pretrained(\"antoiloui/belgpt2\")"
      ]
    },
    {
      "cell_type": "code",
      "execution_count": null,
      "metadata": {
        "id": "tHhjf-iRW4UF"
      },
      "outputs": [],
      "source": [
        "list_model = [(model_MLP, tokenizer_MLP, \"MLP\"), \n",
        "              (model_macron, tokenizer_macron, \"macron\"),\n",
        "              (model_mel, tokenizer_mel, \"melenchon\"),\n",
        "              (model_zemmour, tokenizer_zemmour, \"zemmour\"),\n",
        "              (model_pecresse, tokenizer_pecresse, \"pécresse\"),\n",
        "              (model_pretrained, tokenizer_pretrained, \"pretrained\")]\n",
        "\n"
      ]
    },
    {
      "cell_type": "code",
      "execution_count": null,
      "metadata": {
        "colab": {
          "base_uri": "https://localhost:8080/"
        },
        "id": "4yLyo4UAZiUB",
        "outputId": "e44548a4-c698-47f6-f284-259c6e6d5351"
      },
      "outputs": [
        {
          "name": "stdout",
          "output_type": "stream",
          "text": [
            "MLP  :  @JLMelenchon à l' UMP, et au parti socialiste à la primaire de la gauche et du centre \", avait alors annoncé le numéro deux du parti.Le numéro trois avait annoncé en\n",
            "macron  :  @JLMelenchon. Ce qui m' a donné beaucoup de peine : ) ( Merci pour tous vos messages! Par ailleurs, le recours à une assurance responsabilité civile professionnelle pour le salarié qui vient\n",
            "melenchon  :  @JLMelenchon, je ne suis pas un crétin, je suis un humain! L' autre grand événement de la journée, c' est la fête du sport avec la présence de l\n",
            "zemmour  :  @JLMelenchon : \" Moi-même, j' ai voté Macron \" ( vidéo ) Marine Le Pen : \" Le Pen, c' est la trahison des électeurs \" ( vidéo ) Le\n",
            "pécresse  :  @JLMelenchon est le président du Parti, mais n' ai pas le soutien de ma famille politique. Il est donc très difficile de la définir en ces termes, parce que ce serait trop\n",
            "pretrained  :  @JLMelenchon qui n' en pouvait plus de se battre ( oui, c' est vrai, c' est une idée que j' ai depuis très longtemps ). Cette petite histoire en\n"
          ]
        }
      ],
      "source": [
        "print_res_GPT2(\"@JLMelenchon\", list_model,40)"
      ]
    },
    {
      "cell_type": "code",
      "execution_count": null,
      "metadata": {
        "colab": {
          "base_uri": "https://localhost:8080/"
        },
        "id": "TJ_txwNWaHl8",
        "outputId": "589ce292-e46b-4662-84ee-badc18931478"
      },
      "outputs": [
        {
          "name": "stdout",
          "output_type": "stream",
          "text": [
            "MLP  :  les français sont trop jeunes pour qu' on les voit à terre \", dénonce une habitante de la région nantaise. \" En attendant de donner l' avis de la commission de discipline, nous\n",
            "macron  :  les français sont également très inquiets : seuls 36 % des personnes interrogées envisagent une fin de la politique d' austérité et du plan de rigueur contre 43 % en octobre. Une solution parfaite pour votre projet :\n",
            "melenchon  :  les français sont en guerre, mais pas l' un ni l' autre! \" Ce qui est sûr, c' est qu' elle pourrait gagner cette course à l' Élysée \", assure-\n",
            "zemmour  :  les français sont-ils encore plus inquiets de la montée des tensions en Ukraine? Dans la matinée, la police a mené une perquisition dans son domicile. Le nombre d' élèves, la réussite aux examens\n",
            "pécresse  :  les français sont invités à s' exprimer sur cet hommage qui s' inscrit au coeur de l' action de l' association. L' enjeu aujourd' hui, c' est de construire un écosystème\n",
            "pretrained  :  les français sont des hommes et des femmes de gauche \", a-t-elle dit. \" L' opération avait été organisée par les Gardiens de la Révolution, une coalition de milices chiites, soutenues\n"
          ]
        }
      ],
      "source": [
        "print_res_GPT2(\"l'écologie\", list_model,40)"
      ]
    },
    {
      "cell_type": "code",
      "execution_count": null,
      "metadata": {
        "colab": {
          "base_uri": "https://localhost:8080/"
        },
        "id": "kdeDOjQOdmCA",
        "outputId": "7848f389-677c-4450-8b37-52316ba0b47e"
      },
      "outputs": [
        {
          "name": "stdout",
          "output_type": "stream",
          "text": [
            "MLP  :  @MLP_officiel à la fois discret et efficace pour l analyse d images J ai réalisé cette vidéo en partenariat avec le Club de la Presse. Tout comme, j' ai une envie folle\n",
            "macron  :  @MLP_officiel. Et le dernier mot revient à l' article 7 bis, à son amendement du 5 février 2013, qui propose une dérogation au droit de préemption urbain, afin d\n",
            "melenchon  :  @MLP_officiel de gestion pour l' entrepriseProgrammation de l' application vmware vmware vmware vmware vmware vmware vmware\n",
            "zemmour  :  @MLP_officielMaturation _ 1.Smitterrand _ 2.Code _ 3. Ces gens se voient et se font remarquer par la hiérarchie locale qui s' éver\n",
            "pécresse  :  @MLP_officiel \" En savoir plus... N' oubliez pas qu' une grande variété de programmes d' affiliation est disponible! Je préfère attendre un peu pour faire le point \". \"\n",
            "pretrained  :  @MLP_officiel des archives de la marque. Vous pouvez trouver un grand choix de tissus en soie, satin et denim. Le film s' est classé dans le top 20 d'\n"
          ]
        }
      ],
      "source": [
        "print_res_GPT2(\"@MLP_officiel\", list_model,40)"
      ]
    },
    {
      "cell_type": "code",
      "execution_count": null,
      "metadata": {
        "colab": {
          "base_uri": "https://localhost:8080/"
        },
        "id": "X8olqqbYeG3R",
        "outputId": "f5b57bcf-7773-470f-ce02-329200b1e61f"
      },
      "outputs": [
        {
          "name": "stdout",
          "output_type": "stream",
          "text": [
            "MLP  :  La constitution du Groupe Banque Populaire ( groupe BPCE ) dont il est un des principaux acteurs, et, aujourd' hui, les fonctions d' intermédiation commerciale, de gestion des risques et d'\n",
            "macron  :  La constitution du 1er octobre 1958 est la première à garantir le droit à une protection sociale intégrale pour tous, y compris aux fonctionnaires et aux retraités. Et pourtant, les gens qui font du cinéma ne\n",
            "melenchon  :  La constitution des unités militaires à la fin du XVIIIe siècle et au début du XIXe siècle en Indochine. Le gouvernement français a donc pris le problème très au sérieux et s' est engagé à aider les victimes\n",
            "zemmour  :  La constitution de l' échantillon de population : une approche qui respecte la diversité des individus. Dans notre région, à l' arrivée du TGV en décembre dernier, les gares parisiennes et les centres de logistique\n",
            "pécresse  :  La constitution de cette fondation est prévue pour une durée de 4 ans et s' inscrit dans le cadre des Objectifs du Millénaire pour le développement ( OMD ) qui doivent être atteints au cours de l\n",
            "pretrained  :  La constitution de l' Algérie indépendante a été adoptée le 22 décembre 1960 ( loi n 2-19 ). Sa principale contribution est le calcul d' un vecteur scalaire de la constante cosmologique et\n"
          ]
        }
      ],
      "source": [
        "print_res_GPT2(\"La constitution\", list_model,40)"
      ]
    },
    {
      "cell_type": "markdown",
      "source": [
        "### LSTM"
      ],
      "metadata": {
        "id": "xn58A9H1K_15"
      }
    },
    {
      "cell_type": "code",
      "execution_count": null,
      "metadata": {
        "id": "RC-h3N-dsv7M"
      },
      "outputs": [],
      "source": [
        "def sample(preds, temperature=1.0):\n",
        "    preds = torch.log(preds) / temperature\n",
        "    exp_preds = torch.exp(preds)\n",
        "    preds = exp_preds / torch.sum(exp_preds)\n",
        "    probas = torch.multinomial(preds[0], 1)\n",
        "    return probas"
      ]
    },
    {
      "cell_type": "code",
      "execution_count": null,
      "metadata": {
        "id": "OfJ_nhbSxc5i"
      },
      "outputs": [],
      "source": [
        "def predict(model, base_tweet, length, n_letters, stoi, itos, diversity):\n",
        "    seq_length = 40\n",
        "    state_h, state_c = model.init_state(seq_length)\n",
        "    softmax = nn.Softmax(dim=1)\n",
        "    generated = ''\n",
        "    base = base_tweet[0: seq_length]\n",
        "    generated += base\n",
        "    model.eval()\n",
        "    with torch.no_grad():\n",
        "        for i in range(length - seq_length):\n",
        "            x_pred = np.zeros((1, seq_length, n_letters))\n",
        "            for t, char in enumerate(base):\n",
        "                x_pred[0, t, stoi[char]] = 1.\n",
        "            \n",
        "            x_pred = torch.from_numpy(x_pred).float()\n",
        "            preds = model(x_pred)\n",
        "            preds = softmax(preds)\n",
        "            preds = preds.detach()\n",
        "            next_index = sample(preds, diversity)\n",
        "            next_char = itos[next_index]\n",
        "\n",
        "            generated += next_char\n",
        "            base = base[1:] + next_char\n",
        "    print(base_tweet[0: seq_length])\n",
        "    print(generated)\n",
        "    \n",
        "    return (base_tweet[0: seq_length], generated)"
      ]
    },
    {
      "cell_type": "code",
      "execution_count": null,
      "metadata": {
        "id": "pLcKmdHGr7zL"
      },
      "outputs": [],
      "source": [
        "stoi_lepen = {letter : idx for idx, letter in enumerate(all_letters_lepen)}\n",
        "itos_lepen = [letter for idx, letter in enumerate(all_letters_lepen)]\n",
        "\n",
        "stoi_melenchon = {letter : idx for idx, letter in enumerate(all_letters_melenchon)}\n",
        "itos_melenchon = [letter for idx, letter in enumerate(all_letters_melenchon)]\n",
        "\n",
        "stoi_macron = {letter : idx for idx, letter in enumerate(all_letters_macron)}\n",
        "itos_macron = [letter for idx, letter in enumerate(all_letters_macron)]\n",
        "\n",
        "stoi_zemmour = {letter : idx for idx, letter in enumerate(all_letters_zemmour)}\n",
        "itos_zemmour = [letter for idx, letter in enumerate(all_letters_zemmour)]\n",
        "\n",
        "stoi_pecresse = {letter : idx for idx, letter in enumerate(all_letters_pecresse)}\n",
        "itos_pecresse = [letter for idx, letter in enumerate(all_letters_pecresse)]"
      ]
    },
    {
      "cell_type": "code",
      "execution_count": null,
      "metadata": {
        "id": "EroP--5VscO9"
      },
      "outputs": [],
      "source": [
        "diversity = 0.5"
      ]
    },
    {
      "cell_type": "code",
      "execution_count": null,
      "metadata": {
        "colab": {
          "base_uri": "https://localhost:8080/"
        },
        "id": "NIYfC1tPt6EJ",
        "outputId": "3906fb81-4eb9-411f-b219-4d38a31ba65e"
      },
      "outputs": [
        {
          "output_type": "execute_result",
          "data": {
            "text/plain": [
              "40"
            ]
          },
          "metadata": {},
          "execution_count": 28
        }
      ],
      "source": [
        "len(\"concernant la guerre en ukraine, je pense\")"
      ]
    },
    {
      "cell_type": "markdown",
      "metadata": {
        "id": "jpUF6z-auZbn"
      },
      "source": [
        "the length of base_tweet must be at least 40 characters"
      ]
    },
    {
      "cell_type": "code",
      "execution_count": null,
      "metadata": {
        "id": "hd-y2dkjr_N0",
        "colab": {
          "base_uri": "https://localhost:8080/"
        },
        "outputId": "d9094e57-868e-4c4b-9a80-f0603e5a2e06"
      },
      "outputs": [
        {
          "output_type": "stream",
          "name": "stdout",
          "text": [
            "concernant la guerre en ukraine,je pense\n",
            "concernant la guerre en ukraine,je pense de très faire sa porte de conseiller régional de #laréunion, les mesures de chaque année 2020 et son identité\n"
          ]
        }
      ],
      "source": [
        "base, generated = predict(model_lepen_lstm, \"concernant la guerre en ukraine, je pense \", 150, n_letters_lepen, stoi_lepen, itos_lepen, diversity)"
      ]
    },
    {
      "cell_type": "code",
      "execution_count": null,
      "metadata": {
        "id": "AYYN62grur0C",
        "colab": {
          "base_uri": "https://localhost:8080/"
        },
        "outputId": "9d838afe-9969-4e59-e1a3-855f54c9a81d"
      },
      "outputs": [
        {
          "output_type": "stream",
          "name": "stdout",
          "text": [
            "concernant la guerre en ukraine,je pense\n",
            "concernant la guerre en ukraine,je pense que le progrès de la france n’est pas de proposition de défendre le covid.   #melenchonsaintdenis            \n"
          ]
        }
      ],
      "source": [
        "base, generated = predict(model_melenchon_lstm, \"concernant la guerre en ukraine, je pense \", 150, n_letters_melenchon, stoi_melenchon, itos_melenchon, diversity)"
      ]
    },
    {
      "cell_type": "code",
      "source": [
        "base, generated = predict(model_pecresse_lstm, \"concernant la guerre en ukraine, je pense \", 150, n_letters_pecresse, stoi_pecresse, itos_pecresse, diversity)"
      ],
      "metadata": {
        "id": "YiRyu_ObIvfG",
        "colab": {
          "base_uri": "https://localhost:8080/"
        },
        "outputId": "88bca5b1-f505-4b9b-c7a2-227c4c90364b"
      },
      "execution_count": null,
      "outputs": [
        {
          "output_type": "stream",
          "name": "stdout",
          "text": [
            "concernant la guerre en ukraine,je pense\n",
            "concernant la guerre en ukraine,je pense pour les franciliens avec @vpecresse au service de l’intégration de la république, de la présidence des masqu\n"
          ]
        }
      ]
    },
    {
      "cell_type": "code",
      "execution_count": null,
      "metadata": {
        "id": "w6xjEjFousRa",
        "colab": {
          "base_uri": "https://localhost:8080/"
        },
        "outputId": "3233c35c-51ad-4b59-fe32-cd107fa64507"
      },
      "outputs": [
        {
          "output_type": "stream",
          "name": "stdout",
          "text": [
            "concernant la guerre en ukraine,je pense\n",
            "concernant la guerre en ukraine,je pense aux français avec les forces de l'ordre. c’est cela que nous agirons et son système de santé. c'est la meille\n"
          ]
        }
      ],
      "source": [
        "base, generated = predict(model_macron_lstm, \"concernant la guerre en ukraine, je pense \", 150, n_letters_macron, stoi_macron, itos_macron, diversity)"
      ]
    },
    {
      "cell_type": "code",
      "execution_count": null,
      "metadata": {
        "id": "DqvVyN4DutDC",
        "colab": {
          "base_uri": "https://localhost:8080/"
        },
        "outputId": "9ecb4691-7aac-48e3-9a70-4a66dcc6c14c"
      },
      "outputs": [
        {
          "output_type": "stream",
          "name": "stdout",
          "text": [
            "concernant la guerre en ukraine,je pense\n",
            "concernant la guerre en ukraine,je pense qu’il faut revenir sur que l’état a rejourné leur réseau agriculture. mais nous sommes le bataclan et de la f\n"
          ]
        }
      ],
      "source": [
        "base, generated = predict(model_zemmour_lstm, \"concernant la guerre en ukraine, je pense \", 150, n_letters_zemmour, stoi_zemmour, itos_zemmour, diversity)"
      ]
    },
    {
      "cell_type": "markdown",
      "metadata": {
        "id": "aLujVccjugDX"
      },
      "source": [
        "# 🕔 Training "
      ]
    },
    {
      "cell_type": "markdown",
      "metadata": {
        "id": "DmJyLKDajtST"
      },
      "source": [
        "## GPT2"
      ]
    },
    {
      "cell_type": "markdown",
      "metadata": {
        "id": "tDlkiwtVucbW"
      },
      "source": [
        "### Explanatory data analysis "
      ]
    },
    {
      "cell_type": "code",
      "execution_count": null,
      "metadata": {
        "id": "fzS7_Bljnb6O"
      },
      "outputs": [],
      "source": [
        "n_min = 60"
      ]
    },
    {
      "cell_type": "code",
      "execution_count": null,
      "metadata": {
        "id": "v-augPXIlHeW"
      },
      "outputs": [],
      "source": [
        "mypath = r'/content/data/data'\n",
        "file_names = []\n",
        "\n",
        "for path, currentDirectory, files in os.walk(mypath):\n",
        "    for file in files:\n",
        "        file_names.append(os.path.join(path, file))"
      ]
    },
    {
      "cell_type": "code",
      "execution_count": null,
      "metadata": {
        "id": "d2bd8359-515b-456a-b4be-dd9714fb7eec"
      },
      "outputs": [],
      "source": [
        "candidat_names = [path.split(\"/\")[-2] for path in file_names] #change on ubuntu\n",
        "\n",
        "names = [re.findall(r'[^\\\\]+(?=\\.)',path)[0] for path in file_names]\n",
        "\n",
        "dataframes = [pd.read_csv(path) for path in file_names]"
      ]
    },
    {
      "cell_type": "code",
      "execution_count": null,
      "metadata": {
        "id": "a9ec7e80-d858-4a12-9c75-953bf8851199"
      },
      "outputs": [],
      "source": [
        "dataframes_by_account = dict(zip(names,dataframes))\n",
        "a = list(zip(names,candidat_names))\n",
        "\n",
        "dataframe_by_candidat = {}\n",
        "\n",
        "for candidat in set(candidat_names):\n",
        "    list_accounts = [elem for elem in a if elem[1] == candidat]\n",
        "    data_list_accounts = [dataframes_by_account[elem[0]] for elem in list_accounts]\n",
        "    data_list_accounts = pd.concat(data_list_accounts, axis = 0, ignore_index = True)\n",
        "    dataframe_by_candidat[candidat] = data_list_accounts"
      ]
    },
    {
      "cell_type": "code",
      "execution_count": null,
      "metadata": {
        "id": "01f8697a-c96b-4051-bfea-431a1ebe0500"
      },
      "outputs": [],
      "source": [
        "def remove_hashtag_url(dataframe):\n",
        "    res = dataframe.copy()\n",
        "    emoji_pattern = re.compile(\"[\"\n",
        "                        u\"\\U0001F600-\\U0001F64F\"  # emoticons\n",
        "                        u\"\\U0001F300-\\U0001F5FF\"  # symbols & pictographs\n",
        "                        u\"\\U0001F680-\\U0001F6FF\"  # transport & map symbols\n",
        "                        u\"\\U0001F1E0-\\U0001F1FF\"  # flags (iOS)\n",
        "                        u\"\\U00002500-\\U00002BEF\"  # chinese char\n",
        "                        u\"\\U00002702-\\U000027B0\"\n",
        "                        u\"\\U00002702-\\U000027B0\"\n",
        "                        u\"\\U000024C2-\\U0001F251\"\n",
        "                        u\"\\U0001f926-\\U0001f937\"\n",
        "                        u\"\\U00010000-\\U0010ffff\"\n",
        "                        u\"\\u2640-\\u2642\"\n",
        "                        u\"\\u2600-\\u2B55\"\n",
        "                        u\"\\u23F0-\\u23FB\"\n",
        "                        u\"\\u200d\"\n",
        "                        u\"\\u23cf\"\n",
        "                        u\"\\u23e9\"\n",
        "                        u\"\\u231a\"\n",
        "                        u\"\\ufe0f\"  # dingbats\n",
        "                        u\"\\u3030\"\n",
        "                        u\"\\u2028\"\n",
        "                        u\"\\u21AA\"  \n",
        "                        u\"\\u2139\"\n",
        "                        u\"\\u2066\"\n",
        "                        u\"\\u2069\"\n",
        "                        u\"\\u203C\"\n",
        "                        \"]+\", flags=re.UNICODE)\n",
        "    \n",
        "    for i in range(len(res[\"text_tweet\"])):\n",
        "        res[\"text_tweet\"][i] = re.sub(r'http\\S+', '', res[\"text_tweet\"][i], flags=re.MULTILINE)\n",
        "        res[\"text_tweet\"][i] = re.sub(r'\\n', '', res[\"text_tweet\"][i], flags=re.MULTILINE)\n",
        "        res[\"text_tweet\"][i] = re.sub(r'https', '', res[\"text_tweet\"][i], flags=re.MULTILINE)\n",
        "        res[\"text_tweet\"][i] = re.sub(r'⃣', '', res[\"text_tweet\"][i], flags=re.MULTILINE)\n",
        "        res[\"text_tweet\"][i] = emoji_pattern.sub(r'', res[\"text_tweet\"][i])\n",
        "        res[\"text_tweet\"][i] = res[\"text_tweet\"][i].lower()\n",
        "        if len(re.sub(r' ', '', res[\"text_tweet\"][i], flags=re.MULTILINE)) == 0:\n",
        "            res.drop(i, inplace = True)\n",
        "\n",
        "    res = res[res[\"text_tweet\"].apply(len) > n_min]\n",
        "    return res"
      ]
    },
    {
      "cell_type": "code",
      "execution_count": null,
      "metadata": {
        "id": "bdfb3335-cb1e-4d25-84fe-006b9360096e"
      },
      "outputs": [],
      "source": [
        "def tokenize(df):\n",
        "    tokenized_sentences = []\n",
        "    for s in df[\"text_tweet\"]:\n",
        "        L= []\n",
        "        for char in s:\n",
        "            L.append(char)\n",
        "        tokenized_sentences.append(L)\n",
        "    return tokenized_sentences"
      ]
    },
    {
      "cell_type": "markdown",
      "metadata": {
        "id": "NvoLsJMbnlzI"
      },
      "source": [
        "### Training of each model"
      ]
    },
    {
      "cell_type": "markdown",
      "metadata": {
        "id": "4a-03IbVo5Vf"
      },
      "source": [
        "#### Definition of training funcions"
      ]
    },
    {
      "cell_type": "code",
      "execution_count": null,
      "metadata": {
        "id": "37e0eea6-6d6e-4091-8cc9-7726bb2bdcf4"
      },
      "outputs": [],
      "source": [
        "class TweetCandidat(Dataset):\n",
        "    def __init__(self, df_tweets, tokenizer):\n",
        "\n",
        "        self.tokenizer = tokenizer\n",
        "        self.tweets = []\n",
        "\n",
        "        for row in df_tweets[\"text_tweet\"]:\n",
        "\n",
        "            self.tweets.append(torch.tensor(\n",
        "                self.tokenizer.encode('<|startoftext|>' + row ) #add endoftext\n",
        "            ))    \n",
        "          \n",
        "        \n",
        "    def __len__(self):\n",
        "        return len(self.tweets)\n",
        "\n",
        "    def __getitem__(self, item):\n",
        "        return self.tweets[item]"
      ]
    },
    {
      "cell_type": "code",
      "execution_count": null,
      "metadata": {
        "id": "127cad4f-9c55-42b5-a0f9-afc2fca152b0"
      },
      "outputs": [],
      "source": [
        "#Accumulated batch size (since GPT2 is so big)\n",
        "def pack_tensor(new_tensor, packed_tensor, max_seq_len):\n",
        "    if packed_tensor is None:\n",
        "        return new_tensor, True, None\n",
        "    if new_tensor.size()[1] + packed_tensor.size()[1] > max_seq_len:\n",
        "        return packed_tensor, False, new_tensor\n",
        "    else:\n",
        "        packed_tensor = torch.cat([new_tensor, packed_tensor[:, 1:]], dim=1)\n",
        "        return packed_tensor, True, None"
      ]
    },
    {
      "cell_type": "code",
      "execution_count": null,
      "metadata": {
        "id": "ff2bd668-882c-4d3e-aae2-8d6c58fbcabe"
      },
      "outputs": [],
      "source": [
        "def train(\n",
        "    dataset, model, tokenizer,\n",
        "    batch_size=128, epochs=100, lr=2e-5,\n",
        "    max_seq_len=280, warmup_steps=200,\n",
        "    output_dir=\".\", output_prefix=\"\",\n",
        "    test_mode=False,save_model_on_epoch=False,batch_size_train = 1\n",
        "):\n",
        "    acc_steps = 100\n",
        "    device=torch.device(\"cuda\")\n",
        "    model = model.cuda()\n",
        "    model.train()\n",
        "\n",
        "    optimizer = AdamW(model.parameters(), lr=lr)\n",
        "    scheduler = get_linear_schedule_with_warmup(\n",
        "        optimizer, num_warmup_steps=warmup_steps, num_training_steps=-1\n",
        "    )\n",
        "\n",
        "    train_dataloader = DataLoader(dataset, batch_size=batch_size_train, shuffle=True)\n",
        "    loss=0\n",
        "    losses = [torch.tensor(np.inf)]\n",
        "    accumulating_batch_count = 0\n",
        "    input_tensor = None\n",
        "    best_model = None\n",
        "    \n",
        "    for epoch in range(epochs):\n",
        "\n",
        "        print(f\"Training epoch {epoch}\")\n",
        "        for idx, entry in tqdm(enumerate(train_dataloader)):\n",
        "            (input_tensor, carry_on, remainder) = pack_tensor(entry, input_tensor, 768)\n",
        "\n",
        "            if carry_on and idx != len(train_dataloader) - 1:\n",
        "                continue\n",
        "\n",
        "            input_tensor = input_tensor.to(device)\n",
        "            outputs = model(input_tensor, labels=input_tensor)\n",
        "            loss = outputs[0]\n",
        "            loss.backward()\n",
        "\n",
        "            if (accumulating_batch_count % batch_size) == 0:\n",
        "                optimizer.step()\n",
        "                scheduler.step()\n",
        "                optimizer.zero_grad()\n",
        "                model.zero_grad()\n",
        "\n",
        "            accumulating_batch_count += 1\n",
        "            input_tensor = None\n",
        "        if loss < losses[-1]:\n",
        "            best_model = model.state_dict().copy()\n",
        "        losses.append(loss)\n",
        "        if save_model_on_epoch:\n",
        "            torch.save(\n",
        "                model.state_dict(),\n",
        "                os.path.join(output_dir, f\"{output_prefix}-{epoch}.pt\"),\n",
        "            )\n",
        "            \n",
        "    return model,losses, best_model"
      ]
    },
    {
      "cell_type": "markdown",
      "metadata": {
        "id": "4w6WIkG1o9F4"
      },
      "source": [
        "#### Training step"
      ]
    },
    {
      "cell_type": "markdown",
      "metadata": {
        "id": "_93i-eZyp7ik"
      },
      "source": [
        "##### Le Pen"
      ]
    },
    {
      "cell_type": "code",
      "execution_count": null,
      "metadata": {
        "id": "8IICBo4AwZHZ"
      },
      "outputs": [],
      "source": [
        "model_MLP = GPT2LMHeadModel.from_pretrained(\"antoiloui/belgpt2\")\n",
        "tokenizer_MLP = GPT2Tokenizer.from_pretrained(\"antoiloui/belgpt2\")\n",
        "\n",
        "res_MLP = remove_hashtag_url(dataframe_by_candidat[\"LePen\"])\n",
        "\n",
        "res_MLP = res_MLP[res_MLP[\"text_tweet\"].apply(len) > n_min]\n",
        "\n",
        "data_MLP = TweetCandidat(res_MLP, tokenizer_MLP)\n",
        "\n",
        "res_mlp = train(data_MLP,model_MLP, tokenizer_MLP, epochs = 100, lr=1e-6)"
      ]
    },
    {
      "cell_type": "code",
      "execution_count": null,
      "metadata": {
        "id": "91948262-b5a7-48ce-8003-768ff3fef115"
      },
      "outputs": [],
      "source": [
        "torch.save(model_macron.state_dict(), \"model_MLP.pt\")"
      ]
    },
    {
      "cell_type": "markdown",
      "metadata": {
        "id": "1Jn9-bnewZHa"
      },
      "source": [
        "##### Macron"
      ]
    },
    {
      "cell_type": "code",
      "execution_count": null,
      "metadata": {
        "collapsed": true,
        "id": "NUXz1TQvwZHa",
        "outputId": "fa6d85e7-da69-4414-bafe-5bc057d76151"
      },
      "outputs": [
        {
          "name": "stderr",
          "output_type": "stream",
          "text": [
            "/opt/conda/lib/python3.7/site-packages/ipykernel_launcher.py:32: SettingWithCopyWarning: \n",
            "A value is trying to be set on a copy of a slice from a DataFrame\n",
            "\n",
            "See the caveats in the documentation: https://pandas.pydata.org/pandas-docs/stable/user_guide/indexing.html#returning-a-view-versus-a-copy\n",
            "/opt/conda/lib/python3.7/site-packages/ipykernel_launcher.py:33: SettingWithCopyWarning: \n",
            "A value is trying to be set on a copy of a slice from a DataFrame\n",
            "\n",
            "See the caveats in the documentation: https://pandas.pydata.org/pandas-docs/stable/user_guide/indexing.html#returning-a-view-versus-a-copy\n",
            "/opt/conda/lib/python3.7/site-packages/ipykernel_launcher.py:34: SettingWithCopyWarning: \n",
            "A value is trying to be set on a copy of a slice from a DataFrame\n",
            "\n",
            "See the caveats in the documentation: https://pandas.pydata.org/pandas-docs/stable/user_guide/indexing.html#returning-a-view-versus-a-copy\n",
            "/opt/conda/lib/python3.7/site-packages/ipykernel_launcher.py:35: SettingWithCopyWarning: \n",
            "A value is trying to be set on a copy of a slice from a DataFrame\n",
            "\n",
            "See the caveats in the documentation: https://pandas.pydata.org/pandas-docs/stable/user_guide/indexing.html#returning-a-view-versus-a-copy\n",
            "/opt/conda/lib/python3.7/site-packages/ipykernel_launcher.py:36: SettingWithCopyWarning: \n",
            "A value is trying to be set on a copy of a slice from a DataFrame\n",
            "\n",
            "See the caveats in the documentation: https://pandas.pydata.org/pandas-docs/stable/user_guide/indexing.html#returning-a-view-versus-a-copy\n",
            "/opt/conda/lib/python3.7/site-packages/ipykernel_launcher.py:37: SettingWithCopyWarning: \n",
            "A value is trying to be set on a copy of a slice from a DataFrame\n",
            "\n",
            "See the caveats in the documentation: https://pandas.pydata.org/pandas-docs/stable/user_guide/indexing.html#returning-a-view-versus-a-copy\n",
            "/opt/conda/lib/python3.7/site-packages/transformers/optimization.py:309: FutureWarning: This implementation of AdamW is deprecated and will be removed in a future version. Use the PyTorch implementation torch.optim.AdamW instead, or set `no_deprecation_warning=True` to disable this warning\n",
            "  FutureWarning,\n",
            "0it [00:00, ?it/s]"
          ]
        },
        {
          "name": "stdout",
          "output_type": "stream",
          "text": [
            "Training epoch 0\n"
          ]
        },
        {
          "name": "stderr",
          "output_type": "stream",
          "text": [
            "7004it [02:08, 54.35it/s]\n",
            "0it [00:00, ?it/s]"
          ]
        },
        {
          "name": "stdout",
          "output_type": "stream",
          "text": [
            "Training epoch 1\n"
          ]
        },
        {
          "name": "stderr",
          "output_type": "stream",
          "text": [
            "7004it [02:14, 51.92it/s]\n",
            "0it [00:00, ?it/s]"
          ]
        },
        {
          "name": "stdout",
          "output_type": "stream",
          "text": [
            "Training epoch 2\n"
          ]
        },
        {
          "name": "stderr",
          "output_type": "stream",
          "text": [
            "7004it [02:14, 52.26it/s]\n",
            "0it [00:00, ?it/s]"
          ]
        },
        {
          "name": "stdout",
          "output_type": "stream",
          "text": [
            "Training epoch 3\n"
          ]
        },
        {
          "name": "stderr",
          "output_type": "stream",
          "text": [
            "7004it [02:13, 52.64it/s]\n",
            "0it [00:00, ?it/s]"
          ]
        },
        {
          "name": "stdout",
          "output_type": "stream",
          "text": [
            "Training epoch 4\n"
          ]
        },
        {
          "name": "stderr",
          "output_type": "stream",
          "text": [
            "7004it [02:12, 52.73it/s]\n",
            "0it [00:00, ?it/s]"
          ]
        },
        {
          "name": "stdout",
          "output_type": "stream",
          "text": [
            "Training epoch 5\n"
          ]
        },
        {
          "name": "stderr",
          "output_type": "stream",
          "text": [
            "7004it [02:12, 52.76it/s]\n",
            "0it [00:00, ?it/s]"
          ]
        },
        {
          "name": "stdout",
          "output_type": "stream",
          "text": [
            "Training epoch 6\n"
          ]
        },
        {
          "name": "stderr",
          "output_type": "stream",
          "text": [
            "7004it [02:12, 52.79it/s]\n",
            "0it [00:00, ?it/s]"
          ]
        },
        {
          "name": "stdout",
          "output_type": "stream",
          "text": [
            "Training epoch 7\n"
          ]
        },
        {
          "name": "stderr",
          "output_type": "stream",
          "text": [
            "7004it [02:12, 52.82it/s]\n",
            "0it [00:00, ?it/s]"
          ]
        },
        {
          "name": "stdout",
          "output_type": "stream",
          "text": [
            "Training epoch 8\n"
          ]
        },
        {
          "name": "stderr",
          "output_type": "stream",
          "text": [
            "7004it [02:12, 52.78it/s]\n",
            "0it [00:00, ?it/s]"
          ]
        },
        {
          "name": "stdout",
          "output_type": "stream",
          "text": [
            "Training epoch 9\n"
          ]
        },
        {
          "name": "stderr",
          "output_type": "stream",
          "text": [
            "7004it [02:12, 52.74it/s]\n",
            "0it [00:00, ?it/s]"
          ]
        },
        {
          "name": "stdout",
          "output_type": "stream",
          "text": [
            "Training epoch 10\n"
          ]
        },
        {
          "name": "stderr",
          "output_type": "stream",
          "text": [
            "7004it [02:11, 53.09it/s]\n",
            "0it [00:00, ?it/s]"
          ]
        },
        {
          "name": "stdout",
          "output_type": "stream",
          "text": [
            "Training epoch 11\n"
          ]
        },
        {
          "name": "stderr",
          "output_type": "stream",
          "text": [
            "7004it [02:12, 52.90it/s]\n",
            "0it [00:00, ?it/s]"
          ]
        },
        {
          "name": "stdout",
          "output_type": "stream",
          "text": [
            "Training epoch 12\n"
          ]
        },
        {
          "name": "stderr",
          "output_type": "stream",
          "text": [
            "7004it [02:12, 52.81it/s]\n",
            "0it [00:00, ?it/s]"
          ]
        },
        {
          "name": "stdout",
          "output_type": "stream",
          "text": [
            "Training epoch 13\n"
          ]
        },
        {
          "name": "stderr",
          "output_type": "stream",
          "text": [
            "7004it [02:12, 52.66it/s]\n",
            "0it [00:00, ?it/s]"
          ]
        },
        {
          "name": "stdout",
          "output_type": "stream",
          "text": [
            "Training epoch 14\n"
          ]
        },
        {
          "name": "stderr",
          "output_type": "stream",
          "text": [
            "7004it [02:12, 52.73it/s]\n",
            "0it [00:00, ?it/s]"
          ]
        },
        {
          "name": "stdout",
          "output_type": "stream",
          "text": [
            "Training epoch 15\n"
          ]
        },
        {
          "name": "stderr",
          "output_type": "stream",
          "text": [
            "7004it [02:12, 52.75it/s]\n",
            "0it [00:00, ?it/s]"
          ]
        },
        {
          "name": "stdout",
          "output_type": "stream",
          "text": [
            "Training epoch 16\n"
          ]
        },
        {
          "name": "stderr",
          "output_type": "stream",
          "text": [
            "7004it [02:12, 52.89it/s]\n",
            "0it [00:00, ?it/s]"
          ]
        },
        {
          "name": "stdout",
          "output_type": "stream",
          "text": [
            "Training epoch 17\n"
          ]
        },
        {
          "name": "stderr",
          "output_type": "stream",
          "text": [
            "7004it [02:12, 52.89it/s]\n",
            "0it [00:00, ?it/s]"
          ]
        },
        {
          "name": "stdout",
          "output_type": "stream",
          "text": [
            "Training epoch 18\n"
          ]
        },
        {
          "name": "stderr",
          "output_type": "stream",
          "text": [
            "7004it [02:12, 52.74it/s]\n",
            "0it [00:00, ?it/s]"
          ]
        },
        {
          "name": "stdout",
          "output_type": "stream",
          "text": [
            "Training epoch 19\n"
          ]
        },
        {
          "name": "stderr",
          "output_type": "stream",
          "text": [
            "7004it [02:12, 52.83it/s]\n",
            "0it [00:00, ?it/s]"
          ]
        },
        {
          "name": "stdout",
          "output_type": "stream",
          "text": [
            "Training epoch 20\n"
          ]
        },
        {
          "name": "stderr",
          "output_type": "stream",
          "text": [
            "7004it [02:12, 52.83it/s]\n",
            "0it [00:00, ?it/s]"
          ]
        },
        {
          "name": "stdout",
          "output_type": "stream",
          "text": [
            "Training epoch 21\n"
          ]
        },
        {
          "name": "stderr",
          "output_type": "stream",
          "text": [
            "7004it [02:12, 52.95it/s]\n",
            "0it [00:00, ?it/s]"
          ]
        },
        {
          "name": "stdout",
          "output_type": "stream",
          "text": [
            "Training epoch 22\n"
          ]
        },
        {
          "name": "stderr",
          "output_type": "stream",
          "text": [
            "7004it [02:12, 52.77it/s]\n",
            "0it [00:00, ?it/s]"
          ]
        },
        {
          "name": "stdout",
          "output_type": "stream",
          "text": [
            "Training epoch 23\n"
          ]
        },
        {
          "name": "stderr",
          "output_type": "stream",
          "text": [
            "7004it [02:12, 52.83it/s]\n",
            "0it [00:00, ?it/s]"
          ]
        },
        {
          "name": "stdout",
          "output_type": "stream",
          "text": [
            "Training epoch 24\n"
          ]
        },
        {
          "name": "stderr",
          "output_type": "stream",
          "text": [
            "7004it [02:12, 52.97it/s]\n",
            "0it [00:00, ?it/s]"
          ]
        },
        {
          "name": "stdout",
          "output_type": "stream",
          "text": [
            "Training epoch 25\n"
          ]
        },
        {
          "name": "stderr",
          "output_type": "stream",
          "text": [
            "7004it [02:12, 52.80it/s]\n",
            "0it [00:00, ?it/s]"
          ]
        },
        {
          "name": "stdout",
          "output_type": "stream",
          "text": [
            "Training epoch 26\n"
          ]
        },
        {
          "name": "stderr",
          "output_type": "stream",
          "text": [
            "7004it [02:12, 52.81it/s]\n",
            "0it [00:00, ?it/s]"
          ]
        },
        {
          "name": "stdout",
          "output_type": "stream",
          "text": [
            "Training epoch 27\n"
          ]
        },
        {
          "name": "stderr",
          "output_type": "stream",
          "text": [
            "7004it [02:12, 52.87it/s]\n",
            "0it [00:00, ?it/s]"
          ]
        },
        {
          "name": "stdout",
          "output_type": "stream",
          "text": [
            "Training epoch 28\n"
          ]
        },
        {
          "name": "stderr",
          "output_type": "stream",
          "text": [
            "7004it [02:12, 52.74it/s]\n",
            "0it [00:00, ?it/s]"
          ]
        },
        {
          "name": "stdout",
          "output_type": "stream",
          "text": [
            "Training epoch 29\n"
          ]
        },
        {
          "name": "stderr",
          "output_type": "stream",
          "text": [
            "7004it [02:12, 52.81it/s]\n",
            "0it [00:00, ?it/s]"
          ]
        },
        {
          "name": "stdout",
          "output_type": "stream",
          "text": [
            "Training epoch 30\n"
          ]
        },
        {
          "name": "stderr",
          "output_type": "stream",
          "text": [
            "7004it [02:12, 52.83it/s]\n",
            "0it [00:00, ?it/s]"
          ]
        },
        {
          "name": "stdout",
          "output_type": "stream",
          "text": [
            "Training epoch 31\n"
          ]
        },
        {
          "name": "stderr",
          "output_type": "stream",
          "text": [
            "7004it [02:12, 52.82it/s]\n",
            "0it [00:00, ?it/s]"
          ]
        },
        {
          "name": "stdout",
          "output_type": "stream",
          "text": [
            "Training epoch 32\n"
          ]
        },
        {
          "name": "stderr",
          "output_type": "stream",
          "text": [
            "7004it [02:12, 52.79it/s]\n",
            "0it [00:00, ?it/s]"
          ]
        },
        {
          "name": "stdout",
          "output_type": "stream",
          "text": [
            "Training epoch 33\n"
          ]
        },
        {
          "name": "stderr",
          "output_type": "stream",
          "text": [
            "7004it [02:12, 52.89it/s]\n",
            "0it [00:00, ?it/s]"
          ]
        },
        {
          "name": "stdout",
          "output_type": "stream",
          "text": [
            "Training epoch 34\n"
          ]
        },
        {
          "name": "stderr",
          "output_type": "stream",
          "text": [
            "7004it [02:12, 52.79it/s]\n",
            "0it [00:00, ?it/s]"
          ]
        },
        {
          "name": "stdout",
          "output_type": "stream",
          "text": [
            "Training epoch 35\n"
          ]
        },
        {
          "name": "stderr",
          "output_type": "stream",
          "text": [
            "7004it [02:12, 52.67it/s]\n",
            "0it [00:00, ?it/s]"
          ]
        },
        {
          "name": "stdout",
          "output_type": "stream",
          "text": [
            "Training epoch 36\n"
          ]
        },
        {
          "name": "stderr",
          "output_type": "stream",
          "text": [
            "7004it [02:12, 52.72it/s]\n",
            "0it [00:00, ?it/s]"
          ]
        },
        {
          "name": "stdout",
          "output_type": "stream",
          "text": [
            "Training epoch 37\n"
          ]
        },
        {
          "name": "stderr",
          "output_type": "stream",
          "text": [
            "7004it [02:12, 52.98it/s]\n",
            "0it [00:00, ?it/s]"
          ]
        },
        {
          "name": "stdout",
          "output_type": "stream",
          "text": [
            "Training epoch 38\n"
          ]
        },
        {
          "name": "stderr",
          "output_type": "stream",
          "text": [
            "7004it [02:12, 52.86it/s]\n",
            "0it [00:00, ?it/s]"
          ]
        },
        {
          "name": "stdout",
          "output_type": "stream",
          "text": [
            "Training epoch 39\n"
          ]
        },
        {
          "name": "stderr",
          "output_type": "stream",
          "text": [
            "7004it [02:12, 52.86it/s]\n",
            "0it [00:00, ?it/s]"
          ]
        },
        {
          "name": "stdout",
          "output_type": "stream",
          "text": [
            "Training epoch 40\n"
          ]
        },
        {
          "name": "stderr",
          "output_type": "stream",
          "text": [
            "7004it [02:12, 52.99it/s]\n",
            "0it [00:00, ?it/s]"
          ]
        },
        {
          "name": "stdout",
          "output_type": "stream",
          "text": [
            "Training epoch 41\n"
          ]
        },
        {
          "name": "stderr",
          "output_type": "stream",
          "text": [
            "7004it [02:12, 52.75it/s]\n",
            "0it [00:00, ?it/s]"
          ]
        },
        {
          "name": "stdout",
          "output_type": "stream",
          "text": [
            "Training epoch 42\n"
          ]
        },
        {
          "name": "stderr",
          "output_type": "stream",
          "text": [
            "7004it [02:12, 53.00it/s]\n",
            "0it [00:00, ?it/s]"
          ]
        },
        {
          "name": "stdout",
          "output_type": "stream",
          "text": [
            "Training epoch 43\n"
          ]
        },
        {
          "name": "stderr",
          "output_type": "stream",
          "text": [
            "7004it [02:12, 52.76it/s]\n",
            "0it [00:00, ?it/s]"
          ]
        },
        {
          "name": "stdout",
          "output_type": "stream",
          "text": [
            "Training epoch 44\n"
          ]
        },
        {
          "name": "stderr",
          "output_type": "stream",
          "text": [
            "7004it [02:12, 53.05it/s]\n",
            "0it [00:00, ?it/s]"
          ]
        },
        {
          "name": "stdout",
          "output_type": "stream",
          "text": [
            "Training epoch 45\n"
          ]
        },
        {
          "name": "stderr",
          "output_type": "stream",
          "text": [
            "7004it [02:12, 53.02it/s]\n",
            "0it [00:00, ?it/s]"
          ]
        },
        {
          "name": "stdout",
          "output_type": "stream",
          "text": [
            "Training epoch 46\n"
          ]
        },
        {
          "name": "stderr",
          "output_type": "stream",
          "text": [
            "6841it [02:09, 52.69it/s]"
          ]
        }
      ],
      "source": [
        "model_macron = GPT2LMHeadModel.from_pretrained(\"antoiloui/belgpt2\")\n",
        "tokenizer_macron = GPT2Tokenizer.from_pretrained(\"antoiloui/belgpt2\")\n",
        "\n",
        "res_macron = remove_hashtag_url(dataframe_by_candidat[\"Macron\"])\n",
        "\n",
        "res_macron = res_macron[res_macron[\"text_tweet\"].apply(len) > n_min]\n",
        "\n",
        "data_macron = TweetCandidat(res_macron, tokenizer_macron)\n",
        "\n",
        "train(data_macron,model_macron, tokenizer_macron, epochs = 100, lr=1e-6)"
      ]
    },
    {
      "cell_type": "code",
      "execution_count": null,
      "metadata": {
        "id": "1d9cd0d8-922b-4e53-87e4-bb2330544736"
      },
      "outputs": [],
      "source": [
        "torch.save(model_macron.state_dict(), \"model_macron.pt\")"
      ]
    },
    {
      "cell_type": "markdown",
      "metadata": {
        "id": "drrbdXbCwZHa"
      },
      "source": [
        "##### Mélenchon"
      ]
    },
    {
      "cell_type": "code",
      "execution_count": null,
      "metadata": {
        "id": "AWZuHGoPwZHa"
      },
      "outputs": [],
      "source": [
        "model_mel = GPT2LMHeadModel.from_pretrained(\"antoiloui/belgpt2\")\n",
        "tokenizer_mel = GPT2Tokenizer.from_pretrained(\"antoiloui/belgpt2\")\n",
        "\n",
        "res_mel = remove_hashtag_url(dataframe_by_candidat[\"Melenchon\"])\n",
        "\n",
        "res_mel = res_mel[res_mel[\"text_tweet\"].apply(len) > n_min]\n",
        "\n",
        "data_mel = TweetCandidat(res_mel, tokenizer_mel)\n",
        "\n",
        "res = train(data_mel,model_mel, tokenizer_mel, epochs = 100, lr=1e-6)"
      ]
    },
    {
      "cell_type": "code",
      "execution_count": null,
      "metadata": {
        "id": "b9d0a93b-b50c-4fe7-86ee-c820ee0bb801"
      },
      "outputs": [],
      "source": [
        "torch.save(model_mel.state_dict(), \"model_mel.pt\")"
      ]
    },
    {
      "cell_type": "markdown",
      "metadata": {
        "id": "UWXFQwUCwZHb"
      },
      "source": [
        "##### Zemmour"
      ]
    },
    {
      "cell_type": "code",
      "execution_count": null,
      "metadata": {
        "id": "cTaQ8DXDwZHb"
      },
      "outputs": [],
      "source": [
        "model_zemmour = GPT2LMHeadModel.from_pretrained(\"antoiloui/belgpt2\")\n",
        "tokenizer_zemmour = GPT2Tokenizer.from_pretrained(\"antoiloui/belgpt2\")\n",
        "\n",
        "res_zemmour = remove_hashtag_url(dataframe_by_candidat[\"Zemmour\"])\n",
        "\n",
        "res_zemmour = res_zemmour[res_zemmour[\"text_tweet\"].apply(len) > n_min]\n",
        "\n",
        "data_zemmour = TweetCandidat(res_zemmour, tokenizer_zemmour)\n",
        "\n",
        "res_zemmour = train(data_zemmour,model_zemmour, tokenizer_zemmour, epochs = 100, lr=1e-6)"
      ]
    },
    {
      "cell_type": "code",
      "execution_count": null,
      "metadata": {
        "id": "f0d04b27-5bb4-44c5-89e5-144a628e47c8"
      },
      "outputs": [],
      "source": [
        "torch.save(model_zemmour.state_dict(), \"model_zemmour.pt\")"
      ]
    },
    {
      "cell_type": "markdown",
      "metadata": {
        "id": "Iz7zt2rCwZHb"
      },
      "source": [
        "##### Pécresse"
      ]
    },
    {
      "cell_type": "code",
      "execution_count": null,
      "metadata": {
        "id": "uPq4jsozwZHb"
      },
      "outputs": [],
      "source": [
        "model_pecresse = GPT2LMHeadModel.from_pretrained(\"antoiloui/belgpt2\")\n",
        "tokenizer_pecresse = GPT2Tokenizer.from_pretrained(\"antoiloui/belgpt2\")\n",
        "\n",
        "res_pecresse = remove_hashtag_url(dataframe_by_candidat[\"Pecresse\"])\n",
        "\n",
        "res_pecresse = res_pecresse[res_pecresse[\"text_tweet\"].apply(len) > n_min]\n",
        "\n",
        "data_pecresse = TweetCandidat(res_pecresse, tokenizer_pecresse)\n",
        "\n",
        "res_pecresse = train(data_pecresse,model_pecresse, tokenizer_pecresse, epochs = 100, lr=1e-6)"
      ]
    },
    {
      "cell_type": "code",
      "execution_count": null,
      "metadata": {
        "id": "c0dfff58-307c-4975-ab2d-9dd6445b9882"
      },
      "outputs": [],
      "source": [
        "torch.save(model_pecresse.state_dict(), \"model_pecresse.pt\")"
      ]
    },
    {
      "cell_type": "markdown",
      "metadata": {
        "id": "xpG_EkD8yRN1"
      },
      "source": [
        "## LSTM"
      ]
    },
    {
      "cell_type": "markdown",
      "metadata": {
        "id": "5a1MTg9L3mq9"
      },
      "source": [
        "### Explanatory data analysis"
      ]
    },
    {
      "cell_type": "code",
      "execution_count": null,
      "metadata": {
        "id": "7Mcdjh5P2ECG"
      },
      "outputs": [],
      "source": [
        "dataframes_by_account = dict(zip(names,dataframes))\n",
        "a = list(zip(names,candidat_names))\n",
        "\n",
        "dataframe_by_candidat = {}\n",
        "\n",
        "for candidat in set(candidat_names):\n",
        "    list_accounts = [elem for elem in a if elem[1] == candidat]\n",
        "    data_list_accounts = [dataframes_by_account[elem[0]] for elem in list_accounts]\n",
        "    data_list_accounts = pd.concat(data_list_accounts, axis = 0, ignore_index = True)\n",
        "    dataframe_by_candidat[candidat] = data_list_accounts"
      ]
    },
    {
      "cell_type": "markdown",
      "metadata": {
        "id": "RFAmkLzY2ECI"
      },
      "source": [
        "remove emoticones, url, cyrillic alphabet. Lowercase the letters and remove sentences with only spaces, ponctuations or number."
      ]
    },
    {
      "cell_type": "code",
      "execution_count": null,
      "metadata": {
        "id": "zAuCMkfu2ECJ"
      },
      "outputs": [],
      "source": [
        "def remove_emot_url(dataframe):\n",
        "    res = dataframe.copy()\n",
        "    emoji_pattern = re.compile(\"[\"\n",
        "                        u\"\\U0001F600-\\U0001F64F\"  # emoticons\n",
        "                        u\"\\U0001F300-\\U0001F5FF\"  # symbols & pictographs\n",
        "                        u\"\\U0001F680-\\U0001F6FF\"  # transport & map symbols\n",
        "                        u\"\\U0001F1E0-\\U0001F1FF\"  # flags (iOS)\n",
        "                        u\"\\U00002500-\\U00002BEF\"  # chinese char\n",
        "                        u\"\\U00002702-\\U000027B0\"\n",
        "                        u\"\\U00002702-\\U000027B0\"\n",
        "                        u\"\\U000024C2-\\U0001F251\"\n",
        "                        u\"\\U0001f926-\\U0001f937\"\n",
        "                        u\"\\U00010000-\\U0010ffff\"\n",
        "                        u\"\\u1000-\\u1090\" #myanmar alphabet\n",
        "                        u\"\\u0400-\\u04F0\" #cyrillic alphabet\n",
        "                        u\"\\u2640-\\u2642\"\n",
        "                        u\"\\u2600-\\u2B55\"\n",
        "                        u\"\\u23F0-\\u23FB\"\n",
        "                        u\"\\u274C-\\u274E\"\n",
        "                        u\"\\u2196-\\u2199\"\n",
        "                        u\"\\u200d\"\n",
        "                        u\"\\u23cf\"\n",
        "                        u\"\\u23e9\"\n",
        "                        u\"\\u231a\"\n",
        "                        u\"\\ufe0f\"  # dingbats\n",
        "                        u\"\\u3030\"\n",
        "                        u\"\\u2028\"\n",
        "                        u\"\\u21AA\"  \n",
        "                        u\"\\u2139\"\n",
        "                        u\"\\u2066\"\n",
        "                        u\"\\u2069\"\n",
        "                        u\"\\u203C\"\n",
        "                        u\"\\u2009\"\n",
        "                        u\"\\u27A1\"\n",
        "                        u\"\\u2192\"\n",
        "                        u\"\\u2022\"\n",
        "                        u\"\\u21B4\"\n",
        "                        u\"\\u2193\"\n",
        "                        u\"\\u21A9\"\n",
        "                        u\"\\u00AD\"\n",
        "                        u\"\\u1D49\"\n",
        "                        u\"\\u200b\"\n",
        "                        \"]+\", flags=re.UNICODE)\n",
        "    \n",
        "    for i in range(len(res[\"text_tweet\"])):\n",
        "        res[\"text_tweet\"][i] = re.sub(r'http\\S+', '', res[\"text_tweet\"][i], flags=re.MULTILINE)\n",
        "        res[\"text_tweet\"][i] = re.sub(r'\\n', '', res[\"text_tweet\"][i], flags=re.MULTILINE)\n",
        "        res[\"text_tweet\"][i] = re.sub(r'\\r', '', res[\"text_tweet\"][i], flags=re.MULTILINE)\n",
        "        res[\"text_tweet\"][i] = re.sub(r'İ', 'i', res[\"text_tweet\"][i], flags=re.MULTILINE)\n",
        "        res[\"text_tweet\"][i] = re.sub(r'\\xa0', '', res[\"text_tweet\"][i], flags=re.MULTILINE)\n",
        "        res[\"text_tweet\"][i] = re.sub(r'⃣', '', res[\"text_tweet\"][i], flags=re.MULTILINE)\n",
        "        res[\"text_tweet\"][i] = emoji_pattern.sub(r'', res[\"text_tweet\"][i])\n",
        "        res[\"text_tweet\"][i] = res[\"text_tweet\"][i].lower()\n",
        "        if len(re.sub(r' |[^\\w\\s]|\\d+', '', res[\"text_tweet\"][i], flags=re.MULTILINE)) == 0:\n",
        "            res.drop(i, inplace = True)\n",
        "    return res"
      ]
    },
    {
      "cell_type": "code",
      "execution_count": null,
      "metadata": {
        "id": "bfTE8Jx82ECL"
      },
      "outputs": [],
      "source": [
        "res_lepen = remove_emot_url(dataframe_by_candidat[\"LePen\"])"
      ]
    },
    {
      "cell_type": "code",
      "execution_count": null,
      "metadata": {
        "id": "HtEov0ez5CH9"
      },
      "outputs": [],
      "source": [
        "res_melenchon = remove_emot_url(dataframe_by_candidat[\"Melenchon\"])"
      ]
    },
    {
      "cell_type": "code",
      "execution_count": null,
      "metadata": {
        "id": "8CVeO4ad5CUY"
      },
      "outputs": [],
      "source": [
        "res_macron = remove_emot_url(dataframe_by_candidat[\"Macron\"])"
      ]
    },
    {
      "cell_type": "code",
      "execution_count": null,
      "metadata": {
        "id": "MOILZ-ba5CrE"
      },
      "outputs": [],
      "source": [
        "res_pecresse = remove_emot_url(dataframe_by_candidat[\"Pecresse\"])"
      ]
    },
    {
      "cell_type": "code",
      "execution_count": null,
      "metadata": {
        "id": "PceOUg_u5JvJ"
      },
      "outputs": [],
      "source": [
        "res_zemmour = remove_emot_url(dataframe_by_candidat[\"Zemmour\"])"
      ]
    },
    {
      "cell_type": "markdown",
      "metadata": {
        "id": "b8orrT592ECO"
      },
      "source": [
        "Remove tweets that are not in French"
      ]
    },
    {
      "cell_type": "code",
      "execution_count": null,
      "metadata": {
        "id": "5r2f2SrR2ECO",
        "scrolled": true
      },
      "outputs": [],
      "source": [
        "def remove_not_french_tweets(res):\n",
        "    DetectorFactory.seed = 0\n",
        "    for i in res[\"text_tweet\"].index:\n",
        "        if detect(res[\"text_tweet\"][i]) != 'fr':\n",
        "            res.drop(i, inplace = True)\n",
        "    return res"
      ]
    },
    {
      "cell_type": "code",
      "execution_count": null,
      "metadata": {
        "id": "lFuJ90ZH404F"
      },
      "outputs": [],
      "source": [
        "res_lepen = remove_not_french_tweets(res_lepen)"
      ]
    },
    {
      "cell_type": "code",
      "execution_count": null,
      "metadata": {
        "id": "FtzGcRW441MZ"
      },
      "outputs": [],
      "source": [
        "res_melenchon = remove_not_french_tweets(res_melenchon)"
      ]
    },
    {
      "cell_type": "code",
      "execution_count": null,
      "metadata": {
        "id": "DqVBerxK41Sh"
      },
      "outputs": [],
      "source": [
        "res_macron = remove_not_french_tweets(res_macron)"
      ]
    },
    {
      "cell_type": "code",
      "execution_count": null,
      "metadata": {
        "id": "xuIxRAEF41oW"
      },
      "outputs": [],
      "source": [
        "res_pecresse = remove_not_french_tweets(res_pecresse)"
      ]
    },
    {
      "cell_type": "code",
      "execution_count": null,
      "metadata": {
        "id": "1TYbHmpo413B"
      },
      "outputs": [],
      "source": [
        "res_zemmour = remove_not_french_tweets(res_zemmour)"
      ]
    },
    {
      "cell_type": "markdown",
      "metadata": {
        "id": "zRYDepFe2ECP"
      },
      "source": [
        "Split tweets into characters"
      ]
    },
    {
      "cell_type": "code",
      "execution_count": null,
      "metadata": {
        "id": "n55mHkvM2ECP"
      },
      "outputs": [],
      "source": [
        "def tokenize(df):\n",
        "    tokenized_sentences = []\n",
        "    for s in df[\"text_tweet\"]:\n",
        "        L= []\n",
        "        for char in s:\n",
        "            L.append(char)\n",
        "        tokenized_sentences.append(L)\n",
        "    return tokenized_sentences"
      ]
    },
    {
      "cell_type": "code",
      "execution_count": null,
      "metadata": {
        "id": "_4ZElUbc2ECQ"
      },
      "outputs": [],
      "source": [
        "tokens_lepen = tokenize(res_lepen)"
      ]
    },
    {
      "cell_type": "code",
      "execution_count": null,
      "metadata": {
        "id": "tbBOcbdB5QAe"
      },
      "outputs": [],
      "source": [
        "tokens_melenchon = tokenize(res_melenchon)"
      ]
    },
    {
      "cell_type": "code",
      "execution_count": null,
      "metadata": {
        "id": "zsj7DMdx5QMg"
      },
      "outputs": [],
      "source": [
        "tokens_macron = tokenize(res_macron)"
      ]
    },
    {
      "cell_type": "code",
      "execution_count": null,
      "metadata": {
        "id": "y00yMhS25QUN"
      },
      "outputs": [],
      "source": [
        "tokens_pecresse = tokenize(res_pecresse)"
      ]
    },
    {
      "cell_type": "code",
      "execution_count": null,
      "metadata": {
        "id": "PeqwMZ3a5QkE"
      },
      "outputs": [],
      "source": [
        "tokens_zemmour = tokenize(res_zemmour)"
      ]
    },
    {
      "cell_type": "markdown",
      "metadata": {
        "id": "4wHSdWIe2ECQ"
      },
      "source": [
        "Define the character dictionary and count the number of characters"
      ]
    },
    {
      "cell_type": "code",
      "execution_count": null,
      "metadata": {
        "id": "GOlJJdfA2ECQ"
      },
      "outputs": [],
      "source": [
        "all_letters_lepen =list(string.ascii_lowercase + string.digits + string.punctuation + \" éàèùô‘’â«»îê…çœïû€äëüáñ“”–‑öóÿşã°íøłńšðệủč—´²×·º\") \n",
        "all_letters_melenchon =list(string.ascii_lowercase + string.digits + string.punctuation + \" éàèùô‘’â«»îê…çœïû€äëüáñ“”–‑öóÿşã°íøłńšðệủč—´²×·º\") \n",
        "all_letters_zemmour =list(string.ascii_lowercase + string.digits + string.punctuation + \" éàèùô‘’â«»îê…çœïû€äëüáñ“”–‑öóÿşã°íøłńšðệủčđåć—´²×·º¡\") \n",
        "all_letters_macron =list(string.ascii_lowercase + string.digits + string.punctuation + \" éàèùô‘’â«»îê…çœïû€äëüáñ“”–‑öóÿşã°íøłńšðệủčđåć—´²×·º¡\") \n",
        "all_letters_pecresse =list(string.ascii_lowercase + string.digits + string.punctuation + \" éàèùô‘’ˋâ«»îê…çœïû€äëüáñ“”–‑öóÿşã°íøłńšðệủčđåć—´²×·º¡\") \n"
      ]
    },
    {
      "cell_type": "code",
      "execution_count": null,
      "metadata": {
        "id": "NTOBtoBF2ECR"
      },
      "outputs": [],
      "source": [
        "n_letters_lepen = len(all_letters_lepen)\n",
        "n_letters_melenchon = len(all_letters_melenchon)\n",
        "n_letters_macron = len(all_letters_macron)\n",
        "n_letters_zemmour = len(all_letters_zemmour)\n",
        "n_letters_pecresse = len(all_letters_pecresse)"
      ]
    },
    {
      "cell_type": "markdown",
      "metadata": {
        "id": "3NsV2f5m2ECR"
      },
      "source": [
        "Dictionary that associates a character with an index and list of the characters"
      ]
    },
    {
      "cell_type": "code",
      "execution_count": null,
      "metadata": {
        "id": "1FUJeZxr2ECR"
      },
      "outputs": [],
      "source": [
        "stoi_lepen = {letter : idx for idx, letter in enumerate(all_letters_lepen)}\n",
        "itos_lepen = [letter for idx, letter in enumerate(all_letters_lepen)]\n",
        "\n",
        "stoi_melenchon = {letter : idx for idx, letter in enumerate(all_letters_melenchon)}\n",
        "itos_melenchon = [letter for idx, letter in enumerate(all_letters_melenchon)]\n",
        "\n",
        "stoi_macron = {letter : idx for idx, letter in enumerate(all_letters_macron)}\n",
        "itos_macron = [letter for idx, letter in enumerate(all_letters_macron)]\n",
        "\n",
        "stoi_zemmour = {letter : idx for idx, letter in enumerate(all_letters_zemmour)}\n",
        "itos_zemmour = [letter for idx, letter in enumerate(all_letters_zemmour)]\n",
        "\n",
        "stoi_pecresse = {letter : idx for idx, letter in enumerate(all_letters_pecresse)}\n",
        "itos_pecresse = [letter for idx, letter in enumerate(all_letters_pecresse)]"
      ]
    },
    {
      "cell_type": "markdown",
      "metadata": {
        "id": "wjjVhlyu2ECR"
      },
      "source": [
        "Create the dataset. At each step, it adds 40 characters of a sentence to data_X and the following character in the sentence to data_y."
      ]
    },
    {
      "cell_type": "code",
      "execution_count": null,
      "metadata": {
        "id": "898CwzKj2ECR"
      },
      "outputs": [],
      "source": [
        "seq_length = 40\n",
        "\n",
        "def create_dataset(tokens, stoi, itos):\n",
        "    data_X = []\n",
        "    data_y = []\n",
        "    for sentence in tokens:\n",
        "        char_len = len(sentence)\n",
        "        for i in range(0, char_len - seq_length, 1):\n",
        "            input_seq = sentence[i:i + seq_length]\n",
        "            output_seq = sentence[i + seq_length]\n",
        "            data_X.append([stoi[char] for char in input_seq])\n",
        "            data_y.append(stoi[output_seq])\n",
        "    n_data = len(data_X)\n",
        "    print(\"Number of data: \", n_data)\n",
        "    \n",
        "    return data_X, data_y, n_data"
      ]
    },
    {
      "cell_type": "code",
      "execution_count": null,
      "metadata": {
        "id": "1KNV33qW2ECR"
      },
      "outputs": [],
      "source": [
        "data_X_lepen, data_y_lepen, n_data_lepen = create_dataset(tokens_lepen, stoi_lepen, itos_lepen)"
      ]
    },
    {
      "cell_type": "code",
      "execution_count": null,
      "metadata": {
        "id": "vS7fUBL726VM"
      },
      "outputs": [],
      "source": [
        "data_X_melenchon, data_y_melenchon, n_data_melenchon = create_dataset(tokens_melenchon, stoi_melenchon, itos_melenchon)"
      ]
    },
    {
      "cell_type": "code",
      "execution_count": null,
      "metadata": {
        "id": "M30LnwX326oj"
      },
      "outputs": [],
      "source": [
        "data_X_macron, data_y_macron, n_data_macron = create_dataset(tokens_macron, stoi_macron, itos_macron)"
      ]
    },
    {
      "cell_type": "code",
      "execution_count": null,
      "metadata": {
        "id": "fiP5346v27Gx"
      },
      "outputs": [],
      "source": [
        "data_X_zemmour, data_y_zemmour, n_data_zemmour = create_dataset(tokens_zemmour, stoi_zemmour, itos_zemmour)"
      ]
    },
    {
      "cell_type": "code",
      "execution_count": null,
      "metadata": {
        "id": "aH2c0Nuu27uK"
      },
      "outputs": [],
      "source": [
        "data_X_pecresse, data_y_pecresse, n_data_pecresse = create_dataset(tokens_pecresse, stoi_pecresse, itos_pecresse)"
      ]
    },
    {
      "cell_type": "markdown",
      "metadata": {
        "id": "h1afPT7u2ECS"
      },
      "source": [
        "One-hot encoding"
      ]
    },
    {
      "cell_type": "code",
      "execution_count": null,
      "metadata": {
        "id": "u6-5TEZS2ECS"
      },
      "outputs": [],
      "source": [
        "def create_xy(data_X, data_y, n_letters):\n",
        "    x = np.zeros((len(data_X), seq_length, n_letters), dtype=np.bool)\n",
        "    y = np.zeros((len(data_X), n_letters), dtype=np.bool)\n",
        "    for i, sentence in enumerate(data_X):\n",
        "        for t, char in enumerate(sentence):\n",
        "            x[i, t, char] = 1\n",
        "        y[i, data_y[i]] = 1\n",
        "    return x, y"
      ]
    },
    {
      "cell_type": "code",
      "execution_count": null,
      "metadata": {
        "colab": {
          "base_uri": "https://localhost:8080/"
        },
        "id": "5IfKLYEb2ECT",
        "outputId": "d7011bf4-d487-479d-94f1-4e7fb704cf15"
      },
      "outputs": [
        {
          "name": "stderr",
          "output_type": "stream",
          "text": [
            "/usr/local/lib/python3.7/dist-packages/ipykernel_launcher.py:2: DeprecationWarning: `np.bool` is a deprecated alias for the builtin `bool`. To silence this warning, use `bool` by itself. Doing this will not modify any behavior and is safe. If you specifically wanted the numpy scalar type, use `np.bool_` here.\n",
            "Deprecated in NumPy 1.20; for more details and guidance: https://numpy.org/devdocs/release/1.20.0-notes.html#deprecations\n",
            "  \n",
            "/usr/local/lib/python3.7/dist-packages/ipykernel_launcher.py:3: DeprecationWarning: `np.bool` is a deprecated alias for the builtin `bool`. To silence this warning, use `bool` by itself. Doing this will not modify any behavior and is safe. If you specifically wanted the numpy scalar type, use `np.bool_` here.\n",
            "Deprecated in NumPy 1.20; for more details and guidance: https://numpy.org/devdocs/release/1.20.0-notes.html#deprecations\n",
            "  This is separate from the ipykernel package so we can avoid doing imports until\n"
          ]
        }
      ],
      "source": [
        "x_lepen, y_lepen = create_xy(data_X_lepen, data_y_lepen, n_letters_lepen)"
      ]
    },
    {
      "cell_type": "code",
      "execution_count": null,
      "metadata": {
        "id": "CAZwOYsH2Ejj"
      },
      "outputs": [],
      "source": [
        "x_melenchon, y_melenchon = create_xy(data_X_melenchon, data_y_melenchon, n_letters_melenchon)"
      ]
    },
    {
      "cell_type": "code",
      "execution_count": null,
      "metadata": {
        "id": "IyNN9Mwk2G61"
      },
      "outputs": [],
      "source": [
        "x_macron, y_macron = create_xy(data_X_macron, data_y_macron, n_letters_macron)"
      ]
    },
    {
      "cell_type": "code",
      "execution_count": null,
      "metadata": {
        "id": "AJWlrDQN2H5_"
      },
      "outputs": [],
      "source": [
        "x_zemmour, y_zemmour = create_xy(data_X_zemmour, data_y_zemmour, n_letters_zemmour)"
      ]
    },
    {
      "cell_type": "code",
      "execution_count": null,
      "metadata": {
        "id": "Z-deSZbh2LGU"
      },
      "outputs": [],
      "source": [
        "x_pecresse, y_pecresse = create_xy(data_X_pecresse, data_y_pecresse, n_letters_pecresse)"
      ]
    },
    {
      "cell_type": "markdown",
      "metadata": {
        "id": "cmc-nH-a5CzE"
      },
      "source": [
        "### Training step"
      ]
    },
    {
      "cell_type": "markdown",
      "metadata": {
        "id": "dOkHsI1R6M0M"
      },
      "source": [
        "#### Definition of training functions"
      ]
    },
    {
      "cell_type": "code",
      "execution_count": null,
      "metadata": {
        "id": "0kZTY8hy2ECT"
      },
      "outputs": [],
      "source": [
        "from torch.utils.data import TensorDataset"
      ]
    },
    {
      "cell_type": "code",
      "execution_count": null,
      "metadata": {
        "id": "ruisbQH42X0H"
      },
      "outputs": [],
      "source": [
        "dataset_lepen = TensorDataset(torch.from_numpy(x_lepen), torch.from_numpy(y_lepen))"
      ]
    },
    {
      "cell_type": "code",
      "execution_count": null,
      "metadata": {
        "id": "ToLfue4A2X7_"
      },
      "outputs": [],
      "source": [
        "dataset_melenchon = TensorDataset(torch.from_numpy(x_melenchon), torch.from_numpy(y_melenchon))"
      ]
    },
    {
      "cell_type": "code",
      "execution_count": null,
      "metadata": {
        "id": "zNV4fYB42YLQ"
      },
      "outputs": [],
      "source": [
        "dataset_macron = TensorDataset(torch.from_numpy(x_macron), torch.from_numpy(y_macron))"
      ]
    },
    {
      "cell_type": "code",
      "execution_count": null,
      "metadata": {
        "id": "ZYK7ql1M2YZy"
      },
      "outputs": [],
      "source": [
        "dataset_zemmour = TensorDataset(torch.from_numpy(x_zemmour), torch.from_numpy(y_zemmour))"
      ]
    },
    {
      "cell_type": "code",
      "execution_count": null,
      "metadata": {
        "id": "pK2eFJG92Ys8"
      },
      "outputs": [],
      "source": [
        "dataset_pecresse = TensorDataset(torch.from_numpy(x_pecresse), torch.from_numpy(y_pecresse))"
      ]
    },
    {
      "cell_type": "code",
      "execution_count": null,
      "metadata": {
        "id": "mDMzBpXW2ECT"
      },
      "outputs": [],
      "source": [
        "from torch import nn\n",
        "\n",
        "class Model(nn.Module):\n",
        "    def __init__(self, n_letters):\n",
        "        super(Model, self).__init__()\n",
        "        self.lstm_size = n_letters*7\n",
        "        self.fc_size = n_letters*4\n",
        "        self.num_layers = 3\n",
        "        self.linear_dim = self.lstm_size*seq_length\n",
        "        \n",
        "        self.lstm = nn.LSTM(\n",
        "            input_size= n_letters,\n",
        "            hidden_size=self.lstm_size,\n",
        "            num_layers=self.num_layers,\n",
        "            dropout=0.2,\n",
        "            batch_first = True)\n",
        "        \n",
        "        self.bn1 = nn.BatchNorm1d(self.lstm_size)\n",
        "        self.selu1 = nn.SELU()\n",
        "            \n",
        "        self.fc1 = nn.Linear(self.lstm_size, self.fc_size)\n",
        "        self.selu2 = nn.SELU()\n",
        "            \n",
        "        self.fc2 = nn.Linear(self.fc_size, self.fc_size)\n",
        "        self.bn2 = nn.BatchNorm1d(self.fc_size)\n",
        "        self.selu3 = nn.SELU()\n",
        "        \n",
        "        self.fc3 = nn.Linear(self.fc_size, n_letters)\n",
        "            \n",
        "    def forward(self, x):\n",
        "            \n",
        "        output, _ = self.lstm(x)\n",
        "        output = output[:, -1, :]\n",
        "        #output = output.reshape(output.size(0), -1)\n",
        "        output = self.bn1(output)\n",
        "        output = self.selu1(output)\n",
        "        \n",
        "        output = self.fc1(output)\n",
        "        output = self.selu2(output)\n",
        "        \n",
        "        output = self.fc2(output)\n",
        "        output = self.bn2(output)\n",
        "        output = self.selu3(output)\n",
        "        \n",
        "        output = self.fc3(output)\n",
        "        return output\n",
        "    \n",
        "    def init_state(self, sequence_length):\n",
        "        \n",
        "        return (torch.zeros(self.num_layers, seq_length, self.lstm_size),\n",
        "                torch.zeros(self.num_layers, seq_length, self.lstm_size))"
      ]
    },
    {
      "cell_type": "markdown",
      "metadata": {
        "id": "_8kr--ec2ECT"
      },
      "source": [
        "Sample an index from a probability array. Ttemperature helps us not get the same text generated every time. if temperature is low, probabilities are more \"extrem\" and texts are similar to trained data. If temperature is high, probabilities are smoothed and texts ar more creative. However, too high temperature can provoke nonsense."
      ]
    },
    {
      "cell_type": "code",
      "execution_count": null,
      "metadata": {
        "id": "GBL21lVS2ECT"
      },
      "outputs": [],
      "source": [
        "def sample(preds, temperature=1.0):\n",
        "    preds = torch.log(preds) / temperature\n",
        "    exp_preds = torch.exp(preds)\n",
        "    preds = exp_preds / torch.sum(exp_preds)\n",
        "    probas = torch.multinomial(preds[0], 1)\n",
        "    return probas"
      ]
    },
    {
      "cell_type": "markdown",
      "metadata": {
        "id": "sIDgoWCG2ECU"
      },
      "source": [
        "Allows to test the model with different temperatures by taking the beginning of a randomly chosen tweet "
      ]
    },
    {
      "cell_type": "code",
      "execution_count": null,
      "metadata": {
        "id": "__9vq-Qh2ECU"
      },
      "outputs": [],
      "source": [
        "def test_model(epoch, model, res, n_letters, stoi, itos):\n",
        "    # Function invoked at end of each epoch. Prints generated text.\n",
        "    print()\n",
        "    print('----- Generating text after Epoch: %d' % epoch)\n",
        "    \n",
        "#     start_index = random.randint(0, len(text) - maxlen - 1)\n",
        "    tweet = np.random.choice(res[\"text_tweet\"]) # select random tweet\n",
        "    start_index = 0\n",
        "    state_h, state_c = model.init_state(seq_length)\n",
        "    softmax = nn.Softmax(dim=1)\n",
        "    for diversity in [0.2, 0.5, 1.0, 1.2]:\n",
        "        print('----- diversity:', diversity)\n",
        "\n",
        "        generated = ''\n",
        "        sentence = tweet[start_index: start_index + seq_length]\n",
        "        generated += sentence\n",
        "        print('----- Generating with seed: \"' + sentence + '\"')\n",
        "        sys.stdout.write(generated)\n",
        "        model.eval()\n",
        "        with torch.no_grad():\n",
        "            for i in range(120):\n",
        "                \n",
        "                x_pred = np.zeros((1, seq_length, n_letters))\n",
        "                for t, char in enumerate(sentence):\n",
        "                    x_pred[0, t, stoi[char]] = 1.\n",
        "            \n",
        "                x_pred = torch.from_numpy(x_pred).float().cuda()\n",
        "                preds = model(x_pred)\n",
        "                preds = softmax(preds)\n",
        "                preds = preds.cpu().detach()\n",
        "                next_index = sample(preds, diversity)\n",
        "                next_char = itos[next_index]\n",
        "\n",
        "                generated += next_char\n",
        "                sentence = sentence[1:] + next_char\n",
        "    \n",
        "                sys.stdout.write(next_char)\n",
        "                sys.stdout.flush()\n",
        "            print()"
      ]
    },
    {
      "cell_type": "markdown",
      "metadata": {
        "id": "590AoesX2ECU"
      },
      "source": [
        "Train the model"
      ]
    },
    {
      "cell_type": "code",
      "execution_count": null,
      "metadata": {
        "id": "Fpb3jgIf2ECU"
      },
      "outputs": [],
      "source": [
        "import torch\n",
        "import numpy as np\n",
        "from torch import nn, optim\n",
        "from torch.utils.data import DataLoader\n",
        "import sys\n",
        "\n",
        "def train(dataset, batch_size, seq_length, max_epochs, res, n_letters, stoi, itos):\n",
        "    torch.cuda.empty_cache()\n",
        "    torch.cuda.set_device(0)\n",
        "    model = Model(n_letters)\n",
        "    model = model.cuda()\n",
        "    dataloader = DataLoader(dataset, batch_size=batch_size, shuffle=True)\n",
        "    criterion = nn.CrossEntropyLoss()\n",
        "    optimizer = optim.Adam(model.parameters(), lr=0.0001)\n",
        "    L = [] \n",
        "    for epoch in range(max_epochs):\n",
        "        for batch, (x, y) in enumerate(dataloader):\n",
        "            x = np.multiply(x, 1).type(torch.FloatTensor).cuda()\n",
        "            y = np.multiply(y, 1).type(torch.FloatTensor)\n",
        "            y = torch.argmax(y ,axis=1).cuda()\n",
        "            optimizer.zero_grad()\n",
        "            y_pred = model(x)\n",
        "            loss = criterion(y_pred, y)\n",
        "            L.append(loss.cpu().detach().numpy())\n",
        "            loss.backward()\n",
        "            optimizer.step()\n",
        "            if batch % 10000 == 0 and batch != 0:\n",
        "                print(f\"loss moyenne : {np.mean(L)}\")\n",
        "                L = []\n",
        "                test_model(epoch, model, res, n_letters, stoi, itos)\n",
        "                model.train()\n",
        "            print({ 'epoch': epoch, 'batch': batch, 'loss': loss.item() })\n",
        "            \n",
        "    return model"
      ]
    },
    {
      "cell_type": "markdown",
      "metadata": {
        "id": "Wa5JHyOL6Jtf"
      },
      "source": [
        "#### Training step"
      ]
    },
    {
      "cell_type": "markdown",
      "metadata": {
        "id": "j-eW11R7w0WL"
      },
      "source": [
        "##### Le Pen"
      ]
    },
    {
      "cell_type": "code",
      "execution_count": null,
      "metadata": {
        "id": "v7uHNY-_xSgT"
      },
      "outputs": [],
      "source": [
        "max_epochs = 5\n",
        "batch_size = 32\n",
        "\n",
        "model_lepen = train(dataset_lepen, batch_size, seq_length, max_epochs, res_lepen, n_letters_lepen, stoi_lepen, itos_lepen)"
      ]
    },
    {
      "cell_type": "markdown",
      "metadata": {
        "id": "H4qEkFvHw5Z_"
      },
      "source": [
        "##### Macron"
      ]
    },
    {
      "cell_type": "code",
      "execution_count": null,
      "metadata": {
        "id": "2dV87ZiWxUXJ"
      },
      "outputs": [],
      "source": [
        "max_epochs = 5\n",
        "batch_size = 32\n",
        "\n",
        "model_macron = train(dataset_macron, batch_size, seq_length, max_epochs, res_macron, n_letters_macron, stoi_macron, itos_macron)"
      ]
    },
    {
      "cell_type": "markdown",
      "metadata": {
        "id": "TjchD3NWw5ie"
      },
      "source": [
        "##### Mélenchon"
      ]
    },
    {
      "cell_type": "code",
      "execution_count": null,
      "metadata": {
        "id": "l9F2LeHixVkh"
      },
      "outputs": [],
      "source": [
        "max_epochs = 5\n",
        "batch_size = 32\n",
        "\n",
        "model_melenchon = train(dataset_melenchon, batch_size, seq_length, max_epochs, res_melenchon, n_letters_melenchon, stoi_melenchon, itos_melenchon)"
      ]
    },
    {
      "cell_type": "markdown",
      "metadata": {
        "id": "h9-oXwYew5tk"
      },
      "source": [
        "##### Zemmour"
      ]
    },
    {
      "cell_type": "code",
      "execution_count": null,
      "metadata": {
        "id": "4oHZNg05xWg-"
      },
      "outputs": [],
      "source": [
        "max_epochs = 8\n",
        "batch_size = 32\n",
        "\n",
        "model_zemmour = train(dataset_zemmour, batch_size, seq_length, max_epochs, res_zemmour, n_letters_zemmour, stoi_zemmour, itos_zemmour)"
      ]
    },
    {
      "cell_type": "markdown",
      "metadata": {
        "id": "-PZMmsyKw56r"
      },
      "source": [
        "##### Pécresse"
      ]
    },
    {
      "cell_type": "code",
      "execution_count": null,
      "metadata": {
        "id": "jmAwjSYc6wYA"
      },
      "outputs": [],
      "source": [
        "max_epochs = 5\n",
        "batch_size = 32\n",
        "\n",
        "model_pecresse = train(dataset_pecresse, batch_size, seq_length, max_epochs, res_pecresse, n_letters_pecresse, stoi_pecresse, itos_pecresse)"
      ]
    }
  ],
  "metadata": {
    "colab": {
      "collapsed_sections": [],
      "name": "NLP Project.ipynb",
      "provenance": [],
      "toc_visible": true
    },
    "kernelspec": {
      "display_name": "Python 3",
      "name": "python3"
    },
    "language_info": {
      "name": "python"
    },
    "widgets": {
      "application/vnd.jupyter.widget-state+json": {
        "026394f942b543978e09a050590abef4": {
          "model_module": "@jupyter-widgets/controls",
          "model_module_version": "1.5.0",
          "model_name": "HTMLModel",
          "state": {
            "_dom_classes": [],
            "_model_module": "@jupyter-widgets/controls",
            "_model_module_version": "1.5.0",
            "_model_name": "HTMLModel",
            "_view_count": null,
            "_view_module": "@jupyter-widgets/controls",
            "_view_module_version": "1.5.0",
            "_view_name": "HTMLView",
            "description": "",
            "description_tooltip": null,
            "layout": "IPY_MODEL_d274c5001b22429e89a66134c9350267",
            "placeholder": "​",
            "style": "IPY_MODEL_c07081ad1c374df38880b4fabeac13af",
            "value": "Downloading: 100%"
          }
        },
        "062232ee58c743b59845dc5c444e197d": {
          "model_module": "@jupyter-widgets/controls",
          "model_module_version": "1.5.0",
          "model_name": "DescriptionStyleModel",
          "state": {
            "_model_module": "@jupyter-widgets/controls",
            "_model_module_version": "1.5.0",
            "_model_name": "DescriptionStyleModel",
            "_view_count": null,
            "_view_module": "@jupyter-widgets/base",
            "_view_module_version": "1.2.0",
            "_view_name": "StyleView",
            "description_width": ""
          }
        },
        "06226d192abb4b3e864fb1ab6168466a": {
          "model_module": "@jupyter-widgets/controls",
          "model_module_version": "1.5.0",
          "model_name": "HTMLModel",
          "state": {
            "_dom_classes": [],
            "_model_module": "@jupyter-widgets/controls",
            "_model_module_version": "1.5.0",
            "_model_name": "HTMLModel",
            "_view_count": null,
            "_view_module": "@jupyter-widgets/controls",
            "_view_module_version": "1.5.0",
            "_view_name": "HTMLView",
            "description": "",
            "description_tooltip": null,
            "layout": "IPY_MODEL_804548dd92bf4f1d98d9a4bd054dc785",
            "placeholder": "​",
            "style": "IPY_MODEL_7e25b56b7754425eaaa74d68a82cf859",
            "value": "Downloading: 100%"
          }
        },
        "072464ec103c4c879531dc2cb22ac59c": {
          "model_module": "@jupyter-widgets/controls",
          "model_module_version": "1.5.0",
          "model_name": "HBoxModel",
          "state": {
            "_dom_classes": [],
            "_model_module": "@jupyter-widgets/controls",
            "_model_module_version": "1.5.0",
            "_model_name": "HBoxModel",
            "_view_count": null,
            "_view_module": "@jupyter-widgets/controls",
            "_view_module_version": "1.5.0",
            "_view_name": "HBoxView",
            "box_style": "",
            "children": [
              "IPY_MODEL_026394f942b543978e09a050590abef4",
              "IPY_MODEL_231ff5d9ac0447df973290a3b528d074",
              "IPY_MODEL_f20b3052ff744e499c669bd06a9dcb1e"
            ],
            "layout": "IPY_MODEL_8be268135e644752b86b5ce3f65776e9"
          }
        },
        "0d126062ddcb4fe1a58ed66bc2d325bb": {
          "model_module": "@jupyter-widgets/base",
          "model_module_version": "1.2.0",
          "model_name": "LayoutModel",
          "state": {
            "_model_module": "@jupyter-widgets/base",
            "_model_module_version": "1.2.0",
            "_model_name": "LayoutModel",
            "_view_count": null,
            "_view_module": "@jupyter-widgets/base",
            "_view_module_version": "1.2.0",
            "_view_name": "LayoutView",
            "align_content": null,
            "align_items": null,
            "align_self": null,
            "border": null,
            "bottom": null,
            "display": null,
            "flex": null,
            "flex_flow": null,
            "grid_area": null,
            "grid_auto_columns": null,
            "grid_auto_flow": null,
            "grid_auto_rows": null,
            "grid_column": null,
            "grid_gap": null,
            "grid_row": null,
            "grid_template_areas": null,
            "grid_template_columns": null,
            "grid_template_rows": null,
            "height": null,
            "justify_content": null,
            "justify_items": null,
            "left": null,
            "margin": null,
            "max_height": null,
            "max_width": null,
            "min_height": null,
            "min_width": null,
            "object_fit": null,
            "object_position": null,
            "order": null,
            "overflow": null,
            "overflow_x": null,
            "overflow_y": null,
            "padding": null,
            "right": null,
            "top": null,
            "visibility": null,
            "width": null
          }
        },
        "0dc842150e6745128a47aefc2fc8a3a2": {
          "model_module": "@jupyter-widgets/controls",
          "model_module_version": "1.5.0",
          "model_name": "ProgressStyleModel",
          "state": {
            "_model_module": "@jupyter-widgets/controls",
            "_model_module_version": "1.5.0",
            "_model_name": "ProgressStyleModel",
            "_view_count": null,
            "_view_module": "@jupyter-widgets/base",
            "_view_module_version": "1.2.0",
            "_view_name": "StyleView",
            "bar_color": null,
            "description_width": ""
          }
        },
        "137a4c22b90f4c98aa083cd885aae68e": {
          "model_module": "@jupyter-widgets/controls",
          "model_module_version": "1.5.0",
          "model_name": "HTMLModel",
          "state": {
            "_dom_classes": [],
            "_model_module": "@jupyter-widgets/controls",
            "_model_module_version": "1.5.0",
            "_model_name": "HTMLModel",
            "_view_count": null,
            "_view_module": "@jupyter-widgets/controls",
            "_view_module_version": "1.5.0",
            "_view_name": "HTMLView",
            "description": "",
            "description_tooltip": null,
            "layout": "IPY_MODEL_25624a5008cc4dd1b9164e43ddc01cde",
            "placeholder": "​",
            "style": "IPY_MODEL_373ad223ea77443a95ba5e0f16bd44c7",
            "value": " 951k/951k [00:00&lt;00:00, 1.09MB/s]"
          }
        },
        "1440c3d5e74e42daa2e12ad40145fc27": {
          "model_module": "@jupyter-widgets/controls",
          "model_module_version": "1.5.0",
          "model_name": "DescriptionStyleModel",
          "state": {
            "_model_module": "@jupyter-widgets/controls",
            "_model_module_version": "1.5.0",
            "_model_name": "DescriptionStyleModel",
            "_view_count": null,
            "_view_module": "@jupyter-widgets/base",
            "_view_module_version": "1.2.0",
            "_view_name": "StyleView",
            "description_width": ""
          }
        },
        "1985719d41d54eb785e9237d94875ab5": {
          "model_module": "@jupyter-widgets/controls",
          "model_module_version": "1.5.0",
          "model_name": "HBoxModel",
          "state": {
            "_dom_classes": [],
            "_model_module": "@jupyter-widgets/controls",
            "_model_module_version": "1.5.0",
            "_model_name": "HBoxModel",
            "_view_count": null,
            "_view_module": "@jupyter-widgets/controls",
            "_view_module_version": "1.5.0",
            "_view_name": "HBoxView",
            "box_style": "",
            "children": [
              "IPY_MODEL_a61f5a31fbec4c37948fe8c4652622ab",
              "IPY_MODEL_818f4649957148c2abd086618da98f72",
              "IPY_MODEL_52880a5885344572844e710889fc1e8a"
            ],
            "layout": "IPY_MODEL_5cab1fab665f42bb9fdc18f5c2e0f774"
          }
        },
        "1d36368230c94df494320e7f3ebe575f": {
          "model_module": "@jupyter-widgets/base",
          "model_module_version": "1.2.0",
          "model_name": "LayoutModel",
          "state": {
            "_model_module": "@jupyter-widgets/base",
            "_model_module_version": "1.2.0",
            "_model_name": "LayoutModel",
            "_view_count": null,
            "_view_module": "@jupyter-widgets/base",
            "_view_module_version": "1.2.0",
            "_view_name": "LayoutView",
            "align_content": null,
            "align_items": null,
            "align_self": null,
            "border": null,
            "bottom": null,
            "display": null,
            "flex": null,
            "flex_flow": null,
            "grid_area": null,
            "grid_auto_columns": null,
            "grid_auto_flow": null,
            "grid_auto_rows": null,
            "grid_column": null,
            "grid_gap": null,
            "grid_row": null,
            "grid_template_areas": null,
            "grid_template_columns": null,
            "grid_template_rows": null,
            "height": null,
            "justify_content": null,
            "justify_items": null,
            "left": null,
            "margin": null,
            "max_height": null,
            "max_width": null,
            "min_height": null,
            "min_width": null,
            "object_fit": null,
            "object_position": null,
            "order": null,
            "overflow": null,
            "overflow_x": null,
            "overflow_y": null,
            "padding": null,
            "right": null,
            "top": null,
            "visibility": null,
            "width": null
          }
        },
        "231ff5d9ac0447df973290a3b528d074": {
          "model_module": "@jupyter-widgets/controls",
          "model_module_version": "1.5.0",
          "model_name": "FloatProgressModel",
          "state": {
            "_dom_classes": [],
            "_model_module": "@jupyter-widgets/controls",
            "_model_module_version": "1.5.0",
            "_model_name": "FloatProgressModel",
            "_view_count": null,
            "_view_module": "@jupyter-widgets/controls",
            "_view_module_version": "1.5.0",
            "_view_name": "ProgressView",
            "bar_style": "success",
            "description": "",
            "description_tooltip": null,
            "layout": "IPY_MODEL_63f2c0ed12f9466eb36f3e050e633fea",
            "max": 548125486,
            "min": 0,
            "orientation": "horizontal",
            "style": "IPY_MODEL_0dc842150e6745128a47aefc2fc8a3a2",
            "value": 548125486
          }
        },
        "25624a5008cc4dd1b9164e43ddc01cde": {
          "model_module": "@jupyter-widgets/base",
          "model_module_version": "1.2.0",
          "model_name": "LayoutModel",
          "state": {
            "_model_module": "@jupyter-widgets/base",
            "_model_module_version": "1.2.0",
            "_model_name": "LayoutModel",
            "_view_count": null,
            "_view_module": "@jupyter-widgets/base",
            "_view_module_version": "1.2.0",
            "_view_name": "LayoutView",
            "align_content": null,
            "align_items": null,
            "align_self": null,
            "border": null,
            "bottom": null,
            "display": null,
            "flex": null,
            "flex_flow": null,
            "grid_area": null,
            "grid_auto_columns": null,
            "grid_auto_flow": null,
            "grid_auto_rows": null,
            "grid_column": null,
            "grid_gap": null,
            "grid_row": null,
            "grid_template_areas": null,
            "grid_template_columns": null,
            "grid_template_rows": null,
            "height": null,
            "justify_content": null,
            "justify_items": null,
            "left": null,
            "margin": null,
            "max_height": null,
            "max_width": null,
            "min_height": null,
            "min_width": null,
            "object_fit": null,
            "object_position": null,
            "order": null,
            "overflow": null,
            "overflow_x": null,
            "overflow_y": null,
            "padding": null,
            "right": null,
            "top": null,
            "visibility": null,
            "width": null
          }
        },
        "2bb7c9ec947648a78c656c9695b8a801": {
          "model_module": "@jupyter-widgets/base",
          "model_module_version": "1.2.0",
          "model_name": "LayoutModel",
          "state": {
            "_model_module": "@jupyter-widgets/base",
            "_model_module_version": "1.2.0",
            "_model_name": "LayoutModel",
            "_view_count": null,
            "_view_module": "@jupyter-widgets/base",
            "_view_module_version": "1.2.0",
            "_view_name": "LayoutView",
            "align_content": null,
            "align_items": null,
            "align_self": null,
            "border": null,
            "bottom": null,
            "display": null,
            "flex": null,
            "flex_flow": null,
            "grid_area": null,
            "grid_auto_columns": null,
            "grid_auto_flow": null,
            "grid_auto_rows": null,
            "grid_column": null,
            "grid_gap": null,
            "grid_row": null,
            "grid_template_areas": null,
            "grid_template_columns": null,
            "grid_template_rows": null,
            "height": null,
            "justify_content": null,
            "justify_items": null,
            "left": null,
            "margin": null,
            "max_height": null,
            "max_width": null,
            "min_height": null,
            "min_width": null,
            "object_fit": null,
            "object_position": null,
            "order": null,
            "overflow": null,
            "overflow_x": null,
            "overflow_y": null,
            "padding": null,
            "right": null,
            "top": null,
            "visibility": null,
            "width": null
          }
        },
        "2cc7fda1551b4c5caa7a2609945b002d": {
          "model_module": "@jupyter-widgets/controls",
          "model_module_version": "1.5.0",
          "model_name": "DescriptionStyleModel",
          "state": {
            "_model_module": "@jupyter-widgets/controls",
            "_model_module_version": "1.5.0",
            "_model_name": "DescriptionStyleModel",
            "_view_count": null,
            "_view_module": "@jupyter-widgets/base",
            "_view_module_version": "1.2.0",
            "_view_name": "StyleView",
            "description_width": ""
          }
        },
        "373ad223ea77443a95ba5e0f16bd44c7": {
          "model_module": "@jupyter-widgets/controls",
          "model_module_version": "1.5.0",
          "model_name": "DescriptionStyleModel",
          "state": {
            "_model_module": "@jupyter-widgets/controls",
            "_model_module_version": "1.5.0",
            "_model_name": "DescriptionStyleModel",
            "_view_count": null,
            "_view_module": "@jupyter-widgets/base",
            "_view_module_version": "1.2.0",
            "_view_name": "StyleView",
            "description_width": ""
          }
        },
        "43f1456435ba439b963337bde9b6654a": {
          "model_module": "@jupyter-widgets/base",
          "model_module_version": "1.2.0",
          "model_name": "LayoutModel",
          "state": {
            "_model_module": "@jupyter-widgets/base",
            "_model_module_version": "1.2.0",
            "_model_name": "LayoutModel",
            "_view_count": null,
            "_view_module": "@jupyter-widgets/base",
            "_view_module_version": "1.2.0",
            "_view_name": "LayoutView",
            "align_content": null,
            "align_items": null,
            "align_self": null,
            "border": null,
            "bottom": null,
            "display": null,
            "flex": null,
            "flex_flow": null,
            "grid_area": null,
            "grid_auto_columns": null,
            "grid_auto_flow": null,
            "grid_auto_rows": null,
            "grid_column": null,
            "grid_gap": null,
            "grid_row": null,
            "grid_template_areas": null,
            "grid_template_columns": null,
            "grid_template_rows": null,
            "height": null,
            "justify_content": null,
            "justify_items": null,
            "left": null,
            "margin": null,
            "max_height": null,
            "max_width": null,
            "min_height": null,
            "min_width": null,
            "object_fit": null,
            "object_position": null,
            "order": null,
            "overflow": null,
            "overflow_x": null,
            "overflow_y": null,
            "padding": null,
            "right": null,
            "top": null,
            "visibility": null,
            "width": null
          }
        },
        "4712b6b49d9949c090878216e339bc53": {
          "model_module": "@jupyter-widgets/controls",
          "model_module_version": "1.5.0",
          "model_name": "DescriptionStyleModel",
          "state": {
            "_model_module": "@jupyter-widgets/controls",
            "_model_module_version": "1.5.0",
            "_model_name": "DescriptionStyleModel",
            "_view_count": null,
            "_view_module": "@jupyter-widgets/base",
            "_view_module_version": "1.2.0",
            "_view_name": "StyleView",
            "description_width": ""
          }
        },
        "4bb6f79affb64621bfabea06d6126f17": {
          "model_module": "@jupyter-widgets/base",
          "model_module_version": "1.2.0",
          "model_name": "LayoutModel",
          "state": {
            "_model_module": "@jupyter-widgets/base",
            "_model_module_version": "1.2.0",
            "_model_name": "LayoutModel",
            "_view_count": null,
            "_view_module": "@jupyter-widgets/base",
            "_view_module_version": "1.2.0",
            "_view_name": "LayoutView",
            "align_content": null,
            "align_items": null,
            "align_self": null,
            "border": null,
            "bottom": null,
            "display": null,
            "flex": null,
            "flex_flow": null,
            "grid_area": null,
            "grid_auto_columns": null,
            "grid_auto_flow": null,
            "grid_auto_rows": null,
            "grid_column": null,
            "grid_gap": null,
            "grid_row": null,
            "grid_template_areas": null,
            "grid_template_columns": null,
            "grid_template_rows": null,
            "height": null,
            "justify_content": null,
            "justify_items": null,
            "left": null,
            "margin": null,
            "max_height": null,
            "max_width": null,
            "min_height": null,
            "min_width": null,
            "object_fit": null,
            "object_position": null,
            "order": null,
            "overflow": null,
            "overflow_x": null,
            "overflow_y": null,
            "padding": null,
            "right": null,
            "top": null,
            "visibility": null,
            "width": null
          }
        },
        "5162c8dda9d84a0684e5a38362bb9d17": {
          "model_module": "@jupyter-widgets/base",
          "model_module_version": "1.2.0",
          "model_name": "LayoutModel",
          "state": {
            "_model_module": "@jupyter-widgets/base",
            "_model_module_version": "1.2.0",
            "_model_name": "LayoutModel",
            "_view_count": null,
            "_view_module": "@jupyter-widgets/base",
            "_view_module_version": "1.2.0",
            "_view_name": "LayoutView",
            "align_content": null,
            "align_items": null,
            "align_self": null,
            "border": null,
            "bottom": null,
            "display": null,
            "flex": null,
            "flex_flow": null,
            "grid_area": null,
            "grid_auto_columns": null,
            "grid_auto_flow": null,
            "grid_auto_rows": null,
            "grid_column": null,
            "grid_gap": null,
            "grid_row": null,
            "grid_template_areas": null,
            "grid_template_columns": null,
            "grid_template_rows": null,
            "height": null,
            "justify_content": null,
            "justify_items": null,
            "left": null,
            "margin": null,
            "max_height": null,
            "max_width": null,
            "min_height": null,
            "min_width": null,
            "object_fit": null,
            "object_position": null,
            "order": null,
            "overflow": null,
            "overflow_x": null,
            "overflow_y": null,
            "padding": null,
            "right": null,
            "top": null,
            "visibility": null,
            "width": null
          }
        },
        "52880a5885344572844e710889fc1e8a": {
          "model_module": "@jupyter-widgets/controls",
          "model_module_version": "1.5.0",
          "model_name": "HTMLModel",
          "state": {
            "_dom_classes": [],
            "_model_module": "@jupyter-widgets/controls",
            "_model_module_version": "1.5.0",
            "_model_name": "HTMLModel",
            "_view_count": null,
            "_view_module": "@jupyter-widgets/controls",
            "_view_module_version": "1.5.0",
            "_view_name": "HTMLView",
            "description": "",
            "description_tooltip": null,
            "layout": "IPY_MODEL_8947a1533cae47c4a3cfe3a13d277106",
            "placeholder": "​",
            "style": "IPY_MODEL_1440c3d5e74e42daa2e12ad40145fc27",
            "value": " 1.28k/1.28k [00:00&lt;00:00, 20.7kB/s]"
          }
        },
        "52c5a08149bd4ae7a636f0221451fbeb": {
          "model_module": "@jupyter-widgets/controls",
          "model_module_version": "1.5.0",
          "model_name": "HBoxModel",
          "state": {
            "_dom_classes": [],
            "_model_module": "@jupyter-widgets/controls",
            "_model_module_version": "1.5.0",
            "_model_name": "HBoxModel",
            "_view_count": null,
            "_view_module": "@jupyter-widgets/controls",
            "_view_module_version": "1.5.0",
            "_view_name": "HBoxView",
            "box_style": "",
            "children": [
              "IPY_MODEL_f5cba4dfbddc41b191cb370ea5d69c18",
              "IPY_MODEL_db72d1507c524b048c4c4c26e5e80ae2",
              "IPY_MODEL_6f10697c81c64f7a884a88d43425c2ee"
            ],
            "layout": "IPY_MODEL_ce02f4d44d8246ebaa62e415a376f0fd"
          }
        },
        "5cab1fab665f42bb9fdc18f5c2e0f774": {
          "model_module": "@jupyter-widgets/base",
          "model_module_version": "1.2.0",
          "model_name": "LayoutModel",
          "state": {
            "_model_module": "@jupyter-widgets/base",
            "_model_module_version": "1.2.0",
            "_model_name": "LayoutModel",
            "_view_count": null,
            "_view_module": "@jupyter-widgets/base",
            "_view_module_version": "1.2.0",
            "_view_name": "LayoutView",
            "align_content": null,
            "align_items": null,
            "align_self": null,
            "border": null,
            "bottom": null,
            "display": null,
            "flex": null,
            "flex_flow": null,
            "grid_area": null,
            "grid_auto_columns": null,
            "grid_auto_flow": null,
            "grid_auto_rows": null,
            "grid_column": null,
            "grid_gap": null,
            "grid_row": null,
            "grid_template_areas": null,
            "grid_template_columns": null,
            "grid_template_rows": null,
            "height": null,
            "justify_content": null,
            "justify_items": null,
            "left": null,
            "margin": null,
            "max_height": null,
            "max_width": null,
            "min_height": null,
            "min_width": null,
            "object_fit": null,
            "object_position": null,
            "order": null,
            "overflow": null,
            "overflow_x": null,
            "overflow_y": null,
            "padding": null,
            "right": null,
            "top": null,
            "visibility": null,
            "width": null
          }
        },
        "63f2c0ed12f9466eb36f3e050e633fea": {
          "model_module": "@jupyter-widgets/base",
          "model_module_version": "1.2.0",
          "model_name": "LayoutModel",
          "state": {
            "_model_module": "@jupyter-widgets/base",
            "_model_module_version": "1.2.0",
            "_model_name": "LayoutModel",
            "_view_count": null,
            "_view_module": "@jupyter-widgets/base",
            "_view_module_version": "1.2.0",
            "_view_name": "LayoutView",
            "align_content": null,
            "align_items": null,
            "align_self": null,
            "border": null,
            "bottom": null,
            "display": null,
            "flex": null,
            "flex_flow": null,
            "grid_area": null,
            "grid_auto_columns": null,
            "grid_auto_flow": null,
            "grid_auto_rows": null,
            "grid_column": null,
            "grid_gap": null,
            "grid_row": null,
            "grid_template_areas": null,
            "grid_template_columns": null,
            "grid_template_rows": null,
            "height": null,
            "justify_content": null,
            "justify_items": null,
            "left": null,
            "margin": null,
            "max_height": null,
            "max_width": null,
            "min_height": null,
            "min_width": null,
            "object_fit": null,
            "object_position": null,
            "order": null,
            "overflow": null,
            "overflow_x": null,
            "overflow_y": null,
            "padding": null,
            "right": null,
            "top": null,
            "visibility": null,
            "width": null
          }
        },
        "65a60645ab04443aa738b0581847eee4": {
          "model_module": "@jupyter-widgets/controls",
          "model_module_version": "1.5.0",
          "model_name": "DescriptionStyleModel",
          "state": {
            "_model_module": "@jupyter-widgets/controls",
            "_model_module_version": "1.5.0",
            "_model_name": "DescriptionStyleModel",
            "_view_count": null,
            "_view_module": "@jupyter-widgets/base",
            "_view_module_version": "1.2.0",
            "_view_name": "StyleView",
            "description_width": ""
          }
        },
        "6f10697c81c64f7a884a88d43425c2ee": {
          "model_module": "@jupyter-widgets/controls",
          "model_module_version": "1.5.0",
          "model_name": "HTMLModel",
          "state": {
            "_dom_classes": [],
            "_model_module": "@jupyter-widgets/controls",
            "_model_module_version": "1.5.0",
            "_model_name": "HTMLModel",
            "_view_count": null,
            "_view_module": "@jupyter-widgets/controls",
            "_view_module_version": "1.5.0",
            "_view_name": "HTMLView",
            "description": "",
            "description_tooltip": null,
            "layout": "IPY_MODEL_1d36368230c94df494320e7f3ebe575f",
            "placeholder": "​",
            "style": "IPY_MODEL_062232ee58c743b59845dc5c444e197d",
            "value": " 519k/519k [00:00&lt;00:00, 1.20MB/s]"
          }
        },
        "6f221a582fb146e78004eea62bbeb49f": {
          "model_module": "@jupyter-widgets/base",
          "model_module_version": "1.2.0",
          "model_name": "LayoutModel",
          "state": {
            "_model_module": "@jupyter-widgets/base",
            "_model_module_version": "1.2.0",
            "_model_name": "LayoutModel",
            "_view_count": null,
            "_view_module": "@jupyter-widgets/base",
            "_view_module_version": "1.2.0",
            "_view_name": "LayoutView",
            "align_content": null,
            "align_items": null,
            "align_self": null,
            "border": null,
            "bottom": null,
            "display": null,
            "flex": null,
            "flex_flow": null,
            "grid_area": null,
            "grid_auto_columns": null,
            "grid_auto_flow": null,
            "grid_auto_rows": null,
            "grid_column": null,
            "grid_gap": null,
            "grid_row": null,
            "grid_template_areas": null,
            "grid_template_columns": null,
            "grid_template_rows": null,
            "height": null,
            "justify_content": null,
            "justify_items": null,
            "left": null,
            "margin": null,
            "max_height": null,
            "max_width": null,
            "min_height": null,
            "min_width": null,
            "object_fit": null,
            "object_position": null,
            "order": null,
            "overflow": null,
            "overflow_x": null,
            "overflow_y": null,
            "padding": null,
            "right": null,
            "top": null,
            "visibility": null,
            "width": null
          }
        },
        "6febadcf69734e74aeb6cf0dba0c2eae": {
          "model_module": "@jupyter-widgets/controls",
          "model_module_version": "1.5.0",
          "model_name": "FloatProgressModel",
          "state": {
            "_dom_classes": [],
            "_model_module": "@jupyter-widgets/controls",
            "_model_module_version": "1.5.0",
            "_model_name": "FloatProgressModel",
            "_view_count": null,
            "_view_module": "@jupyter-widgets/controls",
            "_view_module_version": "1.5.0",
            "_view_name": "ProgressView",
            "bar_style": "success",
            "description": "",
            "description_tooltip": null,
            "layout": "IPY_MODEL_af290fe98afe4ad4a56e6bf9bec27b06",
            "max": 973672,
            "min": 0,
            "orientation": "horizontal",
            "style": "IPY_MODEL_afb1df3e969c4ba3a56d18912d29aa88",
            "value": 973672
          }
        },
        "7034064814034eb8a8fc59d3c91f951d": {
          "model_module": "@jupyter-widgets/base",
          "model_module_version": "1.2.0",
          "model_name": "LayoutModel",
          "state": {
            "_model_module": "@jupyter-widgets/base",
            "_model_module_version": "1.2.0",
            "_model_name": "LayoutModel",
            "_view_count": null,
            "_view_module": "@jupyter-widgets/base",
            "_view_module_version": "1.2.0",
            "_view_name": "LayoutView",
            "align_content": null,
            "align_items": null,
            "align_self": null,
            "border": null,
            "bottom": null,
            "display": null,
            "flex": null,
            "flex_flow": null,
            "grid_area": null,
            "grid_auto_columns": null,
            "grid_auto_flow": null,
            "grid_auto_rows": null,
            "grid_column": null,
            "grid_gap": null,
            "grid_row": null,
            "grid_template_areas": null,
            "grid_template_columns": null,
            "grid_template_rows": null,
            "height": null,
            "justify_content": null,
            "justify_items": null,
            "left": null,
            "margin": null,
            "max_height": null,
            "max_width": null,
            "min_height": null,
            "min_width": null,
            "object_fit": null,
            "object_position": null,
            "order": null,
            "overflow": null,
            "overflow_x": null,
            "overflow_y": null,
            "padding": null,
            "right": null,
            "top": null,
            "visibility": null,
            "width": null
          }
        },
        "75c284d61edc492eb4d76c55c450bd53": {
          "model_module": "@jupyter-widgets/controls",
          "model_module_version": "1.5.0",
          "model_name": "FloatProgressModel",
          "state": {
            "_dom_classes": [],
            "_model_module": "@jupyter-widgets/controls",
            "_model_module_version": "1.5.0",
            "_model_name": "FloatProgressModel",
            "_view_count": null,
            "_view_module": "@jupyter-widgets/controls",
            "_view_module_version": "1.5.0",
            "_view_name": "ProgressView",
            "bar_style": "success",
            "description": "",
            "description_tooltip": null,
            "layout": "IPY_MODEL_2bb7c9ec947648a78c656c9695b8a801",
            "max": 90,
            "min": 0,
            "orientation": "horizontal",
            "style": "IPY_MODEL_857df3f412bb47719b2242e55ee816fe",
            "value": 90
          }
        },
        "77b8729876e147cb982aa6b6bef3e460": {
          "model_module": "@jupyter-widgets/controls",
          "model_module_version": "1.5.0",
          "model_name": "HTMLModel",
          "state": {
            "_dom_classes": [],
            "_model_module": "@jupyter-widgets/controls",
            "_model_module_version": "1.5.0",
            "_model_name": "HTMLModel",
            "_view_count": null,
            "_view_module": "@jupyter-widgets/controls",
            "_view_module_version": "1.5.0",
            "_view_name": "HTMLView",
            "description": "",
            "description_tooltip": null,
            "layout": "IPY_MODEL_e152ba3ab2b44b509b864863e5626e39",
            "placeholder": "​",
            "style": "IPY_MODEL_97b5c4f6e4aa45ef85cb08c9d1737fa0",
            "value": " 90.0/90.0 [00:00&lt;00:00, 1.68kB/s]"
          }
        },
        "7c91090e06614abdaec7638ad9262136": {
          "model_module": "@jupyter-widgets/controls",
          "model_module_version": "1.5.0",
          "model_name": "HTMLModel",
          "state": {
            "_dom_classes": [],
            "_model_module": "@jupyter-widgets/controls",
            "_model_module_version": "1.5.0",
            "_model_name": "HTMLModel",
            "_view_count": null,
            "_view_module": "@jupyter-widgets/controls",
            "_view_module_version": "1.5.0",
            "_view_name": "HTMLView",
            "description": "",
            "description_tooltip": null,
            "layout": "IPY_MODEL_4bb6f79affb64621bfabea06d6126f17",
            "placeholder": "​",
            "style": "IPY_MODEL_e1202025e7444d289f68ce5376657e21",
            "value": "Downloading: 100%"
          }
        },
        "7e25b56b7754425eaaa74d68a82cf859": {
          "model_module": "@jupyter-widgets/controls",
          "model_module_version": "1.5.0",
          "model_name": "DescriptionStyleModel",
          "state": {
            "_model_module": "@jupyter-widgets/controls",
            "_model_module_version": "1.5.0",
            "_model_name": "DescriptionStyleModel",
            "_view_count": null,
            "_view_module": "@jupyter-widgets/base",
            "_view_module_version": "1.2.0",
            "_view_name": "StyleView",
            "description_width": ""
          }
        },
        "804548dd92bf4f1d98d9a4bd054dc785": {
          "model_module": "@jupyter-widgets/base",
          "model_module_version": "1.2.0",
          "model_name": "LayoutModel",
          "state": {
            "_model_module": "@jupyter-widgets/base",
            "_model_module_version": "1.2.0",
            "_model_name": "LayoutModel",
            "_view_count": null,
            "_view_module": "@jupyter-widgets/base",
            "_view_module_version": "1.2.0",
            "_view_name": "LayoutView",
            "align_content": null,
            "align_items": null,
            "align_self": null,
            "border": null,
            "bottom": null,
            "display": null,
            "flex": null,
            "flex_flow": null,
            "grid_area": null,
            "grid_auto_columns": null,
            "grid_auto_flow": null,
            "grid_auto_rows": null,
            "grid_column": null,
            "grid_gap": null,
            "grid_row": null,
            "grid_template_areas": null,
            "grid_template_columns": null,
            "grid_template_rows": null,
            "height": null,
            "justify_content": null,
            "justify_items": null,
            "left": null,
            "margin": null,
            "max_height": null,
            "max_width": null,
            "min_height": null,
            "min_width": null,
            "object_fit": null,
            "object_position": null,
            "order": null,
            "overflow": null,
            "overflow_x": null,
            "overflow_y": null,
            "padding": null,
            "right": null,
            "top": null,
            "visibility": null,
            "width": null
          }
        },
        "818f4649957148c2abd086618da98f72": {
          "model_module": "@jupyter-widgets/controls",
          "model_module_version": "1.5.0",
          "model_name": "FloatProgressModel",
          "state": {
            "_dom_classes": [],
            "_model_module": "@jupyter-widgets/controls",
            "_model_module_version": "1.5.0",
            "_model_name": "FloatProgressModel",
            "_view_count": null,
            "_view_module": "@jupyter-widgets/controls",
            "_view_module_version": "1.5.0",
            "_view_name": "ProgressView",
            "bar_style": "success",
            "description": "",
            "description_tooltip": null,
            "layout": "IPY_MODEL_0d126062ddcb4fe1a58ed66bc2d325bb",
            "max": 1307,
            "min": 0,
            "orientation": "horizontal",
            "style": "IPY_MODEL_a81e032b270c4193b45c72c83a72408c",
            "value": 1307
          }
        },
        "857df3f412bb47719b2242e55ee816fe": {
          "model_module": "@jupyter-widgets/controls",
          "model_module_version": "1.5.0",
          "model_name": "ProgressStyleModel",
          "state": {
            "_model_module": "@jupyter-widgets/controls",
            "_model_module_version": "1.5.0",
            "_model_name": "ProgressStyleModel",
            "_view_count": null,
            "_view_module": "@jupyter-widgets/base",
            "_view_module_version": "1.2.0",
            "_view_name": "StyleView",
            "bar_color": null,
            "description_width": ""
          }
        },
        "8947a1533cae47c4a3cfe3a13d277106": {
          "model_module": "@jupyter-widgets/base",
          "model_module_version": "1.2.0",
          "model_name": "LayoutModel",
          "state": {
            "_model_module": "@jupyter-widgets/base",
            "_model_module_version": "1.2.0",
            "_model_name": "LayoutModel",
            "_view_count": null,
            "_view_module": "@jupyter-widgets/base",
            "_view_module_version": "1.2.0",
            "_view_name": "LayoutView",
            "align_content": null,
            "align_items": null,
            "align_self": null,
            "border": null,
            "bottom": null,
            "display": null,
            "flex": null,
            "flex_flow": null,
            "grid_area": null,
            "grid_auto_columns": null,
            "grid_auto_flow": null,
            "grid_auto_rows": null,
            "grid_column": null,
            "grid_gap": null,
            "grid_row": null,
            "grid_template_areas": null,
            "grid_template_columns": null,
            "grid_template_rows": null,
            "height": null,
            "justify_content": null,
            "justify_items": null,
            "left": null,
            "margin": null,
            "max_height": null,
            "max_width": null,
            "min_height": null,
            "min_width": null,
            "object_fit": null,
            "object_position": null,
            "order": null,
            "overflow": null,
            "overflow_x": null,
            "overflow_y": null,
            "padding": null,
            "right": null,
            "top": null,
            "visibility": null,
            "width": null
          }
        },
        "899bc9d38c7e4e179bc6797ee381061b": {
          "model_module": "@jupyter-widgets/controls",
          "model_module_version": "1.5.0",
          "model_name": "HBoxModel",
          "state": {
            "_dom_classes": [],
            "_model_module": "@jupyter-widgets/controls",
            "_model_module_version": "1.5.0",
            "_model_name": "HBoxModel",
            "_view_count": null,
            "_view_module": "@jupyter-widgets/controls",
            "_view_module_version": "1.5.0",
            "_view_name": "HBoxView",
            "box_style": "",
            "children": [
              "IPY_MODEL_7c91090e06614abdaec7638ad9262136",
              "IPY_MODEL_6febadcf69734e74aeb6cf0dba0c2eae",
              "IPY_MODEL_137a4c22b90f4c98aa083cd885aae68e"
            ],
            "layout": "IPY_MODEL_d10344ffc521409eab7e85d023519989"
          }
        },
        "8ab0945338d84c6cba45a2ec683a4b01": {
          "model_module": "@jupyter-widgets/controls",
          "model_module_version": "1.5.0",
          "model_name": "ProgressStyleModel",
          "state": {
            "_model_module": "@jupyter-widgets/controls",
            "_model_module_version": "1.5.0",
            "_model_name": "ProgressStyleModel",
            "_view_count": null,
            "_view_module": "@jupyter-widgets/base",
            "_view_module_version": "1.2.0",
            "_view_name": "StyleView",
            "bar_color": null,
            "description_width": ""
          }
        },
        "8be268135e644752b86b5ce3f65776e9": {
          "model_module": "@jupyter-widgets/base",
          "model_module_version": "1.2.0",
          "model_name": "LayoutModel",
          "state": {
            "_model_module": "@jupyter-widgets/base",
            "_model_module_version": "1.2.0",
            "_model_name": "LayoutModel",
            "_view_count": null,
            "_view_module": "@jupyter-widgets/base",
            "_view_module_version": "1.2.0",
            "_view_name": "LayoutView",
            "align_content": null,
            "align_items": null,
            "align_self": null,
            "border": null,
            "bottom": null,
            "display": null,
            "flex": null,
            "flex_flow": null,
            "grid_area": null,
            "grid_auto_columns": null,
            "grid_auto_flow": null,
            "grid_auto_rows": null,
            "grid_column": null,
            "grid_gap": null,
            "grid_row": null,
            "grid_template_areas": null,
            "grid_template_columns": null,
            "grid_template_rows": null,
            "height": null,
            "justify_content": null,
            "justify_items": null,
            "left": null,
            "margin": null,
            "max_height": null,
            "max_width": null,
            "min_height": null,
            "min_width": null,
            "object_fit": null,
            "object_position": null,
            "order": null,
            "overflow": null,
            "overflow_x": null,
            "overflow_y": null,
            "padding": null,
            "right": null,
            "top": null,
            "visibility": null,
            "width": null
          }
        },
        "93102c4d21da405485a8e891928b7c18": {
          "model_module": "@jupyter-widgets/base",
          "model_module_version": "1.2.0",
          "model_name": "LayoutModel",
          "state": {
            "_model_module": "@jupyter-widgets/base",
            "_model_module_version": "1.2.0",
            "_model_name": "LayoutModel",
            "_view_count": null,
            "_view_module": "@jupyter-widgets/base",
            "_view_module_version": "1.2.0",
            "_view_name": "LayoutView",
            "align_content": null,
            "align_items": null,
            "align_self": null,
            "border": null,
            "bottom": null,
            "display": null,
            "flex": null,
            "flex_flow": null,
            "grid_area": null,
            "grid_auto_columns": null,
            "grid_auto_flow": null,
            "grid_auto_rows": null,
            "grid_column": null,
            "grid_gap": null,
            "grid_row": null,
            "grid_template_areas": null,
            "grid_template_columns": null,
            "grid_template_rows": null,
            "height": null,
            "justify_content": null,
            "justify_items": null,
            "left": null,
            "margin": null,
            "max_height": null,
            "max_width": null,
            "min_height": null,
            "min_width": null,
            "object_fit": null,
            "object_position": null,
            "order": null,
            "overflow": null,
            "overflow_x": null,
            "overflow_y": null,
            "padding": null,
            "right": null,
            "top": null,
            "visibility": null,
            "width": null
          }
        },
        "97b5c4f6e4aa45ef85cb08c9d1737fa0": {
          "model_module": "@jupyter-widgets/controls",
          "model_module_version": "1.5.0",
          "model_name": "DescriptionStyleModel",
          "state": {
            "_model_module": "@jupyter-widgets/controls",
            "_model_module_version": "1.5.0",
            "_model_name": "DescriptionStyleModel",
            "_view_count": null,
            "_view_module": "@jupyter-widgets/base",
            "_view_module_version": "1.2.0",
            "_view_name": "StyleView",
            "description_width": ""
          }
        },
        "983a4c7bc584422094bb33ea9daa73c5": {
          "model_module": "@jupyter-widgets/controls",
          "model_module_version": "1.5.0",
          "model_name": "DescriptionStyleModel",
          "state": {
            "_model_module": "@jupyter-widgets/controls",
            "_model_module_version": "1.5.0",
            "_model_name": "DescriptionStyleModel",
            "_view_count": null,
            "_view_module": "@jupyter-widgets/base",
            "_view_module_version": "1.2.0",
            "_view_name": "StyleView",
            "description_width": ""
          }
        },
        "a2eee1c1962b4db9a716c8aa5558eceb": {
          "model_module": "@jupyter-widgets/controls",
          "model_module_version": "1.5.0",
          "model_name": "HBoxModel",
          "state": {
            "_dom_classes": [],
            "_model_module": "@jupyter-widgets/controls",
            "_model_module_version": "1.5.0",
            "_model_name": "HBoxModel",
            "_view_count": null,
            "_view_module": "@jupyter-widgets/controls",
            "_view_module_version": "1.5.0",
            "_view_name": "HBoxView",
            "box_style": "",
            "children": [
              "IPY_MODEL_06226d192abb4b3e864fb1ab6168466a",
              "IPY_MODEL_ae84b43fc0d44671b9131f9a162d49f6",
              "IPY_MODEL_ec119a47af1141ffbdf74fe5484eeea8"
            ],
            "layout": "IPY_MODEL_eedd7ddd48d14135a03b4c475f7dc233"
          }
        },
        "a61f5a31fbec4c37948fe8c4652622ab": {
          "model_module": "@jupyter-widgets/controls",
          "model_module_version": "1.5.0",
          "model_name": "HTMLModel",
          "state": {
            "_dom_classes": [],
            "_model_module": "@jupyter-widgets/controls",
            "_model_module_version": "1.5.0",
            "_model_name": "HTMLModel",
            "_view_count": null,
            "_view_module": "@jupyter-widgets/controls",
            "_view_module_version": "1.5.0",
            "_view_name": "HTMLView",
            "description": "",
            "description_tooltip": null,
            "layout": "IPY_MODEL_f66f2e36981a42728d20f53fad2e790d",
            "placeholder": "​",
            "style": "IPY_MODEL_2cc7fda1551b4c5caa7a2609945b002d",
            "value": "Downloading: 100%"
          }
        },
        "a81e032b270c4193b45c72c83a72408c": {
          "model_module": "@jupyter-widgets/controls",
          "model_module_version": "1.5.0",
          "model_name": "ProgressStyleModel",
          "state": {
            "_model_module": "@jupyter-widgets/controls",
            "_model_module_version": "1.5.0",
            "_model_name": "ProgressStyleModel",
            "_view_count": null,
            "_view_module": "@jupyter-widgets/base",
            "_view_module_version": "1.2.0",
            "_view_name": "StyleView",
            "bar_color": null,
            "description_width": ""
          }
        },
        "ae84b43fc0d44671b9131f9a162d49f6": {
          "model_module": "@jupyter-widgets/controls",
          "model_module_version": "1.5.0",
          "model_name": "FloatProgressModel",
          "state": {
            "_dom_classes": [],
            "_model_module": "@jupyter-widgets/controls",
            "_model_module_version": "1.5.0",
            "_model_name": "FloatProgressModel",
            "_view_count": null,
            "_view_module": "@jupyter-widgets/controls",
            "_view_module_version": "1.5.0",
            "_view_name": "ProgressView",
            "bar_style": "success",
            "description": "",
            "description_tooltip": null,
            "layout": "IPY_MODEL_93102c4d21da405485a8e891928b7c18",
            "max": 2,
            "min": 0,
            "orientation": "horizontal",
            "style": "IPY_MODEL_d748fe37d1934809aae6e5afc6d9ccc5",
            "value": 2
          }
        },
        "af290fe98afe4ad4a56e6bf9bec27b06": {
          "model_module": "@jupyter-widgets/base",
          "model_module_version": "1.2.0",
          "model_name": "LayoutModel",
          "state": {
            "_model_module": "@jupyter-widgets/base",
            "_model_module_version": "1.2.0",
            "_model_name": "LayoutModel",
            "_view_count": null,
            "_view_module": "@jupyter-widgets/base",
            "_view_module_version": "1.2.0",
            "_view_name": "LayoutView",
            "align_content": null,
            "align_items": null,
            "align_self": null,
            "border": null,
            "bottom": null,
            "display": null,
            "flex": null,
            "flex_flow": null,
            "grid_area": null,
            "grid_auto_columns": null,
            "grid_auto_flow": null,
            "grid_auto_rows": null,
            "grid_column": null,
            "grid_gap": null,
            "grid_row": null,
            "grid_template_areas": null,
            "grid_template_columns": null,
            "grid_template_rows": null,
            "height": null,
            "justify_content": null,
            "justify_items": null,
            "left": null,
            "margin": null,
            "max_height": null,
            "max_width": null,
            "min_height": null,
            "min_width": null,
            "object_fit": null,
            "object_position": null,
            "order": null,
            "overflow": null,
            "overflow_x": null,
            "overflow_y": null,
            "padding": null,
            "right": null,
            "top": null,
            "visibility": null,
            "width": null
          }
        },
        "afb1df3e969c4ba3a56d18912d29aa88": {
          "model_module": "@jupyter-widgets/controls",
          "model_module_version": "1.5.0",
          "model_name": "ProgressStyleModel",
          "state": {
            "_model_module": "@jupyter-widgets/controls",
            "_model_module_version": "1.5.0",
            "_model_name": "ProgressStyleModel",
            "_view_count": null,
            "_view_module": "@jupyter-widgets/base",
            "_view_module_version": "1.2.0",
            "_view_name": "StyleView",
            "bar_color": null,
            "description_width": ""
          }
        },
        "b91db0b9a2d0488480ad4a9d552af21d": {
          "model_module": "@jupyter-widgets/controls",
          "model_module_version": "1.5.0",
          "model_name": "HBoxModel",
          "state": {
            "_dom_classes": [],
            "_model_module": "@jupyter-widgets/controls",
            "_model_module_version": "1.5.0",
            "_model_name": "HBoxModel",
            "_view_count": null,
            "_view_module": "@jupyter-widgets/controls",
            "_view_module_version": "1.5.0",
            "_view_name": "HBoxView",
            "box_style": "",
            "children": [
              "IPY_MODEL_c1fbd6fc971043e0bc17688da149a7a7",
              "IPY_MODEL_75c284d61edc492eb4d76c55c450bd53",
              "IPY_MODEL_77b8729876e147cb982aa6b6bef3e460"
            ],
            "layout": "IPY_MODEL_6f221a582fb146e78004eea62bbeb49f"
          }
        },
        "c07081ad1c374df38880b4fabeac13af": {
          "model_module": "@jupyter-widgets/controls",
          "model_module_version": "1.5.0",
          "model_name": "DescriptionStyleModel",
          "state": {
            "_model_module": "@jupyter-widgets/controls",
            "_model_module_version": "1.5.0",
            "_model_name": "DescriptionStyleModel",
            "_view_count": null,
            "_view_module": "@jupyter-widgets/base",
            "_view_module_version": "1.2.0",
            "_view_name": "StyleView",
            "description_width": ""
          }
        },
        "c1fbd6fc971043e0bc17688da149a7a7": {
          "model_module": "@jupyter-widgets/controls",
          "model_module_version": "1.5.0",
          "model_name": "HTMLModel",
          "state": {
            "_dom_classes": [],
            "_model_module": "@jupyter-widgets/controls",
            "_model_module_version": "1.5.0",
            "_model_name": "HTMLModel",
            "_view_count": null,
            "_view_module": "@jupyter-widgets/controls",
            "_view_module_version": "1.5.0",
            "_view_name": "HTMLView",
            "description": "",
            "description_tooltip": null,
            "layout": "IPY_MODEL_fcfbbe094daf45a7ac25fab9fe9977e7",
            "placeholder": "​",
            "style": "IPY_MODEL_4712b6b49d9949c090878216e339bc53",
            "value": "Downloading: 100%"
          }
        },
        "ce02f4d44d8246ebaa62e415a376f0fd": {
          "model_module": "@jupyter-widgets/base",
          "model_module_version": "1.2.0",
          "model_name": "LayoutModel",
          "state": {
            "_model_module": "@jupyter-widgets/base",
            "_model_module_version": "1.2.0",
            "_model_name": "LayoutModel",
            "_view_count": null,
            "_view_module": "@jupyter-widgets/base",
            "_view_module_version": "1.2.0",
            "_view_name": "LayoutView",
            "align_content": null,
            "align_items": null,
            "align_self": null,
            "border": null,
            "bottom": null,
            "display": null,
            "flex": null,
            "flex_flow": null,
            "grid_area": null,
            "grid_auto_columns": null,
            "grid_auto_flow": null,
            "grid_auto_rows": null,
            "grid_column": null,
            "grid_gap": null,
            "grid_row": null,
            "grid_template_areas": null,
            "grid_template_columns": null,
            "grid_template_rows": null,
            "height": null,
            "justify_content": null,
            "justify_items": null,
            "left": null,
            "margin": null,
            "max_height": null,
            "max_width": null,
            "min_height": null,
            "min_width": null,
            "object_fit": null,
            "object_position": null,
            "order": null,
            "overflow": null,
            "overflow_x": null,
            "overflow_y": null,
            "padding": null,
            "right": null,
            "top": null,
            "visibility": null,
            "width": null
          }
        },
        "cfe012b0aece44b78b8b0f730bc4095d": {
          "model_module": "@jupyter-widgets/base",
          "model_module_version": "1.2.0",
          "model_name": "LayoutModel",
          "state": {
            "_model_module": "@jupyter-widgets/base",
            "_model_module_version": "1.2.0",
            "_model_name": "LayoutModel",
            "_view_count": null,
            "_view_module": "@jupyter-widgets/base",
            "_view_module_version": "1.2.0",
            "_view_name": "LayoutView",
            "align_content": null,
            "align_items": null,
            "align_self": null,
            "border": null,
            "bottom": null,
            "display": null,
            "flex": null,
            "flex_flow": null,
            "grid_area": null,
            "grid_auto_columns": null,
            "grid_auto_flow": null,
            "grid_auto_rows": null,
            "grid_column": null,
            "grid_gap": null,
            "grid_row": null,
            "grid_template_areas": null,
            "grid_template_columns": null,
            "grid_template_rows": null,
            "height": null,
            "justify_content": null,
            "justify_items": null,
            "left": null,
            "margin": null,
            "max_height": null,
            "max_width": null,
            "min_height": null,
            "min_width": null,
            "object_fit": null,
            "object_position": null,
            "order": null,
            "overflow": null,
            "overflow_x": null,
            "overflow_y": null,
            "padding": null,
            "right": null,
            "top": null,
            "visibility": null,
            "width": null
          }
        },
        "d10344ffc521409eab7e85d023519989": {
          "model_module": "@jupyter-widgets/base",
          "model_module_version": "1.2.0",
          "model_name": "LayoutModel",
          "state": {
            "_model_module": "@jupyter-widgets/base",
            "_model_module_version": "1.2.0",
            "_model_name": "LayoutModel",
            "_view_count": null,
            "_view_module": "@jupyter-widgets/base",
            "_view_module_version": "1.2.0",
            "_view_name": "LayoutView",
            "align_content": null,
            "align_items": null,
            "align_self": null,
            "border": null,
            "bottom": null,
            "display": null,
            "flex": null,
            "flex_flow": null,
            "grid_area": null,
            "grid_auto_columns": null,
            "grid_auto_flow": null,
            "grid_auto_rows": null,
            "grid_column": null,
            "grid_gap": null,
            "grid_row": null,
            "grid_template_areas": null,
            "grid_template_columns": null,
            "grid_template_rows": null,
            "height": null,
            "justify_content": null,
            "justify_items": null,
            "left": null,
            "margin": null,
            "max_height": null,
            "max_width": null,
            "min_height": null,
            "min_width": null,
            "object_fit": null,
            "object_position": null,
            "order": null,
            "overflow": null,
            "overflow_x": null,
            "overflow_y": null,
            "padding": null,
            "right": null,
            "top": null,
            "visibility": null,
            "width": null
          }
        },
        "d210c90a70c64870a10744d02ed9d9d7": {
          "model_module": "@jupyter-widgets/controls",
          "model_module_version": "1.5.0",
          "model_name": "DescriptionStyleModel",
          "state": {
            "_model_module": "@jupyter-widgets/controls",
            "_model_module_version": "1.5.0",
            "_model_name": "DescriptionStyleModel",
            "_view_count": null,
            "_view_module": "@jupyter-widgets/base",
            "_view_module_version": "1.2.0",
            "_view_name": "StyleView",
            "description_width": ""
          }
        },
        "d274c5001b22429e89a66134c9350267": {
          "model_module": "@jupyter-widgets/base",
          "model_module_version": "1.2.0",
          "model_name": "LayoutModel",
          "state": {
            "_model_module": "@jupyter-widgets/base",
            "_model_module_version": "1.2.0",
            "_model_name": "LayoutModel",
            "_view_count": null,
            "_view_module": "@jupyter-widgets/base",
            "_view_module_version": "1.2.0",
            "_view_name": "LayoutView",
            "align_content": null,
            "align_items": null,
            "align_self": null,
            "border": null,
            "bottom": null,
            "display": null,
            "flex": null,
            "flex_flow": null,
            "grid_area": null,
            "grid_auto_columns": null,
            "grid_auto_flow": null,
            "grid_auto_rows": null,
            "grid_column": null,
            "grid_gap": null,
            "grid_row": null,
            "grid_template_areas": null,
            "grid_template_columns": null,
            "grid_template_rows": null,
            "height": null,
            "justify_content": null,
            "justify_items": null,
            "left": null,
            "margin": null,
            "max_height": null,
            "max_width": null,
            "min_height": null,
            "min_width": null,
            "object_fit": null,
            "object_position": null,
            "order": null,
            "overflow": null,
            "overflow_x": null,
            "overflow_y": null,
            "padding": null,
            "right": null,
            "top": null,
            "visibility": null,
            "width": null
          }
        },
        "d748fe37d1934809aae6e5afc6d9ccc5": {
          "model_module": "@jupyter-widgets/controls",
          "model_module_version": "1.5.0",
          "model_name": "ProgressStyleModel",
          "state": {
            "_model_module": "@jupyter-widgets/controls",
            "_model_module_version": "1.5.0",
            "_model_name": "ProgressStyleModel",
            "_view_count": null,
            "_view_module": "@jupyter-widgets/base",
            "_view_module_version": "1.2.0",
            "_view_name": "StyleView",
            "bar_color": null,
            "description_width": ""
          }
        },
        "db72d1507c524b048c4c4c26e5e80ae2": {
          "model_module": "@jupyter-widgets/controls",
          "model_module_version": "1.5.0",
          "model_name": "FloatProgressModel",
          "state": {
            "_dom_classes": [],
            "_model_module": "@jupyter-widgets/controls",
            "_model_module_version": "1.5.0",
            "_model_name": "FloatProgressModel",
            "_view_count": null,
            "_view_module": "@jupyter-widgets/controls",
            "_view_module_version": "1.5.0",
            "_view_name": "ProgressView",
            "bar_style": "success",
            "description": "",
            "description_tooltip": null,
            "layout": "IPY_MODEL_cfe012b0aece44b78b8b0f730bc4095d",
            "max": 531531,
            "min": 0,
            "orientation": "horizontal",
            "style": "IPY_MODEL_8ab0945338d84c6cba45a2ec683a4b01",
            "value": 531531
          }
        },
        "e1202025e7444d289f68ce5376657e21": {
          "model_module": "@jupyter-widgets/controls",
          "model_module_version": "1.5.0",
          "model_name": "DescriptionStyleModel",
          "state": {
            "_model_module": "@jupyter-widgets/controls",
            "_model_module_version": "1.5.0",
            "_model_name": "DescriptionStyleModel",
            "_view_count": null,
            "_view_module": "@jupyter-widgets/base",
            "_view_module_version": "1.2.0",
            "_view_name": "StyleView",
            "description_width": ""
          }
        },
        "e152ba3ab2b44b509b864863e5626e39": {
          "model_module": "@jupyter-widgets/base",
          "model_module_version": "1.2.0",
          "model_name": "LayoutModel",
          "state": {
            "_model_module": "@jupyter-widgets/base",
            "_model_module_version": "1.2.0",
            "_model_name": "LayoutModel",
            "_view_count": null,
            "_view_module": "@jupyter-widgets/base",
            "_view_module_version": "1.2.0",
            "_view_name": "LayoutView",
            "align_content": null,
            "align_items": null,
            "align_self": null,
            "border": null,
            "bottom": null,
            "display": null,
            "flex": null,
            "flex_flow": null,
            "grid_area": null,
            "grid_auto_columns": null,
            "grid_auto_flow": null,
            "grid_auto_rows": null,
            "grid_column": null,
            "grid_gap": null,
            "grid_row": null,
            "grid_template_areas": null,
            "grid_template_columns": null,
            "grid_template_rows": null,
            "height": null,
            "justify_content": null,
            "justify_items": null,
            "left": null,
            "margin": null,
            "max_height": null,
            "max_width": null,
            "min_height": null,
            "min_width": null,
            "object_fit": null,
            "object_position": null,
            "order": null,
            "overflow": null,
            "overflow_x": null,
            "overflow_y": null,
            "padding": null,
            "right": null,
            "top": null,
            "visibility": null,
            "width": null
          }
        },
        "ec119a47af1141ffbdf74fe5484eeea8": {
          "model_module": "@jupyter-widgets/controls",
          "model_module_version": "1.5.0",
          "model_name": "HTMLModel",
          "state": {
            "_dom_classes": [],
            "_model_module": "@jupyter-widgets/controls",
            "_model_module_version": "1.5.0",
            "_model_name": "HTMLModel",
            "_view_count": null,
            "_view_module": "@jupyter-widgets/controls",
            "_view_module_version": "1.5.0",
            "_view_name": "HTMLView",
            "description": "",
            "description_tooltip": null,
            "layout": "IPY_MODEL_43f1456435ba439b963337bde9b6654a",
            "placeholder": "​",
            "style": "IPY_MODEL_65a60645ab04443aa738b0581847eee4",
            "value": " 2.00/2.00 [00:00&lt;00:00, 28.5B/s]"
          }
        },
        "eedd7ddd48d14135a03b4c475f7dc233": {
          "model_module": "@jupyter-widgets/base",
          "model_module_version": "1.2.0",
          "model_name": "LayoutModel",
          "state": {
            "_model_module": "@jupyter-widgets/base",
            "_model_module_version": "1.2.0",
            "_model_name": "LayoutModel",
            "_view_count": null,
            "_view_module": "@jupyter-widgets/base",
            "_view_module_version": "1.2.0",
            "_view_name": "LayoutView",
            "align_content": null,
            "align_items": null,
            "align_self": null,
            "border": null,
            "bottom": null,
            "display": null,
            "flex": null,
            "flex_flow": null,
            "grid_area": null,
            "grid_auto_columns": null,
            "grid_auto_flow": null,
            "grid_auto_rows": null,
            "grid_column": null,
            "grid_gap": null,
            "grid_row": null,
            "grid_template_areas": null,
            "grid_template_columns": null,
            "grid_template_rows": null,
            "height": null,
            "justify_content": null,
            "justify_items": null,
            "left": null,
            "margin": null,
            "max_height": null,
            "max_width": null,
            "min_height": null,
            "min_width": null,
            "object_fit": null,
            "object_position": null,
            "order": null,
            "overflow": null,
            "overflow_x": null,
            "overflow_y": null,
            "padding": null,
            "right": null,
            "top": null,
            "visibility": null,
            "width": null
          }
        },
        "f20b3052ff744e499c669bd06a9dcb1e": {
          "model_module": "@jupyter-widgets/controls",
          "model_module_version": "1.5.0",
          "model_name": "HTMLModel",
          "state": {
            "_dom_classes": [],
            "_model_module": "@jupyter-widgets/controls",
            "_model_module_version": "1.5.0",
            "_model_name": "HTMLModel",
            "_view_count": null,
            "_view_module": "@jupyter-widgets/controls",
            "_view_module_version": "1.5.0",
            "_view_name": "HTMLView",
            "description": "",
            "description_tooltip": null,
            "layout": "IPY_MODEL_5162c8dda9d84a0684e5a38362bb9d17",
            "placeholder": "​",
            "style": "IPY_MODEL_d210c90a70c64870a10744d02ed9d9d7",
            "value": " 523M/523M [00:14&lt;00:00, 31.5MB/s]"
          }
        },
        "f5cba4dfbddc41b191cb370ea5d69c18": {
          "model_module": "@jupyter-widgets/controls",
          "model_module_version": "1.5.0",
          "model_name": "HTMLModel",
          "state": {
            "_dom_classes": [],
            "_model_module": "@jupyter-widgets/controls",
            "_model_module_version": "1.5.0",
            "_model_name": "HTMLModel",
            "_view_count": null,
            "_view_module": "@jupyter-widgets/controls",
            "_view_module_version": "1.5.0",
            "_view_name": "HTMLView",
            "description": "",
            "description_tooltip": null,
            "layout": "IPY_MODEL_7034064814034eb8a8fc59d3c91f951d",
            "placeholder": "​",
            "style": "IPY_MODEL_983a4c7bc584422094bb33ea9daa73c5",
            "value": "Downloading: 100%"
          }
        },
        "f66f2e36981a42728d20f53fad2e790d": {
          "model_module": "@jupyter-widgets/base",
          "model_module_version": "1.2.0",
          "model_name": "LayoutModel",
          "state": {
            "_model_module": "@jupyter-widgets/base",
            "_model_module_version": "1.2.0",
            "_model_name": "LayoutModel",
            "_view_count": null,
            "_view_module": "@jupyter-widgets/base",
            "_view_module_version": "1.2.0",
            "_view_name": "LayoutView",
            "align_content": null,
            "align_items": null,
            "align_self": null,
            "border": null,
            "bottom": null,
            "display": null,
            "flex": null,
            "flex_flow": null,
            "grid_area": null,
            "grid_auto_columns": null,
            "grid_auto_flow": null,
            "grid_auto_rows": null,
            "grid_column": null,
            "grid_gap": null,
            "grid_row": null,
            "grid_template_areas": null,
            "grid_template_columns": null,
            "grid_template_rows": null,
            "height": null,
            "justify_content": null,
            "justify_items": null,
            "left": null,
            "margin": null,
            "max_height": null,
            "max_width": null,
            "min_height": null,
            "min_width": null,
            "object_fit": null,
            "object_position": null,
            "order": null,
            "overflow": null,
            "overflow_x": null,
            "overflow_y": null,
            "padding": null,
            "right": null,
            "top": null,
            "visibility": null,
            "width": null
          }
        },
        "fcfbbe094daf45a7ac25fab9fe9977e7": {
          "model_module": "@jupyter-widgets/base",
          "model_module_version": "1.2.0",
          "model_name": "LayoutModel",
          "state": {
            "_model_module": "@jupyter-widgets/base",
            "_model_module_version": "1.2.0",
            "_model_name": "LayoutModel",
            "_view_count": null,
            "_view_module": "@jupyter-widgets/base",
            "_view_module_version": "1.2.0",
            "_view_name": "LayoutView",
            "align_content": null,
            "align_items": null,
            "align_self": null,
            "border": null,
            "bottom": null,
            "display": null,
            "flex": null,
            "flex_flow": null,
            "grid_area": null,
            "grid_auto_columns": null,
            "grid_auto_flow": null,
            "grid_auto_rows": null,
            "grid_column": null,
            "grid_gap": null,
            "grid_row": null,
            "grid_template_areas": null,
            "grid_template_columns": null,
            "grid_template_rows": null,
            "height": null,
            "justify_content": null,
            "justify_items": null,
            "left": null,
            "margin": null,
            "max_height": null,
            "max_width": null,
            "min_height": null,
            "min_width": null,
            "object_fit": null,
            "object_position": null,
            "order": null,
            "overflow": null,
            "overflow_x": null,
            "overflow_y": null,
            "padding": null,
            "right": null,
            "top": null,
            "visibility": null,
            "width": null
          }
        }
      }
    }
  },
  "nbformat": 4,
  "nbformat_minor": 0
}